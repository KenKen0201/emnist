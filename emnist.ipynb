{
 "cells": [
  {
   "cell_type": "markdown",
   "metadata": {},
   "source": [
    "# EMNIST digit classification"
   ]
  },
  {
   "attachments": {},
   "cell_type": "markdown",
   "metadata": {},
   "source": [
    "## Results of this model on MNIST test data: \n",
    "1. 0.22% test error rate with ensemble of 10 CNNs\n",
    "2. 0.21% test error rate with ensemble of 6 selected CNNs\n",
    "3. 0.26% test error rate for best single model (model was trained for a few more epochs)\n",
    "\n",
    "## Test error rates of this model on EMNIST test data: \n",
    "Initial learning rate for all further training was set to 0.0001. All test error rates in percent.\n",
    "\n",
    "MNIST +16 epochs on EMNIST training dataset (weights saved as +16)\n",
    "1. 0.22249817848205566 Ensemble of 10 CNNs\n",
    "2. 0.20499825477600098 Ensemble of models 0,2,7,9\n",
    "\n",
    "MNIST +20 epochs on EMNIST training dataset (weights saved as +20):\n",
    "1. 0.21250247955322266 Ensemble of 10 CNNs\n",
    "\n",
    "MNIST +24 epochs on EMNIST training dataset (weights saved as +24):\n",
    "1. 0.20999908447265625 Ensemble of 10 CNNs\n",
    "2. 0.1999974250793457  Ensemble of models 0,2,7,9\n",
    "3. __0.19500255584716797 Ensemble of models 0,1,2,7,9__\n",
    "\n",
    "MNIST +28 epochs on EMNIST training dataset (weights saved as +28):\n",
    "1. 0.21250247955322266 Ensemble of 10 CNNs\n",
    "\n",
    "MNIST +32 epochs on EMNIST training dataset (weights saved as +32):\n",
    "1. 0.21499991416931152 Ensemble of 10 CNNs\n",
    "2. __0,217497348785 Single model (1)__\n",
    "\n",
    "Best result with __ensemble of models 0,1,2,7,9 after +24 epochs__ with an __accuracy of 99,805%__. Best single model (1) after +32 epochs with an accuracy of 99,782%. Further improvement seems unlikely with this model."
   ]
  },
  {
   "cell_type": "code",
   "execution_count": 1,
   "metadata": {
    "collapsed": true
   },
   "outputs": [],
   "source": [
    "%matplotlib inline"
   ]
  },
  {
   "cell_type": "code",
   "execution_count": 2,
   "metadata": {
    "scrolled": true
   },
   "outputs": [
    {
     "name": "stderr",
     "output_type": "stream",
     "text": [
      "Using Theano backend.\n",
      "WARNING (theano.sandbox.cuda): The cuda backend is deprecated and will be removed in the next release (v0.10).  Please switch to the gpuarray backend. You can get more information about how to switch at this URL:\n",
      " https://github.com/Theano/Theano/wiki/Converting-to-the-new-gpu-back-end%28gpuarray%29\n",
      "\n",
      "Using gpu device 0: GeForce GTX 1070 (CNMeM is enabled with initial size: 90.0% of memory, cuDNN 5103)\n"
     ]
    }
   ],
   "source": [
    "import keras\n",
    "import numpy as np\n",
    "from keras.datasets import mnist\n",
    "from keras.layers import Dense, Dropout, Conv2D, MaxPooling2D\n",
    "from keras.layers import Flatten, Lambda, BatchNormalization\n",
    "from keras.models import Sequential\n",
    "from keras.optimizers import Adam as Adam\n",
    "\n",
    "# try leaky relu\n",
    "from keras.layers.advanced_activations import LeakyReLU"
   ]
  },
  {
   "cell_type": "markdown",
   "metadata": {},
   "source": [
    "# Load MNIST dataset"
   ]
  },
  {
   "cell_type": "code",
   "execution_count": 4,
   "metadata": {
    "collapsed": true
   },
   "outputs": [],
   "source": [
    "(x_train, y_train), (x_test, y_test) = mnist.load_data()\n",
    "\n",
    "# store labels on test set for visualization\n",
    "test_labels = y_test"
   ]
  },
  {
   "cell_type": "code",
   "execution_count": 6,
   "metadata": {},
   "outputs": [
    {
     "data": {
      "text/plain": [
       "(60000, 28, 28)"
      ]
     },
     "execution_count": 6,
     "metadata": {},
     "output_type": "execute_result"
    }
   ],
   "source": [
    "x_train.shape"
   ]
  },
  {
   "cell_type": "code",
   "execution_count": 7,
   "metadata": {},
   "outputs": [
    {
     "data": {
      "text/plain": [
       "(60000, 1, 28, 28)"
      ]
     },
     "execution_count": 7,
     "metadata": {},
     "output_type": "execute_result"
    }
   ],
   "source": [
    "# vgg expects channels - here we have just one\n",
    "x_train = x_train.reshape(x_train.shape[0], 1, 28, 28)\n",
    "x_test = x_test.reshape(x_test.shape[0], 1, 28, 28)\n",
    "x_train.shape"
   ]
  },
  {
   "cell_type": "code",
   "execution_count": 8,
   "metadata": {
    "collapsed": true
   },
   "outputs": [],
   "source": [
    "# convert to float\n",
    "x_train = x_train.astype(np.float32)\n",
    "x_test = x_test.astype(np.float32)\n",
    "\n",
    "# normalize\n",
    "x_train /= 255\n",
    "x_test /= 255"
   ]
  },
  {
   "cell_type": "code",
   "execution_count": 9,
   "metadata": {},
   "outputs": [
    {
     "data": {
      "text/plain": [
       "(60000,)"
      ]
     },
     "execution_count": 9,
     "metadata": {},
     "output_type": "execute_result"
    }
   ],
   "source": [
    "y_train.shape"
   ]
  },
  {
   "cell_type": "code",
   "execution_count": 10,
   "metadata": {},
   "outputs": [
    {
     "data": {
      "text/plain": [
       "(60000, 10)"
      ]
     },
     "execution_count": 10,
     "metadata": {},
     "output_type": "execute_result"
    }
   ],
   "source": [
    "# labels should be onehot encoded\n",
    "y_train = keras.utils.to_categorical(y_train, 10)\n",
    "y_test = keras.utils.to_categorical(y_test, 10)\n",
    "\n",
    "y_train.shape"
   ]
  },
  {
   "cell_type": "code",
   "execution_count": 11,
   "metadata": {
    "scrolled": false
   },
   "outputs": [
    {
     "data": {
      "text/plain": [
       "array([[ 0.,  0.,  0.,  0.,  0.,  1.,  0.,  0.,  0.,  0.],\n",
       "       [ 1.,  0.,  0.,  0.,  0.,  0.,  0.,  0.,  0.,  0.],\n",
       "       [ 0.,  0.,  0.,  0.,  1.,  0.,  0.,  0.,  0.,  0.],\n",
       "       [ 0.,  1.,  0.,  0.,  0.,  0.,  0.,  0.,  0.,  0.],\n",
       "       [ 0.,  0.,  0.,  0.,  0.,  0.,  0.,  0.,  0.,  1.]])"
      ]
     },
     "execution_count": 11,
     "metadata": {},
     "output_type": "execute_result"
    }
   ],
   "source": [
    "y_train[:5]"
   ]
  },
  {
   "cell_type": "markdown",
   "metadata": {},
   "source": [
    "# Load EMNIST dataset\n",
    "Introduced by https://arxiv.org/abs/1702.05373v1 downloaded from https://www.nist.gov/itl/iad/image-group/emnist-dataset (Matlab format dataset). The matlab format dataset can be conveniently imported with scipy.io.loadmat."
   ]
  },
  {
   "cell_type": "code",
   "execution_count": 3,
   "metadata": {
    "collapsed": true
   },
   "outputs": [],
   "source": [
    "from scipy import io as spio"
   ]
  },
  {
   "cell_type": "code",
   "execution_count": 4,
   "metadata": {
    "collapsed": true
   },
   "outputs": [],
   "source": [
    "emnist = spio.loadmat(\"datasets/matlab/emnist-digits.mat\")"
   ]
  },
  {
   "cell_type": "code",
   "execution_count": 5,
   "metadata": {
    "collapsed": true
   },
   "outputs": [],
   "source": [
    "# load training dataset\n",
    "X_train_emnist = emnist[\"dataset\"][0][0][0][0][0][0]\n",
    "X_train_emnist = X_train_emnist.astype(np.float32)\n",
    "\n",
    "# load training labels\n",
    "y_train_emnist = emnist[\"dataset\"][0][0][0][0][0][1]"
   ]
  },
  {
   "cell_type": "code",
   "execution_count": 6,
   "metadata": {
    "collapsed": true
   },
   "outputs": [],
   "source": [
    "# load test dataset\n",
    "X_test_emnist = emnist[\"dataset\"][0][0][1][0][0][0]\n",
    "X_test_emnist = X_test_emnist.astype(np.float32)\n",
    "\n",
    "# load test labels\n",
    "y_test_emnist = emnist[\"dataset\"][0][0][1][0][0][1]"
   ]
  },
  {
   "cell_type": "code",
   "execution_count": 7,
   "metadata": {
    "collapsed": true
   },
   "outputs": [],
   "source": [
    "# store labels for visualization\n",
    "train_labels_emnist = y_train_emnist\n",
    "test_labels_emnist = y_test_emnist"
   ]
  },
  {
   "cell_type": "code",
   "execution_count": 8,
   "metadata": {},
   "outputs": [
    {
     "data": {
      "text/plain": [
       "(240000, 784)"
      ]
     },
     "execution_count": 8,
     "metadata": {},
     "output_type": "execute_result"
    }
   ],
   "source": [
    "X_train_emnist.shape"
   ]
  },
  {
   "cell_type": "code",
   "execution_count": 9,
   "metadata": {},
   "outputs": [
    {
     "data": {
      "text/plain": [
       "(240000, 1)"
      ]
     },
     "execution_count": 9,
     "metadata": {},
     "output_type": "execute_result"
    }
   ],
   "source": [
    "y_train_emnist.shape"
   ]
  },
  {
   "cell_type": "code",
   "execution_count": 10,
   "metadata": {
    "collapsed": true
   },
   "outputs": [],
   "source": [
    "# normalize\n",
    "X_train_emnist /= 255\n",
    "X_test_emnist /= 255"
   ]
  },
  {
   "cell_type": "code",
   "execution_count": 11,
   "metadata": {},
   "outputs": [
    {
     "data": {
      "text/plain": [
       "array([[ 0.,  0.,  0., ...,  0.,  0.,  0.],\n",
       "       [ 0.,  0.,  0., ...,  0.,  0.,  0.],\n",
       "       [ 0.,  0.,  0., ...,  0.,  0.,  0.],\n",
       "       ..., \n",
       "       [ 0.,  0.,  0., ...,  0.,  0.,  0.],\n",
       "       [ 0.,  0.,  0., ...,  0.,  0.,  0.],\n",
       "       [ 0.,  0.,  0., ...,  0.,  0.,  0.]], dtype=float32)"
      ]
     },
     "execution_count": 11,
     "metadata": {},
     "output_type": "execute_result"
    }
   ],
   "source": [
    "X_train_emnist"
   ]
  },
  {
   "cell_type": "code",
   "execution_count": 12,
   "metadata": {
    "collapsed": true
   },
   "outputs": [],
   "source": [
    "# reshape using matlab order\n",
    "X_train_emnist = X_train_emnist.reshape(X_train_emnist.shape[0], 1, 28, 28, order=\"A\")\n",
    "X_test_emnist = X_test_emnist.reshape(X_test_emnist.shape[0], 1, 28, 28, order=\"A\")"
   ]
  },
  {
   "cell_type": "code",
   "execution_count": 13,
   "metadata": {},
   "outputs": [
    {
     "data": {
      "text/plain": [
       "(240000, 1, 28, 28)"
      ]
     },
     "execution_count": 13,
     "metadata": {},
     "output_type": "execute_result"
    }
   ],
   "source": [
    "X_train_emnist.shape"
   ]
  },
  {
   "cell_type": "code",
   "execution_count": 14,
   "metadata": {},
   "outputs": [
    {
     "data": {
      "text/plain": [
       "(240000, 1)"
      ]
     },
     "execution_count": 14,
     "metadata": {},
     "output_type": "execute_result"
    }
   ],
   "source": [
    "y_train_emnist.shape"
   ]
  },
  {
   "cell_type": "code",
   "execution_count": 15,
   "metadata": {},
   "outputs": [
    {
     "data": {
      "text/plain": [
       "(240000, 10)"
      ]
     },
     "execution_count": 15,
     "metadata": {},
     "output_type": "execute_result"
    }
   ],
   "source": [
    "# labels should be onehot encoded\n",
    "y_train_emnist = keras.utils.to_categorical(y_train_emnist, 10)\n",
    "y_test_emnist = keras.utils.to_categorical(y_test_emnist, 10)\n",
    "\n",
    "y_train_emnist.shape"
   ]
  },
  {
   "cell_type": "markdown",
   "metadata": {},
   "source": [
    "### verify we have imported the data correctly"
   ]
  },
  {
   "cell_type": "code",
   "execution_count": 16,
   "metadata": {
    "collapsed": true
   },
   "outputs": [],
   "source": [
    "# which sample to look at\n",
    "samplenum = 5437"
   ]
  },
  {
   "cell_type": "code",
   "execution_count": 17,
   "metadata": {
    "scrolled": true
   },
   "outputs": [
    {
     "data": {
      "text/plain": [
       "<matplotlib.image.AxesImage at 0x7fde5c6af0f0>"
      ]
     },
     "execution_count": 17,
     "metadata": {},
     "output_type": "execute_result"
    },
    {
     "data": {
      "image/png": "[encoded data removed]",
      "text/plain": [
       "<matplotlib.figure.Figure at 0x7fde5d60e2e8>"
      ]
     },
     "metadata": {},
     "output_type": "display_data"
    }
   ],
   "source": [
    "import matplotlib.pyplot as plt\n",
    "\n",
    "img = X_train_emnist[samplenum]\n",
    "\n",
    "# visualize image\n",
    "plt.imshow(img[0], cmap='gray')"
   ]
  },
  {
   "cell_type": "code",
   "execution_count": 18,
   "metadata": {},
   "outputs": [
    {
     "data": {
      "text/plain": [
       "7"
      ]
     },
     "execution_count": 18,
     "metadata": {},
     "output_type": "execute_result"
    }
   ],
   "source": [
    "# show label for sample image\n",
    "train_labels_emnist[samplenum][0]"
   ]
  },
  {
   "cell_type": "markdown",
   "metadata": {},
   "source": [
    "# Use EMNIST dataset instead of MNIST"
   ]
  },
  {
   "cell_type": "code",
   "execution_count": 19,
   "metadata": {
    "collapsed": true
   },
   "outputs": [],
   "source": [
    "x_train = X_train_emnist\n",
    "y_train = y_train_emnist\n",
    "\n",
    "x_test = X_test_emnist\n",
    "y_test = y_test_emnist\n",
    "\n",
    "test_labels = test_labels_emnist"
   ]
  },
  {
   "cell_type": "code",
   "execution_count": 20,
   "metadata": {
    "collapsed": true
   },
   "outputs": [],
   "source": [
    "test_labels = test_labels.reshape(40000)"
   ]
  },
  {
   "cell_type": "code",
   "execution_count": 21,
   "metadata": {},
   "outputs": [
    {
     "data": {
      "text/plain": [
       "(40000,)"
      ]
     },
     "execution_count": 21,
     "metadata": {},
     "output_type": "execute_result"
    }
   ],
   "source": [
    "test_labels.shape"
   ]
  },
  {
   "cell_type": "markdown",
   "metadata": {},
   "source": [
    "# Define model"
   ]
  },
  {
   "cell_type": "code",
   "execution_count": 22,
   "metadata": {
    "collapsed": true
   },
   "outputs": [],
   "source": [
    "# calculate mean and standard deviation\n",
    "mean_px = x_train.mean().astype(np.float32)\n",
    "std_px = x_train.std().astype(np.float32)"
   ]
  },
  {
   "cell_type": "code",
   "execution_count": 23,
   "metadata": {
    "collapsed": true
   },
   "outputs": [],
   "source": [
    "# function to normalize input data\n",
    "def norm_input(x): return (x-mean_px)/std_px"
   ]
  },
  {
   "cell_type": "code",
   "execution_count": 24,
   "metadata": {
    "collapsed": true
   },
   "outputs": [],
   "source": [
    "# Batchnorm + dropout + data augmentation\n",
    "def create_model():\n",
    "    model = Sequential([\n",
    "        Lambda(norm_input, input_shape=(1,28,28), output_shape=(1,28,28)),\n",
    "        Conv2D(32, (3,3)),\n",
    "        LeakyReLU(),\n",
    "        BatchNormalization(axis=1),\n",
    "        Conv2D(32, (3,3)),\n",
    "        LeakyReLU(),\n",
    "        MaxPooling2D(),\n",
    "        BatchNormalization(axis=1),\n",
    "        Conv2D(64, (3,3)),\n",
    "        LeakyReLU(),\n",
    "        BatchNormalization(axis=1),\n",
    "        Conv2D(64, (3,3)),\n",
    "        LeakyReLU(),\n",
    "        MaxPooling2D(),\n",
    "        Flatten(),\n",
    "        BatchNormalization(),\n",
    "        Dense(512),\n",
    "        LeakyReLU(),\n",
    "        BatchNormalization(),\n",
    "        Dropout(0.3),\n",
    "        Dense(10, activation='softmax')\n",
    "    ])\n",
    "    model.compile(Adam(), loss='categorical_crossentropy', metrics=['accuracy'])\n",
    "    return model"
   ]
  },
  {
   "cell_type": "markdown",
   "metadata": {},
   "source": [
    "# Data augmentation\n",
    "Use keras's data augmentation."
   ]
  },
  {
   "cell_type": "code",
   "execution_count": 25,
   "metadata": {
    "collapsed": true
   },
   "outputs": [],
   "source": [
    "batch_size = 512"
   ]
  },
  {
   "cell_type": "code",
   "execution_count": 26,
   "metadata": {
    "collapsed": true
   },
   "outputs": [],
   "source": [
    "from keras.preprocessing.image import ImageDataGenerator"
   ]
  },
  {
   "cell_type": "code",
   "execution_count": 27,
   "metadata": {
    "collapsed": true
   },
   "outputs": [],
   "source": [
    "gen = ImageDataGenerator(rotation_range=12, width_shift_range=0.1, shear_range=0.3,\n",
    "                        height_shift_range=0.1, zoom_range=0.1, data_format='channels_first')\n",
    "batches = gen.flow(x_train, y_train, batch_size=batch_size)\n",
    "test_batches = gen.flow(x_test, y_test, batch_size=batch_size)\n",
    "steps_per_epoch = int(np.ceil(batches.n/batch_size))\n",
    "validation_steps = int(np.ceil(test_batches.n/batch_size))"
   ]
  },
  {
   "cell_type": "code",
   "execution_count": 28,
   "metadata": {},
   "outputs": [
    {
     "data": {
      "text/plain": [
       "<matplotlib.image.AxesImage at 0x7fde140b2ba8>"
      ]
     },
     "execution_count": 28,
     "metadata": {},
     "output_type": "execute_result"
    },
    {
     "data": {
      "image/png": "[encoded data removed]",
      "text/plain": [
       "<matplotlib.figure.Figure at 0x7fde5c60f390>"
      ]
     },
     "metadata": {},
     "output_type": "display_data"
    }
   ],
   "source": [
    "import matplotlib.pyplot as plt\n",
    "\n",
    "# load ONE image from training set to display on screen\n",
    "img = x_train[1]\n",
    "\n",
    "# visualize original image\n",
    "plt.imshow(img[0], cmap='gray')"
   ]
  },
  {
   "cell_type": "code",
   "execution_count": 29,
   "metadata": {
    "collapsed": true
   },
   "outputs": [],
   "source": [
    "# trick our generator into believing img has enough dimensions\n",
    "# and get some augmented images for our single test image\n",
    "img = np.expand_dims(img, axis=0)\n",
    "aug_iter = gen.flow(img)"
   ]
  },
  {
   "cell_type": "code",
   "execution_count": 30,
   "metadata": {},
   "outputs": [
    {
     "data": {
      "text/plain": [
       "(1, 28, 28)"
      ]
     },
     "execution_count": 30,
     "metadata": {},
     "output_type": "execute_result"
    }
   ],
   "source": [
    "aug_img = next(aug_iter)[0].astype(np.float32)\n",
    "aug_img.shape"
   ]
  },
  {
   "cell_type": "code",
   "execution_count": 31,
   "metadata": {},
   "outputs": [
    {
     "data": {
      "image/png": "[encoded data removed]",
      "text/plain": [
       "<matplotlib.figure.Figure at 0x7fde140eed30>"
      ]
     },
     "metadata": {},
     "output_type": "display_data"
    }
   ],
   "source": [
    "import matplotlib.pyplot as plt\n",
    "\n",
    "# show augmented images\n",
    "f = plt.figure(figsize=(12,6))\n",
    "for i in range(8):\n",
    "    sp = f.add_subplot(2, 26//3, i+1)\n",
    "    sp.axis('Off')\n",
    "    aug_img = next(aug_iter)[0].astype(np.float32)\n",
    "    plt.imshow(aug_img[0], cmap='gray')"
   ]
  },
  {
   "cell_type": "markdown",
   "metadata": {},
   "source": [
    "# Create models using saved weights"
   ]
  },
  {
   "cell_type": "code",
   "execution_count": 32,
   "metadata": {
    "collapsed": true
   },
   "outputs": [],
   "source": [
    "models = []\n",
    "\n",
    "for i in range(10):\n",
    "    m = create_model()\n",
    "    m.load_weights('weights/weights_mnist+32epochs_'+str(i)+'.pkl')\n",
    "    models.append(m)"
   ]
  },
  {
   "cell_type": "markdown",
   "metadata": {},
   "source": [
    "# Ensembling\n",
    "Here we create ten models and fit them to our augmented data. We use the mean prediction from all ten classifiers as our final prediction. This should average out errors in our classifiers and enable us to predict with higher accuracy."
   ]
  },
  {
   "cell_type": "code",
   "execution_count": null,
   "metadata": {
    "collapsed": true
   },
   "outputs": [],
   "source": [
    "# fit the model on batches with real-time data augmentation\n",
    "def fit_model(m):\n",
    "    m.fit_generator(batches, steps_per_epoch=steps_per_epoch, epochs=1, verbose=0,\n",
    "                   validation_data=test_batches, validation_steps=validation_steps)\n",
    "    m.optimizer.lr = 0.1\n",
    "    m.fit_generator(batches, steps_per_epoch=steps_per_epoch, epochs=4, verbose=0,\n",
    "                   validation_data=test_batches, validation_steps=validation_steps)\n",
    "    m.optimizer.lr = 0.01\n",
    "    m.fit_generator(batches, steps_per_epoch=steps_per_epoch, epochs=12, verbose=0,\n",
    "                   validation_data=test_batches, validation_steps=validation_steps)\n",
    "    m.optimizer.lr = 0.001\n",
    "    m.fit_generator(batches, steps_per_epoch=steps_per_epoch, epochs=18, verbose=0,\n",
    "                   validation_data=test_batches, validation_steps=validation_steps)\n",
    "    return m"
   ]
  },
  {
   "cell_type": "markdown",
   "metadata": {},
   "source": [
    "## Create and train ten models"
   ]
  },
  {
   "cell_type": "code",
   "execution_count": null,
   "metadata": {
    "collapsed": true
   },
   "outputs": [],
   "source": [
    "models = []\n",
    "\n",
    "for i in range(10):\n",
    "    print(\"Training model {}\".format(i))\n",
    "    m = fit_model(create_model())\n",
    "    models.append(m)"
   ]
  },
  {
   "cell_type": "code",
   "execution_count": 34,
   "metadata": {
    "scrolled": true
   },
   "outputs": [
    {
     "name": "stdout",
     "output_type": "stream",
     "text": [
      "Training model 0\n",
      "Epoch 1/4\n",
      "469/469 [==============================] - 41s - loss: 0.0154 - acc: 0.9958 - val_loss: 0.0157 - val_acc: 0.9960\n",
      "Epoch 2/4\n",
      "469/469 [==============================] - 43s - loss: 0.0156 - acc: 0.9956 - val_loss: 0.0138 - val_acc: 0.9964\n",
      "Epoch 3/4\n",
      "469/469 [==============================] - 36s - loss: 0.0156 - acc: 0.9957 - val_loss: 0.0153 - val_acc: 0.9958\n",
      "Epoch 4/4\n",
      "469/469 [==============================] - 42s - loss: 0.0158 - acc: 0.9956 - val_loss: 0.0152 - val_acc: 0.9959\n",
      "Training model 1\n",
      "Epoch 1/4\n",
      "469/469 [==============================] - 41s - loss: 0.0168 - acc: 0.9953 - val_loss: 0.0158 - val_acc: 0.9954\n",
      "Epoch 2/4\n",
      "469/469 [==============================] - 41s - loss: 0.0163 - acc: 0.9953 - val_loss: 0.0146 - val_acc: 0.9959\n",
      "Epoch 3/4\n",
      "469/469 [==============================] - 40s - loss: 0.0161 - acc: 0.9955 - val_loss: 0.0156 - val_acc: 0.9961\n",
      "Epoch 4/4\n",
      "469/469 [==============================] - 39s - loss: 0.0161 - acc: 0.9955 - val_loss: 0.0151 - val_acc: 0.9959\n",
      "Training model 2\n",
      "Epoch 1/4\n",
      "469/469 [==============================] - 40s - loss: 0.0165 - acc: 0.9953 - val_loss: 0.0166 - val_acc: 0.9958\n",
      "Epoch 2/4\n",
      "469/469 [==============================] - 39s - loss: 0.0161 - acc: 0.9954 - val_loss: 0.0148 - val_acc: 0.9959\n",
      "Epoch 3/4\n",
      "469/469 [==============================] - 40s - loss: 0.0162 - acc: 0.9956 - val_loss: 0.0150 - val_acc: 0.9959\n",
      "Epoch 4/4\n",
      "469/469 [==============================] - 39s - loss: 0.0159 - acc: 0.9955 - val_loss: 0.0156 - val_acc: 0.9957\n",
      "Training model 3\n",
      "Epoch 1/4\n",
      "469/469 [==============================] - 41s - loss: 0.0163 - acc: 0.9955 - val_loss: 0.0155 - val_acc: 0.9957\n",
      "Epoch 2/4\n",
      "469/469 [==============================] - 43s - loss: 0.0162 - acc: 0.9955 - val_loss: 0.0163 - val_acc: 0.9955\n",
      "Epoch 3/4\n",
      "469/469 [==============================] - 39s - loss: 0.0160 - acc: 0.9954 - val_loss: 0.0149 - val_acc: 0.9959\n",
      "Epoch 4/4\n",
      "469/469 [==============================] - 40s - loss: 0.0159 - acc: 0.9956 - val_loss: 0.0169 - val_acc: 0.9954\n",
      "Training model 4\n",
      "Epoch 1/4\n",
      "469/469 [==============================] - 40s - loss: 0.0167 - acc: 0.9953 - val_loss: 0.0166 - val_acc: 0.9953\n",
      "Epoch 2/4\n",
      "469/469 [==============================] - 40s - loss: 0.0153 - acc: 0.9956 - val_loss: 0.0139 - val_acc: 0.9961\n",
      "Epoch 3/4\n",
      "469/469 [==============================] - 40s - loss: 0.0165 - acc: 0.9953 - val_loss: 0.0164 - val_acc: 0.9957\n",
      "Epoch 4/4\n",
      "469/469 [==============================] - 40s - loss: 0.0159 - acc: 0.9956 - val_loss: 0.0165 - val_acc: 0.9956\n",
      "Training model 5\n",
      "Epoch 1/4\n",
      "469/469 [==============================] - 38s - loss: 0.0160 - acc: 0.9955 - val_loss: 0.0153 - val_acc: 0.9959\n",
      "Epoch 2/4\n",
      "469/469 [==============================] - 41s - loss: 0.0163 - acc: 0.9955 - val_loss: 0.0145 - val_acc: 0.9962\n",
      "Epoch 3/4\n",
      "469/469 [==============================] - 41s - loss: 0.0160 - acc: 0.9954 - val_loss: 0.0152 - val_acc: 0.9957\n",
      "Epoch 4/4\n",
      "469/469 [==============================] - 40s - loss: 0.0157 - acc: 0.9956 - val_loss: 0.0157 - val_acc: 0.9958\n",
      "Training model 6\n",
      "Epoch 1/4\n",
      "469/469 [==============================] - 41s - loss: 0.0165 - acc: 0.9955 - val_loss: 0.0152 - val_acc: 0.9956\n",
      "Epoch 2/4\n",
      "469/469 [==============================] - 40s - loss: 0.0164 - acc: 0.9954 - val_loss: 0.0152 - val_acc: 0.9956\n",
      "Epoch 3/4\n",
      "469/469 [==============================] - 40s - loss: 0.0163 - acc: 0.9955 - val_loss: 0.0165 - val_acc: 0.9956\n",
      "Epoch 4/4\n",
      "469/469 [==============================] - 40s - loss: 0.0168 - acc: 0.9953 - val_loss: 0.0160 - val_acc: 0.9956\n",
      "Training model 7\n",
      "Epoch 1/4\n",
      "469/469 [==============================] - 41s - loss: 0.0166 - acc: 0.9952 - val_loss: 0.0149 - val_acc: 0.9960\n",
      "Epoch 2/4\n",
      "469/469 [==============================] - 40s - loss: 0.0159 - acc: 0.9955 - val_loss: 0.0150 - val_acc: 0.9961\n",
      "Epoch 3/4\n",
      "469/469 [==============================] - 40s - loss: 0.0163 - acc: 0.9955 - val_loss: 0.0167 - val_acc: 0.9953\n",
      "Epoch 4/4\n",
      "469/469 [==============================] - 40s - loss: 0.0158 - acc: 0.9956 - val_loss: 0.0155 - val_acc: 0.9959\n",
      "Training model 8\n",
      "Epoch 1/4\n",
      "469/469 [==============================] - 41s - loss: 0.0159 - acc: 0.9954 - val_loss: 0.0154 - val_acc: 0.9956\n",
      "Epoch 2/4\n",
      "469/469 [==============================] - 40s - loss: 0.0167 - acc: 0.9954 - val_loss: 0.0170 - val_acc: 0.9953\n",
      "Epoch 3/4\n",
      "469/469 [==============================] - 40s - loss: 0.0166 - acc: 0.9953 - val_loss: 0.0140 - val_acc: 0.9958\n",
      "Epoch 4/4\n",
      "469/469 [==============================] - 40s - loss: 0.0161 - acc: 0.9955 - val_loss: 0.0160 - val_acc: 0.9956\n",
      "Training model 9\n",
      "Epoch 1/4\n",
      "469/469 [==============================] - 40s - loss: 0.0160 - acc: 0.9955 - val_loss: 0.0151 - val_acc: 0.9960\n",
      "Epoch 2/4\n",
      "469/469 [==============================] - 40s - loss: 0.0165 - acc: 0.9955 - val_loss: 0.0142 - val_acc: 0.9963\n",
      "Epoch 3/4\n",
      "469/469 [==============================] - 40s - loss: 0.0159 - acc: 0.9956 - val_loss: 0.0155 - val_acc: 0.9960\n",
      "Epoch 4/4\n",
      "469/469 [==============================] - 40s - loss: 0.0160 - acc: 0.9956 - val_loss: 0.0152 - val_acc: 0.9958\n"
     ]
    }
   ],
   "source": [
    "# train models some more if accuracy is not satisfying enough\n",
    "for i, m in enumerate(models):\n",
    "    m.optimizer.lr = 0.0001\n",
    "    print(\"Training model {}\".format(i))\n",
    "    m.fit_generator(batches, steps_per_epoch=steps_per_epoch, epochs=4,\n",
    "                   validation_data=test_batches, validation_steps=validation_steps)"
   ]
  },
  {
   "cell_type": "markdown",
   "metadata": {},
   "source": [
    "# Evaluate Ensemble of 10 CNNs"
   ]
  },
  {
   "cell_type": "code",
   "execution_count": 33,
   "metadata": {
    "collapsed": true
   },
   "outputs": [],
   "source": [
    "eval_batch_size = 512"
   ]
  },
  {
   "cell_type": "code",
   "execution_count": 38,
   "metadata": {},
   "outputs": [
    {
     "name": "stdout",
     "output_type": "stream",
     "text": [
      "40000/40000 [==============================] - 1s     \n",
      "39936/40000 [============================>.] - ETA: 0s"
     ]
    }
   ],
   "source": [
    "# evaluate every model\n",
    "evals = np.array([m.evaluate(x_test,y_test, batch_size=eval_batch_size) for m in models])"
   ]
  },
  {
   "cell_type": "code",
   "execution_count": 39,
   "metadata": {},
   "outputs": [
    {
     "data": {
      "text/plain": [
       "array([ 0.01033177,  0.997575  ])"
      ]
     },
     "execution_count": 39,
     "metadata": {},
     "output_type": "execute_result"
    }
   ],
   "source": [
    "# calculate mean from evaluations\n",
    "evals.mean(axis=0)"
   ]
  },
  {
   "cell_type": "code",
   "execution_count": 40,
   "metadata": {
    "collapsed": true
   },
   "outputs": [],
   "source": [
    "all_preds = np.stack([m.predict(x_test, batch_size=eval_batch_size) for m in models])"
   ]
  },
  {
   "cell_type": "code",
   "execution_count": 41,
   "metadata": {},
   "outputs": [
    {
     "data": {
      "text/plain": [
       "(10, 40000, 10)"
      ]
     },
     "execution_count": 41,
     "metadata": {},
     "output_type": "execute_result"
    }
   ],
   "source": [
    "all_preds.shape"
   ]
  },
  {
   "cell_type": "code",
   "execution_count": 42,
   "metadata": {},
   "outputs": [
    {
     "data": {
      "text/plain": [
       "(40000, 10)"
      ]
     },
     "execution_count": 42,
     "metadata": {},
     "output_type": "execute_result"
    }
   ],
   "source": [
    "avg_preds = all_preds.mean(axis=0)\n",
    "avg_preds.shape"
   ]
  },
  {
   "cell_type": "code",
   "execution_count": 43,
   "metadata": {},
   "outputs": [
    {
     "data": {
      "text/plain": [
       "0.21499991416931152"
      ]
     },
     "execution_count": 43,
     "metadata": {},
     "output_type": "execute_result"
    }
   ],
   "source": [
    "# display error rate in percent\n",
    "(1 - keras.metrics.categorical_accuracy(y_test, avg_preds).eval().mean()) * 100"
   ]
  },
  {
   "cell_type": "markdown",
   "metadata": {},
   "source": [
    "### Results of ensemble of 10 CNNs trained on MNIST dataset\n",
    "1. 0.45250058174133301\n",
    "\n",
    "### MNIST +16 epochs on EMNIST\n",
    "1. 0.22249817848205566\n",
    "\n",
    "### MNIST +20 epochs on EMNIST\n",
    "1. 0.21749734878540039 trained model 0 for additional 4 epochs\n",
    "2. 0.21250247955322266 trained all models for additional 4 epochs\n",
    "\n",
    "### MNIST +24 epochs on EMNIST\n",
    "1. 0.20999908447265625\n",
    "\n",
    "### MNIST +28 epochs on EMNIST\n",
    "1. 0.21250247955322266\n",
    "\n",
    "### MNIST +32 epochs on EMNIST\n",
    "1. 0.21499991416931152"
   ]
  },
  {
   "cell_type": "markdown",
   "metadata": {},
   "source": [
    "# Show test error rate of every model separately"
   ]
  },
  {
   "cell_type": "markdown",
   "metadata": {},
   "source": [
    "Results on original MNIST test dataset:\n",
    "1. 0.370001792908\n",
    "2. 0.330001115799\n",
    "3. 0.429999828339\n",
    "4. 0.349998474121\n",
    "5. 0.370001792908\n",
    "6. 0.340002775192\n",
    "7. 0.370001792908\n",
    "8. 0.360000133514\n",
    "9. 0.29000043869\n",
    "10. 0.360000133514\n",
    "\n",
    "Results for EMNIST using MNIST models with no further training:\n",
    "1. 0.537502765656\n",
    "2. 0.49250125885\n",
    "3. 0.559997558594\n",
    "4. 0.494998693466\n",
    "5. 0.582498311996\n",
    "6. 0.505000352859\n",
    "7. 0.590002536774\n",
    "8. 0.512498617172\n",
    "9. 0.585001707077\n",
    "10. 0.534999370575\n",
    "\n",
    "Results after training MNIST models for additional 16 epochs on EMNIST:\n",
    "1. 0.255000591278\n",
    "2. 0.262498855591\n",
    "3. 0.252497196198\n",
    "4. 0.265002250671\n",
    "5. 0.252497196198\n",
    "6. 0.244998931885\n",
    "7. 0.255000591278\n",
    "8. 0.232499837875\n",
    "9. 0.257498025894\n",
    "10. 0.249999761581\n",
    "\n",
    "Trained MNIST models for 20 epochs on EMNIST\n",
    "1. 0.239998102188\n",
    "2. 0.242501497269\n",
    "3. 0.230002403259\n",
    "4. 0.239998102188\n",
    "5. 0.262498855591\n",
    "6. 0.247502326965\n",
    "7. 0.272500514984\n",
    "8. 0.239998102188\n",
    "9. 0.234997272491\n",
    "10. 0.255000591278\n",
    "\n",
    "Trained MNIST models for 24 epochs on EMNIST\n",
    "1. 0.247502326965\n",
    "2. 0.234997272491\n",
    "3. 0.225001573563\n",
    "4. 0.247502326965\n",
    "5. 0.237500667572\n",
    "6. 0.234997272491\n",
    "7. 0.249999761581\n",
    "8. 0.237500667572\n",
    "9. 0.234997272491\n",
    "10. 0.237500667572\n",
    "\n",
    "Trained MNIST models for 28 epochs on EMNIST\n",
    "1. 0.252497196198\n",
    "2. 0.225001573563\n",
    "3. 0.234997272491\n",
    "4. 0.249999761581\n",
    "5. 0.255000591278\n",
    "6. 0.232499837875\n",
    "7. 0.249999761581\n",
    "8. 0.244998931885\n",
    "9. 0.234997272491\n",
    "10. 0.234997272491\n",
    "\n",
    "Trained MNIST models for 32 epochs on EMNIST\n",
    "1. 0.267499685287\n",
    "2. 0.217497348785\n",
    "3. 0.239998102188\n",
    "4. 0.234997272491\n",
    "5. 0.252497196198\n",
    "6. 0.249999761581\n",
    "7. 0.237500667572\n",
    "8. 0.234997272491\n",
    "9. 0.222498178482\n",
    "10. 0.267499685287\n"
   ]
  },
  {
   "cell_type": "code",
   "execution_count": 45,
   "metadata": {
    "scrolled": false
   },
   "outputs": [
    {
     "name": "stdout",
     "output_type": "stream",
     "text": [
      "1 0.267499685287\n",
      "2 0.217497348785\n",
      "3 0.239998102188\n",
      "4 0.234997272491\n",
      "5 0.252497196198\n",
      "6 0.249999761581\n",
      "7 0.237500667572\n",
      "8 0.234997272491\n",
      "9 0.222498178482\n",
      "10 0.267499685287\n"
     ]
    }
   ],
   "source": [
    "for i, m in enumerate(models):\n",
    "    pred = np.array(m.predict(x_test, batch_size=eval_batch_size))\n",
    "    print(i+1, (1 - keras.metrics.categorical_accuracy(y_test, pred).eval().mean()) * 100)"
   ]
  },
  {
   "cell_type": "code",
   "execution_count": null,
   "metadata": {
    "collapsed": true
   },
   "outputs": [],
   "source": [
    "# show accuracy of single model\n",
    "\n",
    "# which model number to check\n",
    "i = 1"
   ]
  },
  {
   "cell_type": "code",
   "execution_count": null,
   "metadata": {
    "collapsed": true
   },
   "outputs": [],
   "source": [
    "# calculate accuracy of a single model\n",
    "pred = np.array(models[i].predict(x_test, batch_size=eval_batch_size))\n",
    "print(i, (1 - keras.metrics.categorical_accuracy(y_test, pred).eval().mean()) * 100)"
   ]
  },
  {
   "cell_type": "markdown",
   "metadata": {},
   "source": [
    "# Plot Training History"
   ]
  },
  {
   "cell_type": "markdown",
   "metadata": {},
   "source": [
    "Here we create and train a single model from scratch to get a plot of the training history."
   ]
  },
  {
   "cell_type": "code",
   "execution_count": null,
   "metadata": {
    "collapsed": true
   },
   "outputs": [],
   "source": [
    "# create and train a single model\n",
    "m = create_model()\n",
    "history = m.fit_generator(batches, steps_per_epoch=steps_per_epoch, epochs=10, verbose=0,\n",
    "                         validation_data=test_batches, validation_steps=validation_steps)"
   ]
  },
  {
   "cell_type": "markdown",
   "metadata": {},
   "source": [
    "Jason Brownlee's script to plot model training history:\n",
    "https://machinelearningmastery.com/display-deep-learning-model-training-history-in-keras/"
   ]
  },
  {
   "cell_type": "code",
   "execution_count": 56,
   "metadata": {},
   "outputs": [
    {
     "name": "stdout",
     "output_type": "stream",
     "text": [
      "dict_keys(['val_loss', 'val_acc', 'loss', 'acc'])\n"
     ]
    },
    {
     "data": {
      "image/png": "[encoded data removed]",
      "text/plain": [
       "<matplotlib.figure.Figure at 0x7f1de7571a90>"
      ]
     },
     "metadata": {},
     "output_type": "display_data"
    },
    {
     "data": {
      "image/png": "[encoded data removed]",
      "text/plain": [
       "<matplotlib.figure.Figure at 0x7f1de75ba710>"
      ]
     },
     "metadata": {},
     "output_type": "display_data"
    }
   ],
   "source": [
    "import matplotlib.pyplot as plt\n",
    "\n",
    "axes = plt.gca()\n",
    "#axes.set_xlim([1,5])\n",
    "#axes.set_ylim([0.2,1.0])\n",
    "\n",
    "# list all data in history\n",
    "print(history.history.keys())\n",
    "# summarize history for accuracy\n",
    "plt.plot(history.history['acc'])\n",
    "plt.plot(history.history['val_acc'])\n",
    "plt.title('model accuracy')\n",
    "plt.ylabel('accuracy')\n",
    "plt.xlabel('epoch')\n",
    "plt.legend(['train', 'test'], loc='upper left')\n",
    "plt.show()\n",
    "\n",
    "# summarize history for loss\n",
    "plt.plot(history.history['loss'])\n",
    "plt.plot(history.history['val_loss'])\n",
    "plt.title('model loss')\n",
    "plt.ylabel('loss')\n",
    "plt.xlabel('epoch')\n",
    "plt.legend(['train', 'test'], loc='upper left')\n",
    "plt.show()"
   ]
  },
  {
   "cell_type": "markdown",
   "metadata": {},
   "source": [
    "# Try evaluation only with best performing models\n",
    "Trained MNIST models for 24 epochs on EMNIST\n",
    "1. 0.247502326965\n",
    "2. 0.234997272491\n",
    "3. 0.225001573563\n",
    "4. 0.247502326965\n",
    "5. 0.237500667572\n",
    "6. 0.234997272491\n",
    "7. 0.249999761581\n",
    "8. 0.237500667572\n",
    "9. 0.234997272491\n",
    "10. 0.237500667572\n",
    "\n",
    "## Results\n",
    "Indices of the models used for prediction | test error rate \n",
    "\n",
    "weights +16\n",
    "1. 0,7 0.2200007438659668\n",
    "2. 0,1,7: 0.23750066757202148\n",
    "3. 0,2,7: 0.20750164985656738\n",
    "4. 0,2,7,1: 0.21749734878540039\n",
    "5. 0,2,7,3: 0.20750164985656738\n",
    "6. 2,7: 0.20999908447265625\n",
    "7. 0,2,7,4: 0.20999908447265625\n",
    "8. 0,2,7,9: 0.20499825477600098\n",
    "\n",
    "weights +24\n",
    "1. 0,2,7,9:   0.1999974250793457\n",
    "2. 0,1,2,7,9: 0.19500255584716797\n",
    "3. 0,1,2,7:   0.19749999046325684\n",
    "4. 0,1,7,9: 0.1999974250793457"
   ]
  },
  {
   "cell_type": "code",
   "execution_count": 231,
   "metadata": {
    "collapsed": true
   },
   "outputs": [],
   "source": [
    "best_model_numbers = [0,1,2,7,9]"
   ]
  },
  {
   "cell_type": "code",
   "execution_count": 232,
   "metadata": {
    "collapsed": true
   },
   "outputs": [],
   "source": [
    "best_models = []\n",
    "\n",
    "for i in best_model_numbers:\n",
    "    best_models.append(models[i])"
   ]
  },
  {
   "cell_type": "code",
   "execution_count": 233,
   "metadata": {
    "collapsed": true
   },
   "outputs": [],
   "source": [
    "all_preds = np.stack([m.predict(x_test, batch_size=eval_batch_size) for m in best_models])"
   ]
  },
  {
   "cell_type": "code",
   "execution_count": 234,
   "metadata": {
    "collapsed": true
   },
   "outputs": [],
   "source": [
    "avg_preds = all_preds.mean(axis=0)"
   ]
  },
  {
   "cell_type": "code",
   "execution_count": 235,
   "metadata": {
    "scrolled": true
   },
   "outputs": [
    {
     "data": {
      "text/plain": [
       "0.19500255584716797"
      ]
     },
     "execution_count": 235,
     "metadata": {},
     "output_type": "execute_result"
    }
   ],
   "source": [
    "# display error rate in percent\n",
    "(1 - keras.metrics.categorical_accuracy(y_test, avg_preds).eval().mean()) * 100"
   ]
  },
  {
   "cell_type": "markdown",
   "metadata": {},
   "source": [
    "# Train single model some more"
   ]
  },
  {
   "cell_type": "markdown",
   "metadata": {},
   "source": [
    "Select a single model, train for a few epochs, and check accuracy."
   ]
  },
  {
   "cell_type": "code",
   "execution_count": 57,
   "metadata": {
    "collapsed": true
   },
   "outputs": [],
   "source": [
    "# which model to train\n",
    "i = 1"
   ]
  },
  {
   "cell_type": "code",
   "execution_count": 58,
   "metadata": {
    "collapsed": true
   },
   "outputs": [],
   "source": [
    "# reload weights in case of overfitting\n",
    "# models[i].load_weights(\"weights/weights_emnist_model_0.2475_\"+str(i)+'.pkl')"
   ]
  },
  {
   "cell_type": "code",
   "execution_count": 59,
   "metadata": {},
   "outputs": [
    {
     "name": "stdout",
     "output_type": "stream",
     "text": [
      "Epoch 1/4\n",
      "469/469 [==============================] - 40s - loss: 0.0156 - acc: 0.9956 - val_loss: 0.0147 - val_acc: 0.9963\n",
      "Epoch 2/4\n",
      "469/469 [==============================] - 40s - loss: 0.0162 - acc: 0.9954 - val_loss: 0.0156 - val_acc: 0.9956\n",
      "Epoch 3/4\n",
      "469/469 [==============================] - 40s - loss: 0.0161 - acc: 0.9954 - val_loss: 0.0157 - val_acc: 0.9958\n",
      "Epoch 4/4\n",
      "469/469 [==============================] - 39s - loss: 0.0156 - acc: 0.9956 - val_loss: 0.0142 - val_acc: 0.9959\n"
     ]
    }
   ],
   "source": [
    "models[i].optimizer.lr = 0.0001\n",
    "history = models[i].fit_generator(batches, steps_per_epoch=steps_per_epoch, epochs=4,\n",
    "                   validation_data=test_batches, validation_steps=validation_steps)"
   ]
  },
  {
   "cell_type": "code",
   "execution_count": 60,
   "metadata": {
    "scrolled": true
   },
   "outputs": [
    {
     "name": "stdout",
     "output_type": "stream",
     "text": [
      "1 0.227499008179\n"
     ]
    }
   ],
   "source": [
    "# calculate accuracy of single model\n",
    "pred = np.array(models[i].predict(x_test, batch_size=eval_batch_size))\n",
    "print(i, (1 - keras.metrics.categorical_accuracy(y_test, pred).eval().mean()) * 100)"
   ]
  },
  {
   "cell_type": "code",
   "execution_count": 54,
   "metadata": {
    "collapsed": true
   },
   "outputs": [],
   "source": [
    "# models[i].save_weights(\"weights/weights_emnist_model_0.2475_\"+str(i)+'.pkl')"
   ]
  },
  {
   "cell_type": "markdown",
   "metadata": {},
   "source": [
    "# Visualize model"
   ]
  },
  {
   "cell_type": "code",
   "execution_count": 34,
   "metadata": {
    "scrolled": true
   },
   "outputs": [
    {
     "name": "stdout",
     "output_type": "stream",
     "text": [
      "_________________________________________________________________\n",
      "Layer (type)                 Output Shape              Param #   \n",
      "=================================================================\n",
      "lambda_1 (Lambda)            (None, 1, 28, 28)         0         \n",
      "_________________________________________________________________\n",
      "conv2d_1 (Conv2D)            (None, 32, 26, 26)        320       \n",
      "_________________________________________________________________\n",
      "leaky_re_lu_1 (LeakyReLU)    (None, 32, 26, 26)        0         \n",
      "_________________________________________________________________\n",
      "batch_normalization_1 (Batch (None, 32, 26, 26)        128       \n",
      "_________________________________________________________________\n",
      "conv2d_2 (Conv2D)            (None, 32, 24, 24)        9248      \n",
      "_________________________________________________________________\n",
      "leaky_re_lu_2 (LeakyReLU)    (None, 32, 24, 24)        0         \n",
      "_________________________________________________________________\n",
      "max_pooling2d_1 (MaxPooling2 (None, 32, 12, 12)        0         \n",
      "_________________________________________________________________\n",
      "batch_normalization_2 (Batch (None, 32, 12, 12)        128       \n",
      "_________________________________________________________________\n",
      "conv2d_3 (Conv2D)            (None, 64, 10, 10)        18496     \n",
      "_________________________________________________________________\n",
      "leaky_re_lu_3 (LeakyReLU)    (None, 64, 10, 10)        0         \n",
      "_________________________________________________________________\n",
      "batch_normalization_3 (Batch (None, 64, 10, 10)        256       \n",
      "_________________________________________________________________\n",
      "conv2d_4 (Conv2D)            (None, 64, 8, 8)          36928     \n",
      "_________________________________________________________________\n",
      "leaky_re_lu_4 (LeakyReLU)    (None, 64, 8, 8)          0         \n",
      "_________________________________________________________________\n",
      "max_pooling2d_2 (MaxPooling2 (None, 64, 4, 4)          0         \n",
      "_________________________________________________________________\n",
      "flatten_1 (Flatten)          (None, 1024)              0         \n",
      "_________________________________________________________________\n",
      "batch_normalization_4 (Batch (None, 1024)              4096      \n",
      "_________________________________________________________________\n",
      "dense_1 (Dense)              (None, 512)               524800    \n",
      "_________________________________________________________________\n",
      "leaky_re_lu_5 (LeakyReLU)    (None, 512)               0         \n",
      "_________________________________________________________________\n",
      "batch_normalization_5 (Batch (None, 512)               2048      \n",
      "_________________________________________________________________\n",
      "dropout_1 (Dropout)          (None, 512)               0         \n",
      "_________________________________________________________________\n",
      "dense_2 (Dense)              (None, 10)                5130      \n",
      "=================================================================\n",
      "Total params: 601,578\n",
      "Trainable params: 598,250\n",
      "Non-trainable params: 3,328\n",
      "_________________________________________________________________\n"
     ]
    }
   ],
   "source": [
    "models[0].summary()"
   ]
  },
  {
   "cell_type": "code",
   "execution_count": 35,
   "metadata": {
    "scrolled": true
   },
   "outputs": [
    {
     "data": {
      "image/svg+xml": [
       "<svg height=\"1578pt\" viewBox=\"0.00 0.00 268.00 1578.00\" width=\"268pt\" xmlns=\"http://www.w3.org/2000/svg\" xmlns:xlink=\"http://www.w3.org/1999/xlink\">\n",
       "<g class=\"graph\" id=\"graph0\" transform=\"scale(1 1) rotate(0) translate(4 1574)\">\n",
       "<title>G</title>\n",
       "<polygon fill=\"white\" points=\"-4,4 -4,-1574 264,-1574 264,4 -4,4\" stroke=\"none\"/>\n",
       "<!-- 140591792585136 -->\n",
       "<g class=\"node\" id=\"node1\"><title>140591792585136</title>\n",
       "<polygon fill=\"none\" points=\"43.5,-1533.5 43.5,-1569.5 216.5,-1569.5 216.5,-1533.5 43.5,-1533.5\" stroke=\"black\"/>\n",
       "<text font-family=\"Times,serif\" font-size=\"14.00\" text-anchor=\"middle\" x=\"130\" y=\"-1547.8\">lambda_1_input: InputLayer</text>\n",
       "</g>\n",
       "<!-- 140591795857560 -->\n",
       "<g class=\"node\" id=\"node2\"><title>140591795857560</title>\n",
       "<polygon fill=\"none\" points=\"68.5,-1460.5 68.5,-1496.5 191.5,-1496.5 191.5,-1460.5 68.5,-1460.5\" stroke=\"black\"/>\n",
       "<text font-family=\"Times,serif\" font-size=\"14.00\" text-anchor=\"middle\" x=\"130\" y=\"-1474.8\">lambda_1: Lambda</text>\n",
       "</g>\n",
       "<!-- 140591792585136&#45;&gt;140591795857560 -->\n",
       "<g class=\"edge\" id=\"edge1\"><title>140591792585136-&gt;140591795857560</title>\n",
       "<path d=\"M130,-1533.31C130,-1525.29 130,-1515.55 130,-1506.57\" fill=\"none\" stroke=\"black\"/>\n",
       "<polygon fill=\"black\" points=\"133.5,-1506.53 130,-1496.53 126.5,-1506.53 133.5,-1506.53\" stroke=\"black\"/>\n",
       "</g>\n",
       "<!-- 140591795939704 -->\n",
       "<g class=\"node\" id=\"node3\"><title>140591795939704</title>\n",
       "<polygon fill=\"none\" points=\"68.5,-1387.5 68.5,-1423.5 191.5,-1423.5 191.5,-1387.5 68.5,-1387.5\" stroke=\"black\"/>\n",
       "<text font-family=\"Times,serif\" font-size=\"14.00\" text-anchor=\"middle\" x=\"130\" y=\"-1401.8\">conv2d_1: Conv2D</text>\n",
       "</g>\n",
       "<!-- 140591795857560&#45;&gt;140591795939704 -->\n",
       "<g class=\"edge\" id=\"edge2\"><title>140591795857560-&gt;140591795939704</title>\n",
       "<path d=\"M130,-1460.31C130,-1452.29 130,-1442.55 130,-1433.57\" fill=\"none\" stroke=\"black\"/>\n",
       "<polygon fill=\"black\" points=\"133.5,-1433.53 130,-1423.53 126.5,-1433.53 133.5,-1433.53\" stroke=\"black\"/>\n",
       "</g>\n",
       "<!-- 140591795937352 -->\n",
       "<g class=\"node\" id=\"node4\"><title>140591795937352</title>\n",
       "<polygon fill=\"none\" points=\"46,-1314.5 46,-1350.5 214,-1350.5 214,-1314.5 46,-1314.5\" stroke=\"black\"/>\n",
       "<text font-family=\"Times,serif\" font-size=\"14.00\" text-anchor=\"middle\" x=\"130\" y=\"-1328.8\">leaky_re_lu_1: LeakyReLU</text>\n",
       "</g>\n",
       "<!-- 140591795939704&#45;&gt;140591795937352 -->\n",
       "<g class=\"edge\" id=\"edge3\"><title>140591795939704-&gt;140591795937352</title>\n",
       "<path d=\"M130,-1387.31C130,-1379.29 130,-1369.55 130,-1360.57\" fill=\"none\" stroke=\"black\"/>\n",
       "<polygon fill=\"black\" points=\"133.5,-1360.53 130,-1350.53 126.5,-1360.53 133.5,-1360.53\" stroke=\"black\"/>\n",
       "</g>\n",
       "<!-- 140591795988128 -->\n",
       "<g class=\"node\" id=\"node5\"><title>140591795988128</title>\n",
       "<polygon fill=\"none\" points=\"0,-1241.5 0,-1277.5 260,-1277.5 260,-1241.5 0,-1241.5\" stroke=\"black\"/>\n",
       "<text font-family=\"Times,serif\" font-size=\"14.00\" text-anchor=\"middle\" x=\"130\" y=\"-1255.8\">batch_normalization_1: BatchNormalization</text>\n",
       "</g>\n",
       "<!-- 140591795937352&#45;&gt;140591795988128 -->\n",
       "<g class=\"edge\" id=\"edge4\"><title>140591795937352-&gt;140591795988128</title>\n",
       "<path d=\"M130,-1314.31C130,-1306.29 130,-1296.55 130,-1287.57\" fill=\"none\" stroke=\"black\"/>\n",
       "<polygon fill=\"black\" points=\"133.5,-1287.53 130,-1277.53 126.5,-1287.53 133.5,-1287.53\" stroke=\"black\"/>\n",
       "</g>\n",
       "<!-- 140591795989696 -->\n",
       "<g class=\"node\" id=\"node6\"><title>140591795989696</title>\n",
       "<polygon fill=\"none\" points=\"68.5,-1168.5 68.5,-1204.5 191.5,-1204.5 191.5,-1168.5 68.5,-1168.5\" stroke=\"black\"/>\n",
       "<text font-family=\"Times,serif\" font-size=\"14.00\" text-anchor=\"middle\" x=\"130\" y=\"-1182.8\">conv2d_2: Conv2D</text>\n",
       "</g>\n",
       "<!-- 140591795988128&#45;&gt;140591795989696 -->\n",
       "<g class=\"edge\" id=\"edge5\"><title>140591795988128-&gt;140591795989696</title>\n",
       "<path d=\"M130,-1241.31C130,-1233.29 130,-1223.55 130,-1214.57\" fill=\"none\" stroke=\"black\"/>\n",
       "<polygon fill=\"black\" points=\"133.5,-1214.53 130,-1204.53 126.5,-1214.53 133.5,-1214.53\" stroke=\"black\"/>\n",
       "</g>\n",
       "<!-- 140591794592456 -->\n",
       "<g class=\"node\" id=\"node7\"><title>140591794592456</title>\n",
       "<polygon fill=\"none\" points=\"46,-1095.5 46,-1131.5 214,-1131.5 214,-1095.5 46,-1095.5\" stroke=\"black\"/>\n",
       "<text font-family=\"Times,serif\" font-size=\"14.00\" text-anchor=\"middle\" x=\"130\" y=\"-1109.8\">leaky_re_lu_2: LeakyReLU</text>\n",
       "</g>\n",
       "<!-- 140591795989696&#45;&gt;140591794592456 -->\n",
       "<g class=\"edge\" id=\"edge6\"><title>140591795989696-&gt;140591794592456</title>\n",
       "<path d=\"M130,-1168.31C130,-1160.29 130,-1150.55 130,-1141.57\" fill=\"none\" stroke=\"black\"/>\n",
       "<polygon fill=\"black\" points=\"133.5,-1141.53 130,-1131.53 126.5,-1141.53 133.5,-1141.53\" stroke=\"black\"/>\n",
       "</g>\n",
       "<!-- 140591793359224 -->\n",
       "<g class=\"node\" id=\"node8\"><title>140591793359224</title>\n",
       "<polygon fill=\"none\" points=\"26.5,-1022.5 26.5,-1058.5 233.5,-1058.5 233.5,-1022.5 26.5,-1022.5\" stroke=\"black\"/>\n",
       "<text font-family=\"Times,serif\" font-size=\"14.00\" text-anchor=\"middle\" x=\"130\" y=\"-1036.8\">max_pooling2d_1: MaxPooling2D</text>\n",
       "</g>\n",
       "<!-- 140591794592456&#45;&gt;140591793359224 -->\n",
       "<g class=\"edge\" id=\"edge7\"><title>140591794592456-&gt;140591793359224</title>\n",
       "<path d=\"M130,-1095.31C130,-1087.29 130,-1077.55 130,-1068.57\" fill=\"none\" stroke=\"black\"/>\n",
       "<polygon fill=\"black\" points=\"133.5,-1068.53 130,-1058.53 126.5,-1068.53 133.5,-1068.53\" stroke=\"black\"/>\n",
       "</g>\n",
       "<!-- 140591792507424 -->\n",
       "<g class=\"node\" id=\"node9\"><title>140591792507424</title>\n",
       "<polygon fill=\"none\" points=\"0,-949.5 0,-985.5 260,-985.5 260,-949.5 0,-949.5\" stroke=\"black\"/>\n",
       "<text font-family=\"Times,serif\" font-size=\"14.00\" text-anchor=\"middle\" x=\"130\" y=\"-963.8\">batch_normalization_2: BatchNormalization</text>\n",
       "</g>\n",
       "<!-- 140591793359224&#45;&gt;140591792507424 -->\n",
       "<g class=\"edge\" id=\"edge8\"><title>140591793359224-&gt;140591792507424</title>\n",
       "<path d=\"M130,-1022.31C130,-1014.29 130,-1004.55 130,-995.569\" fill=\"none\" stroke=\"black\"/>\n",
       "<polygon fill=\"black\" points=\"133.5,-995.529 130,-985.529 126.5,-995.529 133.5,-995.529\" stroke=\"black\"/>\n",
       "</g>\n",
       "<!-- 140591792301616 -->\n",
       "<g class=\"node\" id=\"node10\"><title>140591792301616</title>\n",
       "<polygon fill=\"none\" points=\"68.5,-876.5 68.5,-912.5 191.5,-912.5 191.5,-876.5 68.5,-876.5\" stroke=\"black\"/>\n",
       "<text font-family=\"Times,serif\" font-size=\"14.00\" text-anchor=\"middle\" x=\"130\" y=\"-890.8\">conv2d_3: Conv2D</text>\n",
       "</g>\n",
       "<!-- 140591792507424&#45;&gt;140591792301616 -->\n",
       "<g class=\"edge\" id=\"edge9\"><title>140591792507424-&gt;140591792301616</title>\n",
       "<path d=\"M130,-949.313C130,-941.289 130,-931.547 130,-922.569\" fill=\"none\" stroke=\"black\"/>\n",
       "<polygon fill=\"black\" points=\"133.5,-922.529 130,-912.529 126.5,-922.529 133.5,-922.529\" stroke=\"black\"/>\n",
       "</g>\n",
       "<!-- 140591794836872 -->\n",
       "<g class=\"node\" id=\"node11\"><title>140591794836872</title>\n",
       "<polygon fill=\"none\" points=\"46,-803.5 46,-839.5 214,-839.5 214,-803.5 46,-803.5\" stroke=\"black\"/>\n",
       "<text font-family=\"Times,serif\" font-size=\"14.00\" text-anchor=\"middle\" x=\"130\" y=\"-817.8\">leaky_re_lu_3: LeakyReLU</text>\n",
       "</g>\n",
       "<!-- 140591792301616&#45;&gt;140591794836872 -->\n",
       "<g class=\"edge\" id=\"edge10\"><title>140591792301616-&gt;140591794836872</title>\n",
       "<path d=\"M130,-876.313C130,-868.289 130,-858.547 130,-849.569\" fill=\"none\" stroke=\"black\"/>\n",
       "<polygon fill=\"black\" points=\"133.5,-849.529 130,-839.529 126.5,-849.529 133.5,-849.529\" stroke=\"black\"/>\n",
       "</g>\n",
       "<!-- 140593009591800 -->\n",
       "<g class=\"node\" id=\"node12\"><title>140593009591800</title>\n",
       "<polygon fill=\"none\" points=\"0,-730.5 0,-766.5 260,-766.5 260,-730.5 0,-730.5\" stroke=\"black\"/>\n",
       "<text font-family=\"Times,serif\" font-size=\"14.00\" text-anchor=\"middle\" x=\"130\" y=\"-744.8\">batch_normalization_3: BatchNormalization</text>\n",
       "</g>\n",
       "<!-- 140591794836872&#45;&gt;140593009591800 -->\n",
       "<g class=\"edge\" id=\"edge11\"><title>140591794836872-&gt;140593009591800</title>\n",
       "<path d=\"M130,-803.313C130,-795.289 130,-785.547 130,-776.569\" fill=\"none\" stroke=\"black\"/>\n",
       "<polygon fill=\"black\" points=\"133.5,-776.529 130,-766.529 126.5,-776.529 133.5,-776.529\" stroke=\"black\"/>\n",
       "</g>\n",
       "<!-- 140593009590904 -->\n",
       "<g class=\"node\" id=\"node13\"><title>140593009590904</title>\n",
       "<polygon fill=\"none\" points=\"68.5,-657.5 68.5,-693.5 191.5,-693.5 191.5,-657.5 68.5,-657.5\" stroke=\"black\"/>\n",
       "<text font-family=\"Times,serif\" font-size=\"14.00\" text-anchor=\"middle\" x=\"130\" y=\"-671.8\">conv2d_4: Conv2D</text>\n",
       "</g>\n",
       "<!-- 140593009591800&#45;&gt;140593009590904 -->\n",
       "<g class=\"edge\" id=\"edge12\"><title>140593009591800-&gt;140593009590904</title>\n",
       "<path d=\"M130,-730.313C130,-722.289 130,-712.547 130,-703.569\" fill=\"none\" stroke=\"black\"/>\n",
       "<polygon fill=\"black\" points=\"133.5,-703.529 130,-693.529 126.5,-703.529 133.5,-703.529\" stroke=\"black\"/>\n",
       "</g>\n",
       "<!-- 140593009592528 -->\n",
       "<g class=\"node\" id=\"node14\"><title>140593009592528</title>\n",
       "<polygon fill=\"none\" points=\"46,-584.5 46,-620.5 214,-620.5 214,-584.5 46,-584.5\" stroke=\"black\"/>\n",
       "<text font-family=\"Times,serif\" font-size=\"14.00\" text-anchor=\"middle\" x=\"130\" y=\"-598.8\">leaky_re_lu_4: LeakyReLU</text>\n",
       "</g>\n",
       "<!-- 140593009590904&#45;&gt;140593009592528 -->\n",
       "<g class=\"edge\" id=\"edge13\"><title>140593009590904-&gt;140593009592528</title>\n",
       "<path d=\"M130,-657.313C130,-649.289 130,-639.547 130,-630.569\" fill=\"none\" stroke=\"black\"/>\n",
       "<polygon fill=\"black\" points=\"133.5,-630.529 130,-620.529 126.5,-630.529 133.5,-630.529\" stroke=\"black\"/>\n",
       "</g>\n",
       "<!-- 140591792203760 -->\n",
       "<g class=\"node\" id=\"node15\"><title>140591792203760</title>\n",
       "<polygon fill=\"none\" points=\"26.5,-511.5 26.5,-547.5 233.5,-547.5 233.5,-511.5 26.5,-511.5\" stroke=\"black\"/>\n",
       "<text font-family=\"Times,serif\" font-size=\"14.00\" text-anchor=\"middle\" x=\"130\" y=\"-525.8\">max_pooling2d_2: MaxPooling2D</text>\n",
       "</g>\n",
       "<!-- 140593009592528&#45;&gt;140591792203760 -->\n",
       "<g class=\"edge\" id=\"edge14\"><title>140593009592528-&gt;140591792203760</title>\n",
       "<path d=\"M130,-584.313C130,-576.289 130,-566.547 130,-557.569\" fill=\"none\" stroke=\"black\"/>\n",
       "<polygon fill=\"black\" points=\"133.5,-557.529 130,-547.529 126.5,-557.529 133.5,-557.529\" stroke=\"black\"/>\n",
       "</g>\n",
       "<!-- 140591792111344 -->\n",
       "<g class=\"node\" id=\"node16\"><title>140591792111344</title>\n",
       "<polygon fill=\"none\" points=\"75,-438.5 75,-474.5 185,-474.5 185,-438.5 75,-438.5\" stroke=\"black\"/>\n",
       "<text font-family=\"Times,serif\" font-size=\"14.00\" text-anchor=\"middle\" x=\"130\" y=\"-452.8\">flatten_1: Flatten</text>\n",
       "</g>\n",
       "<!-- 140591792203760&#45;&gt;140591792111344 -->\n",
       "<g class=\"edge\" id=\"edge15\"><title>140591792203760-&gt;140591792111344</title>\n",
       "<path d=\"M130,-511.313C130,-503.289 130,-493.547 130,-484.569\" fill=\"none\" stroke=\"black\"/>\n",
       "<polygon fill=\"black\" points=\"133.5,-484.529 130,-474.529 126.5,-484.529 133.5,-484.529\" stroke=\"black\"/>\n",
       "</g>\n",
       "<!-- 140591792342800 -->\n",
       "<g class=\"node\" id=\"node17\"><title>140591792342800</title>\n",
       "<polygon fill=\"none\" points=\"0,-365.5 0,-401.5 260,-401.5 260,-365.5 0,-365.5\" stroke=\"black\"/>\n",
       "<text font-family=\"Times,serif\" font-size=\"14.00\" text-anchor=\"middle\" x=\"130\" y=\"-379.8\">batch_normalization_4: BatchNormalization</text>\n",
       "</g>\n",
       "<!-- 140591792111344&#45;&gt;140591792342800 -->\n",
       "<g class=\"edge\" id=\"edge16\"><title>140591792111344-&gt;140591792342800</title>\n",
       "<path d=\"M130,-438.313C130,-430.289 130,-420.547 130,-411.569\" fill=\"none\" stroke=\"black\"/>\n",
       "<polygon fill=\"black\" points=\"133.5,-411.529 130,-401.529 126.5,-411.529 133.5,-411.529\" stroke=\"black\"/>\n",
       "</g>\n",
       "<!-- 140591792341624 -->\n",
       "<g class=\"node\" id=\"node18\"><title>140591792341624</title>\n",
       "<polygon fill=\"none\" points=\"79,-292.5 79,-328.5 181,-328.5 181,-292.5 79,-292.5\" stroke=\"black\"/>\n",
       "<text font-family=\"Times,serif\" font-size=\"14.00\" text-anchor=\"middle\" x=\"130\" y=\"-306.8\">dense_1: Dense</text>\n",
       "</g>\n",
       "<!-- 140591792342800&#45;&gt;140591792341624 -->\n",
       "<g class=\"edge\" id=\"edge17\"><title>140591792342800-&gt;140591792341624</title>\n",
       "<path d=\"M130,-365.313C130,-357.289 130,-347.547 130,-338.569\" fill=\"none\" stroke=\"black\"/>\n",
       "<polygon fill=\"black\" points=\"133.5,-338.529 130,-328.529 126.5,-338.529 133.5,-338.529\" stroke=\"black\"/>\n",
       "</g>\n",
       "<!-- 140591791904864 -->\n",
       "<g class=\"node\" id=\"node19\"><title>140591791904864</title>\n",
       "<polygon fill=\"none\" points=\"46,-219.5 46,-255.5 214,-255.5 214,-219.5 46,-219.5\" stroke=\"black\"/>\n",
       "<text font-family=\"Times,serif\" font-size=\"14.00\" text-anchor=\"middle\" x=\"130\" y=\"-233.8\">leaky_re_lu_5: LeakyReLU</text>\n",
       "</g>\n",
       "<!-- 140591792341624&#45;&gt;140591791904864 -->\n",
       "<g class=\"edge\" id=\"edge18\"><title>140591792341624-&gt;140591791904864</title>\n",
       "<path d=\"M130,-292.313C130,-284.289 130,-274.547 130,-265.569\" fill=\"none\" stroke=\"black\"/>\n",
       "<polygon fill=\"black\" points=\"133.5,-265.529 130,-255.529 126.5,-265.529 133.5,-265.529\" stroke=\"black\"/>\n",
       "</g>\n",
       "<!-- 140591791903240 -->\n",
       "<g class=\"node\" id=\"node20\"><title>140591791903240</title>\n",
       "<polygon fill=\"none\" points=\"0,-146.5 0,-182.5 260,-182.5 260,-146.5 0,-146.5\" stroke=\"black\"/>\n",
       "<text font-family=\"Times,serif\" font-size=\"14.00\" text-anchor=\"middle\" x=\"130\" y=\"-160.8\">batch_normalization_5: BatchNormalization</text>\n",
       "</g>\n",
       "<!-- 140591791904864&#45;&gt;140591791903240 -->\n",
       "<g class=\"edge\" id=\"edge19\"><title>140591791904864-&gt;140591791903240</title>\n",
       "<path d=\"M130,-219.313C130,-211.289 130,-201.547 130,-192.569\" fill=\"none\" stroke=\"black\"/>\n",
       "<polygon fill=\"black\" points=\"133.5,-192.529 130,-182.529 126.5,-192.529 133.5,-192.529\" stroke=\"black\"/>\n",
       "</g>\n",
       "<!-- 140591791902960 -->\n",
       "<g class=\"node\" id=\"node21\"><title>140591791902960</title>\n",
       "<polygon fill=\"none\" points=\"67.5,-73.5 67.5,-109.5 192.5,-109.5 192.5,-73.5 67.5,-73.5\" stroke=\"black\"/>\n",
       "<text font-family=\"Times,serif\" font-size=\"14.00\" text-anchor=\"middle\" x=\"130\" y=\"-87.8\">dropout_1: Dropout</text>\n",
       "</g>\n",
       "<!-- 140591791903240&#45;&gt;140591791902960 -->\n",
       "<g class=\"edge\" id=\"edge20\"><title>140591791903240-&gt;140591791902960</title>\n",
       "<path d=\"M130,-146.313C130,-138.289 130,-128.547 130,-119.569\" fill=\"none\" stroke=\"black\"/>\n",
       "<polygon fill=\"black\" points=\"133.5,-119.529 130,-109.529 126.5,-119.529 133.5,-119.529\" stroke=\"black\"/>\n",
       "</g>\n",
       "<!-- 140591793991632 -->\n",
       "<g class=\"node\" id=\"node22\"><title>140591793991632</title>\n",
       "<polygon fill=\"none\" points=\"79,-0.5 79,-36.5 181,-36.5 181,-0.5 79,-0.5\" stroke=\"black\"/>\n",
       "<text font-family=\"Times,serif\" font-size=\"14.00\" text-anchor=\"middle\" x=\"130\" y=\"-14.8\">dense_2: Dense</text>\n",
       "</g>\n",
       "<!-- 140591791902960&#45;&gt;140591793991632 -->\n",
       "<g class=\"edge\" id=\"edge21\"><title>140591791902960-&gt;140591793991632</title>\n",
       "<path d=\"M130,-73.3129C130,-65.2895 130,-55.5475 130,-46.5691\" fill=\"none\" stroke=\"black\"/>\n",
       "<polygon fill=\"black\" points=\"133.5,-46.5288 130,-36.5288 126.5,-46.5289 133.5,-46.5288\" stroke=\"black\"/>\n",
       "</g>\n",
       "</g>\n",
       "</svg>"
      ],
      "text/plain": [
       "<IPython.core.display.SVG object>"
      ]
     },
     "execution_count": 35,
     "metadata": {},
     "output_type": "execute_result"
    }
   ],
   "source": [
    "# fix for python3\n",
    "import pydotplus as pydot\n",
    "\n",
    "from keras.utils import plot_model\n",
    "plot_model(models[0], to_file='model.png')\n",
    "\n",
    "# visualize our model\n",
    "from IPython.display import SVG\n",
    "from keras.utils.vis_utils import model_to_dot\n",
    "SVG(model_to_dot(models[0]).create(prog='dot', format='svg'))"
   ]
  },
  {
   "cell_type": "markdown",
   "metadata": {},
   "source": [
    "# Visualize predictions for best performing single model\n",
    "As well as looking at the overall metrics, it's also a good idea to look at examples of:\n",
    "1. A few correct labels at random\n",
    "2. A few incorrect labels at random"
   ]
  },
  {
   "cell_type": "code",
   "execution_count": 36,
   "metadata": {
    "collapsed": true
   },
   "outputs": [],
   "source": [
    "m = create_model()"
   ]
  },
  {
   "cell_type": "code",
   "execution_count": 37,
   "metadata": {
    "collapsed": true
   },
   "outputs": [],
   "source": [
    "# load saved weights\n",
    "m.load_weights(\"weights/weights_mnist+32epochs_1.pkl\")"
   ]
  },
  {
   "cell_type": "code",
   "execution_count": 38,
   "metadata": {},
   "outputs": [
    {
     "name": "stdout",
     "output_type": "stream",
     "text": [
      "38912/40000 [============================>.] - ETA: 0s"
     ]
    }
   ],
   "source": [
    "# predict classes\n",
    "preds = m.predict_classes(x_test, batch_size=eval_batch_size)"
   ]
  },
  {
   "cell_type": "code",
   "execution_count": 39,
   "metadata": {},
   "outputs": [
    {
     "data": {
      "text/plain": [
       "(40000,)"
      ]
     },
     "execution_count": 39,
     "metadata": {},
     "output_type": "execute_result"
    }
   ],
   "source": [
    "preds.shape"
   ]
  },
  {
   "cell_type": "code",
   "execution_count": 40,
   "metadata": {},
   "outputs": [
    {
     "data": {
      "text/plain": [
       "(40000,)"
      ]
     },
     "execution_count": 40,
     "metadata": {},
     "output_type": "execute_result"
    }
   ],
   "source": [
    "test_labels.shape"
   ]
  },
  {
   "cell_type": "code",
   "execution_count": 41,
   "metadata": {
    "collapsed": true
   },
   "outputs": [],
   "source": [
    "correct = np.where(preds==test_labels)[0]"
   ]
  },
  {
   "cell_type": "code",
   "execution_count": 42,
   "metadata": {
    "collapsed": true
   },
   "outputs": [],
   "source": [
    "incorrect = np.where(preds!=test_labels)[0]"
   ]
  },
  {
   "cell_type": "code",
   "execution_count": 43,
   "metadata": {},
   "outputs": [
    {
     "data": {
      "text/plain": [
       "(39913,)"
      ]
     },
     "execution_count": 43,
     "metadata": {},
     "output_type": "execute_result"
    }
   ],
   "source": [
    "correct.shape"
   ]
  },
  {
   "cell_type": "code",
   "execution_count": 44,
   "metadata": {},
   "outputs": [
    {
     "data": {
      "text/plain": [
       "(87,)"
      ]
     },
     "execution_count": 44,
     "metadata": {},
     "output_type": "execute_result"
    }
   ],
   "source": [
    "incorrect.shape"
   ]
  },
  {
   "cell_type": "code",
   "execution_count": 45,
   "metadata": {
    "collapsed": true
   },
   "outputs": [],
   "source": [
    "# number of images to view\n",
    "n_view = 30"
   ]
  },
  {
   "cell_type": "code",
   "execution_count": 46,
   "metadata": {
    "collapsed": true
   },
   "outputs": [],
   "source": [
    "from numpy.random import permutation\n",
    "\n",
    "# get a random selection of correctly predicted images\n",
    "idx = permutation(correct)[:n_view]\n",
    "idx_incorrect = permutation(incorrect)[:n_view]"
   ]
  },
  {
   "cell_type": "code",
   "execution_count": 47,
   "metadata": {
    "collapsed": true
   },
   "outputs": [],
   "source": [
    "preds_correct = preds[idx]\n",
    "preds_incorrect = preds[idx_incorrect]"
   ]
  },
  {
   "cell_type": "code",
   "execution_count": 48,
   "metadata": {
    "collapsed": true
   },
   "outputs": [],
   "source": [
    "imgs = x_test[idx]\n",
    "imgs_incorrect = x_test[idx_incorrect]"
   ]
  },
  {
   "cell_type": "code",
   "execution_count": 49,
   "metadata": {},
   "outputs": [
    {
     "data": {
      "text/plain": [
       "(30, 1, 28, 28)"
      ]
     },
     "execution_count": 49,
     "metadata": {},
     "output_type": "execute_result"
    }
   ],
   "source": [
    "imgs.shape"
   ]
  },
  {
   "cell_type": "markdown",
   "metadata": {},
   "source": [
    "### A few correct labels at random"
   ]
  },
  {
   "cell_type": "code",
   "execution_count": 50,
   "metadata": {},
   "outputs": [
    {
     "data": {
      "image/png": "[encoded data removed]",
      "text/plain": [
       "<matplotlib.figure.Figure at 0x7fde0a514e48>"
      ]
     },
     "metadata": {},
     "output_type": "display_data"
    }
   ],
   "source": [
    "f = plt.figure(figsize=(12,6))\n",
    "\n",
    "for i in range(n_view):\n",
    "    sp = f.add_subplot(3, 10, i+1)\n",
    "    sp.axis('Off')\n",
    "    sp.set_title(preds_correct[i])\n",
    "    img = imgs[i].astype('float32')\n",
    "    plt.imshow(img[0], cmap='gray')"
   ]
  },
  {
   "cell_type": "code",
   "execution_count": 51,
   "metadata": {},
   "outputs": [
    {
     "data": {
      "text/plain": [
       "array([7, 4, 5, 1, 5, 6, 9, 7, 3, 3, 0, 8, 1, 8, 8, 9, 5, 8, 0, 8, 0, 5, 1,\n",
       "       8, 0, 9, 4, 5, 9, 1], dtype=uint8)"
      ]
     },
     "execution_count": 51,
     "metadata": {},
     "output_type": "execute_result"
    }
   ],
   "source": [
    "# ground truth labels\n",
    "test_labels[idx]"
   ]
  },
  {
   "cell_type": "markdown",
   "metadata": {},
   "source": [
    "### a few incorrect labels at random"
   ]
  },
  {
   "cell_type": "code",
   "execution_count": 52,
   "metadata": {},
   "outputs": [
    {
     "data": {
      "image/png": "[encoded data removed]",
      "text/plain": [
       "<matplotlib.figure.Figure at 0x7fde13f16b38>"
      ]
     },
     "metadata": {},
     "output_type": "display_data"
    }
   ],
   "source": [
    "f = plt.figure(figsize=(12,6))\n",
    "\n",
    "for i in range(n_view): \n",
    "    sp = f.add_subplot(3, 10, i+1)\n",
    "    sp.axis('Off')\n",
    "    sp.set_title(\"{} | {}\".format(preds_incorrect[i],test_labels[idx_incorrect][i]))\n",
    "    img = imgs_incorrect[i].astype('float32')\n",
    "    plt.imshow(img[0], cmap='gray')"
   ]
  },
  {
   "cell_type": "code",
   "execution_count": 53,
   "metadata": {},
   "outputs": [
    {
     "data": {
      "text/plain": [
       "array([2, 2, 9, 9, 7, 6, 8, 2, 0, 6, 7, 6, 6, 6, 9, 1, 3, 2, 9, 9, 4, 4, 1,\n",
       "       4, 4, 5, 5, 4, 0, 8], dtype=uint8)"
      ]
     },
     "execution_count": 53,
     "metadata": {},
     "output_type": "execute_result"
    }
   ],
   "source": [
    "# ground truth labels\n",
    "test_labels[idx_incorrect]"
   ]
  },
  {
   "cell_type": "markdown",
   "metadata": {},
   "source": [
    "# Print confusion matrix"
   ]
  },
  {
   "cell_type": "markdown",
   "metadata": {},
   "source": [
    "Plot unnormalized and normalized confusion matrices. Code adapted from \n",
    "http://scikit-learn.org/stable/auto_examples/model_selection/plot_confusion_matrix.html\n"
   ]
  },
  {
   "cell_type": "code",
   "execution_count": 54,
   "metadata": {
    "collapsed": true
   },
   "outputs": [],
   "source": [
    "def plot_confusion_matrix(cm, classes,\n",
    "                          normalize=False,\n",
    "                          title='Confusion matrix',\n",
    "                          cmap=plt.cm.Blues):\n",
    "    \"\"\"\n",
    "    This function prints and plots the confusion matrix.\n",
    "    Normalization can be applied by setting `normalize=True`.\n",
    "    \"\"\"\n",
    "    if normalize:\n",
    "        cm = cm.astype('float') / cm.sum(axis=1)[:, np.newaxis]\n",
    "        print(\"Normalized confusion matrix\")\n",
    "    else:\n",
    "        print('Confusion matrix, without normalization')\n",
    "\n",
    "    print(cm)\n",
    "\n",
    "    plt.imshow(cm, interpolation='nearest', cmap=cmap)\n",
    "    plt.title(title)\n",
    "    plt.colorbar()\n",
    "    tick_marks = np.arange(len(classes))\n",
    "    plt.xticks(tick_marks, classes, rotation=45)\n",
    "    plt.yticks(tick_marks, classes)\n",
    "\n",
    "    fmt = '.2f' if normalize else 'd'\n",
    "    thresh = cm.max() / 2.\n",
    "    for i, j in itertools.product(range(cm.shape[0]), range(cm.shape[1])):\n",
    "        plt.text(j, i, format(cm[i, j], fmt),\n",
    "                 horizontalalignment=\"center\",\n",
    "                 color=\"white\" if cm[i, j] > thresh else \"black\")\n",
    "\n",
    "    plt.tight_layout()\n",
    "    plt.ylabel('True label')\n",
    "    plt.xlabel('Predicted label')"
   ]
  },
  {
   "cell_type": "code",
   "execution_count": 55,
   "metadata": {
    "collapsed": true,
    "scrolled": true
   },
   "outputs": [],
   "source": [
    "# calculate confusion matrix\n",
    "from sklearn.metrics import confusion_matrix\n",
    "cnf_matrix = confusion_matrix(test_labels, preds)"
   ]
  },
  {
   "cell_type": "code",
   "execution_count": 56,
   "metadata": {},
   "outputs": [
    {
     "name": "stdout",
     "output_type": "stream",
     "text": [
      "Confusion matrix, without normalization\n",
      "[[3992    1    1    0    1    1    1    0    0    3]\n",
      " [   0 3994    1    0    1    0    0    3    1    0]\n",
      " [   1    1 3992    3    0    0    0    2    1    0]\n",
      " [   0    0    2 3991    0    5    0    0    2    0]\n",
      " [   0    0    0    0 3988    0    1    1    1    9]\n",
      " [   0    1    0    3    0 3994    2    0    0    0]\n",
      " [   3    0    1    0    1    1 3994    0    0    0]\n",
      " [   0    1    3    1    1    0    0 3994    0    0]\n",
      " [   1    2    3    2    1    0    1    0 3988    2]\n",
      " [   0    0    0    0    6    4    0    3    1 3986]]\n",
      "Normalized confusion matrix\n",
      "[[  9.98e-01   2.50e-04   2.50e-04   0.00e+00   2.50e-04   2.50e-04\n",
      "    2.50e-04   0.00e+00   0.00e+00   7.50e-04]\n",
      " [  0.00e+00   9.99e-01   2.50e-04   0.00e+00   2.50e-04   0.00e+00\n",
      "    0.00e+00   7.50e-04   2.50e-04   0.00e+00]\n",
      " [  2.50e-04   2.50e-04   9.98e-01   7.50e-04   0.00e+00   0.00e+00\n",
      "    0.00e+00   5.00e-04   2.50e-04   0.00e+00]\n",
      " [  0.00e+00   0.00e+00   5.00e-04   9.98e-01   0.00e+00   1.25e-03\n",
      "    0.00e+00   0.00e+00   5.00e-04   0.00e+00]\n",
      " [  0.00e+00   0.00e+00   0.00e+00   0.00e+00   9.97e-01   0.00e+00\n",
      "    2.50e-04   2.50e-04   2.50e-04   2.25e-03]\n",
      " [  0.00e+00   2.50e-04   0.00e+00   7.50e-04   0.00e+00   9.99e-01\n",
      "    5.00e-04   0.00e+00   0.00e+00   0.00e+00]\n",
      " [  7.50e-04   0.00e+00   2.50e-04   0.00e+00   2.50e-04   2.50e-04\n",
      "    9.99e-01   0.00e+00   0.00e+00   0.00e+00]\n",
      " [  0.00e+00   2.50e-04   7.50e-04   2.50e-04   2.50e-04   0.00e+00\n",
      "    0.00e+00   9.99e-01   0.00e+00   0.00e+00]\n",
      " [  2.50e-04   5.00e-04   7.50e-04   5.00e-04   2.50e-04   0.00e+00\n",
      "    2.50e-04   0.00e+00   9.97e-01   5.00e-04]\n",
      " [  0.00e+00   0.00e+00   0.00e+00   0.00e+00   1.50e-03   1.00e-03\n",
      "    0.00e+00   7.50e-04   2.50e-04   9.97e-01]]\n"
     ]
    },
    {
     "data": {
      "image/png": "[encoded data removed]",
      "text/plain": [
       "<matplotlib.figure.Figure at 0x7fde11de8b00>"
      ]
     },
     "metadata": {},
     "output_type": "display_data"
    },
    {
     "data": {
      "image/png": "[encoded data removed]",
      "text/plain": [
       "<matplotlib.figure.Figure at 0x7fde13e91860>"
      ]
     },
     "metadata": {},
     "output_type": "display_data"
    }
   ],
   "source": [
    "import itertools\n",
    "\n",
    "class_names = [i for i in range(10)]\n",
    "np.set_printoptions(precision=2)\n",
    "\n",
    "# Plot non-normalized confusion matrix\n",
    "plt.figure(figsize=(20,5))\n",
    "plot_confusion_matrix(cnf_matrix, classes=class_names,\n",
    "                      title='Confusion matrix, without normalization')\n",
    "\n",
    "# Plot normalized confusion matrix\n",
    "plt.figure(figsize=(20,5))\n",
    "plot_confusion_matrix(cnf_matrix, classes=class_names, normalize=True,\n",
    "                      title='Normalized confusion matrix')\n",
    "\n",
    "plt.show()"
   ]
  },
  {
   "cell_type": "markdown",
   "metadata": {},
   "source": [
    "# Save weights if models are accurate enough"
   ]
  },
  {
   "cell_type": "code",
   "execution_count": 36,
   "metadata": {
    "collapsed": true
   },
   "outputs": [],
   "source": [
    "# save the weights for every classifier\n",
    "for i, m in enumerate(models):\n",
    "    m.save_weights(\"weights/weights_mnist+xxepochs_\"+str(i)+'.pkl')"
   ]
  },
  {
   "cell_type": "code",
   "execution_count": null,
   "metadata": {
    "collapsed": true
   },
   "outputs": [],
   "source": []
  }
 ],
 "metadata": {
  "kernelspec": {
   "display_name": "Python 3",
   "language": "python",
   "name": "python3"
  },
  "language_info": {
   "codemirror_mode": {
    "name": "ipython",
    "version": 3
   },
   "file_extension": ".py",
   "mimetype": "text/x-python",
   "name": "python",
   "nbconvert_exporter": "python",
   "pygments_lexer": "ipython3",
   "version": "3.6.2"
  }
 },
 "nbformat": 4,
 "nbformat_minor": 2
}
