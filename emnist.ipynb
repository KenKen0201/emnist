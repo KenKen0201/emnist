{
 "cells": [
  {
   "cell_type": "markdown",
   "metadata": {},
   "source": [
    "# EMNIST digit classification"
   ]
  },
  {
   "cell_type": "markdown",
   "metadata": {},
   "source": [
    "## Results of this model on MNIST test data: \n",
    "1. 0.22% test error rate with ensemble of 10 CNNs\n",
    "2. 0.21% test error rate with ensemble of 6 selected CNNs\n",
    "3. 0.26% test error rate for best single model (model was trained for a few more epochs)\n",
    "\n",
    "## Results of this model on EMNIST test data: \n",
    "1. 0.22249817848205566 Ensemble of 10 CNNs (trained MNIST models for additional 16 epochs on EMNIST)\n",
    "8. 0.20499825477600098 for ensemble of models 0,2,7,9\n",
    "\n",
    "Further improvement seems unlikely with this model."
   ]
  },
  {
   "cell_type": "code",
   "execution_count": 1,
   "metadata": {
    "collapsed": true
   },
   "outputs": [],
   "source": [
    "%matplotlib inline"
   ]
  },
  {
   "cell_type": "code",
   "execution_count": 2,
   "metadata": {},
   "outputs": [
    {
     "name": "stderr",
     "output_type": "stream",
     "text": [
      "Using Theano backend.\n",
      "WARNING (theano.sandbox.cuda): The cuda backend is deprecated and will be removed in the next release (v0.10).  Please switch to the gpuarray backend. You can get more information about how to switch at this URL:\n",
      " https://github.com/Theano/Theano/wiki/Converting-to-the-new-gpu-back-end%28gpuarray%29\n",
      "\n",
      "Using gpu device 0: GeForce GTX 1070 (CNMeM is enabled with initial size: 90.0% of memory, cuDNN 5103)\n"
     ]
    }
   ],
   "source": [
    "import keras\n",
    "import numpy as np\n",
    "from keras.datasets import mnist\n",
    "from keras.layers import Dense, Dropout, Conv2D, MaxPooling2D\n",
    "from keras.layers import Flatten, Lambda, BatchNormalization\n",
    "from keras.models import Sequential\n",
    "from keras.optimizers import Adam as Adam\n",
    "\n",
    "# try leaky relu\n",
    "from keras.layers.advanced_activations import LeakyReLU"
   ]
  },
  {
   "cell_type": "markdown",
   "metadata": {},
   "source": [
    "# Load MNIST dataset"
   ]
  },
  {
   "cell_type": "code",
   "execution_count": 4,
   "metadata": {
    "collapsed": true
   },
   "outputs": [],
   "source": [
    "(x_train, y_train), (x_test, y_test) = mnist.load_data()\n",
    "\n",
    "# store labels on test set for visualization\n",
    "test_labels = y_test"
   ]
  },
  {
   "cell_type": "code",
   "execution_count": 5,
   "metadata": {
    "collapsed": true
   },
   "outputs": [],
   "source": [
    "rows = 28\n",
    "cols = 28\n",
    "\n",
    "# theano input shape\n",
    "input_shape = (1, rows, cols)"
   ]
  },
  {
   "cell_type": "code",
   "execution_count": 6,
   "metadata": {},
   "outputs": [
    {
     "data": {
      "text/plain": [
       "(60000, 28, 28)"
      ]
     },
     "execution_count": 6,
     "metadata": {},
     "output_type": "execute_result"
    }
   ],
   "source": [
    "x_train.shape"
   ]
  },
  {
   "cell_type": "code",
   "execution_count": 7,
   "metadata": {},
   "outputs": [
    {
     "data": {
      "text/plain": [
       "(60000, 1, 28, 28)"
      ]
     },
     "execution_count": 7,
     "metadata": {},
     "output_type": "execute_result"
    }
   ],
   "source": [
    "# vgg expects channels - here we have just one\n",
    "x_train = x_train.reshape(x_train.shape[0], 1, 28, 28)\n",
    "x_test = x_test.reshape(x_test.shape[0], 1, 28, 28)\n",
    "x_train.shape"
   ]
  },
  {
   "cell_type": "code",
   "execution_count": 8,
   "metadata": {
    "collapsed": true
   },
   "outputs": [],
   "source": [
    "# convert to float\n",
    "x_train = x_train.astype(np.float32)\n",
    "x_test = x_test.astype(np.float32)\n",
    "\n",
    "# normalize\n",
    "x_train /= 255\n",
    "x_test /= 255"
   ]
  },
  {
   "cell_type": "code",
   "execution_count": 9,
   "metadata": {},
   "outputs": [
    {
     "data": {
      "text/plain": [
       "(60000,)"
      ]
     },
     "execution_count": 9,
     "metadata": {},
     "output_type": "execute_result"
    }
   ],
   "source": [
    "y_train.shape"
   ]
  },
  {
   "cell_type": "code",
   "execution_count": 10,
   "metadata": {},
   "outputs": [
    {
     "data": {
      "text/plain": [
       "(60000, 10)"
      ]
     },
     "execution_count": 10,
     "metadata": {},
     "output_type": "execute_result"
    }
   ],
   "source": [
    "# labels should be onehot encoded\n",
    "y_train = keras.utils.to_categorical(y_train, 10)\n",
    "y_test = keras.utils.to_categorical(y_test, 10)\n",
    "\n",
    "y_train.shape"
   ]
  },
  {
   "cell_type": "code",
   "execution_count": 11,
   "metadata": {
    "scrolled": false
   },
   "outputs": [
    {
     "data": {
      "text/plain": [
       "array([[ 0.,  0.,  0.,  0.,  0.,  1.,  0.,  0.,  0.,  0.],\n",
       "       [ 1.,  0.,  0.,  0.,  0.,  0.,  0.,  0.,  0.,  0.],\n",
       "       [ 0.,  0.,  0.,  0.,  1.,  0.,  0.,  0.,  0.,  0.],\n",
       "       [ 0.,  1.,  0.,  0.,  0.,  0.,  0.,  0.,  0.,  0.],\n",
       "       [ 0.,  0.,  0.,  0.,  0.,  0.,  0.,  0.,  0.,  1.]])"
      ]
     },
     "execution_count": 11,
     "metadata": {},
     "output_type": "execute_result"
    }
   ],
   "source": [
    "y_train[:5]"
   ]
  },
  {
   "cell_type": "markdown",
   "metadata": {},
   "source": [
    "# Load EMNIST dataset\n",
    "Introduced by https://arxiv.org/abs/1702.05373v1 downloaded from https://www.nist.gov/itl/iad/image-group/emnist-dataset (Matlab format dataset). The matlab format dataset can be conveniently imported with scipy.io.loadmat."
   ]
  },
  {
   "cell_type": "code",
   "execution_count": 3,
   "metadata": {
    "collapsed": true
   },
   "outputs": [],
   "source": [
    "from scipy import io as spio"
   ]
  },
  {
   "cell_type": "code",
   "execution_count": 4,
   "metadata": {
    "collapsed": true
   },
   "outputs": [],
   "source": [
    "emnist = spio.loadmat(\"datasets/matlab/emnist-digits.mat\")"
   ]
  },
  {
   "cell_type": "code",
   "execution_count": 5,
   "metadata": {
    "collapsed": true
   },
   "outputs": [],
   "source": [
    "# load training dataset\n",
    "X_train_emnist = emnist[\"dataset\"][0][0][0][0][0][0]\n",
    "X_train_emnist = X_train_emnist.astype(np.float32)\n",
    "\n",
    "# load training labels\n",
    "y_train_emnist = emnist[\"dataset\"][0][0][0][0][0][1]"
   ]
  },
  {
   "cell_type": "code",
   "execution_count": 6,
   "metadata": {
    "collapsed": true
   },
   "outputs": [],
   "source": [
    "# load test dataset\n",
    "X_test_emnist = emnist[\"dataset\"][0][0][1][0][0][0]\n",
    "X_test_emnist = X_test_emnist.astype(np.float32)\n",
    "\n",
    "# load test labels\n",
    "y_test_emnist = emnist[\"dataset\"][0][0][1][0][0][1]"
   ]
  },
  {
   "cell_type": "code",
   "execution_count": 7,
   "metadata": {
    "collapsed": true
   },
   "outputs": [],
   "source": [
    "# store labels for visualization\n",
    "train_labels_emnist = y_train_emnist\n",
    "test_labels_emnist = y_test_emnist"
   ]
  },
  {
   "cell_type": "code",
   "execution_count": 8,
   "metadata": {},
   "outputs": [
    {
     "data": {
      "text/plain": [
       "(240000, 784)"
      ]
     },
     "execution_count": 8,
     "metadata": {},
     "output_type": "execute_result"
    }
   ],
   "source": [
    "X_train_emnist.shape"
   ]
  },
  {
   "cell_type": "code",
   "execution_count": 9,
   "metadata": {},
   "outputs": [
    {
     "data": {
      "text/plain": [
       "(240000, 1)"
      ]
     },
     "execution_count": 9,
     "metadata": {},
     "output_type": "execute_result"
    }
   ],
   "source": [
    "y_train_emnist.shape"
   ]
  },
  {
   "cell_type": "code",
   "execution_count": 10,
   "metadata": {
    "collapsed": true
   },
   "outputs": [],
   "source": [
    "# normalize\n",
    "X_train_emnist /= 255\n",
    "X_test_emnist /= 255"
   ]
  },
  {
   "cell_type": "code",
   "execution_count": 11,
   "metadata": {},
   "outputs": [
    {
     "data": {
      "text/plain": [
       "array([[ 0.,  0.,  0., ...,  0.,  0.,  0.],\n",
       "       [ 0.,  0.,  0., ...,  0.,  0.,  0.],\n",
       "       [ 0.,  0.,  0., ...,  0.,  0.,  0.],\n",
       "       ..., \n",
       "       [ 0.,  0.,  0., ...,  0.,  0.,  0.],\n",
       "       [ 0.,  0.,  0., ...,  0.,  0.,  0.],\n",
       "       [ 0.,  0.,  0., ...,  0.,  0.,  0.]], dtype=float32)"
      ]
     },
     "execution_count": 11,
     "metadata": {},
     "output_type": "execute_result"
    }
   ],
   "source": [
    "X_train_emnist"
   ]
  },
  {
   "cell_type": "code",
   "execution_count": 12,
   "metadata": {
    "collapsed": true
   },
   "outputs": [],
   "source": [
    "# reshape using matlab order\n",
    "X_train_emnist = X_train_emnist.reshape(X_train_emnist.shape[0], 1, 28, 28, order=\"A\")\n",
    "X_test_emnist = X_test_emnist.reshape(X_test_emnist.shape[0], 1, 28, 28, order=\"A\")"
   ]
  },
  {
   "cell_type": "code",
   "execution_count": 13,
   "metadata": {},
   "outputs": [
    {
     "data": {
      "text/plain": [
       "(240000, 1, 28, 28)"
      ]
     },
     "execution_count": 13,
     "metadata": {},
     "output_type": "execute_result"
    }
   ],
   "source": [
    "X_train_emnist.shape"
   ]
  },
  {
   "cell_type": "code",
   "execution_count": 14,
   "metadata": {},
   "outputs": [
    {
     "data": {
      "text/plain": [
       "(240000, 1)"
      ]
     },
     "execution_count": 14,
     "metadata": {},
     "output_type": "execute_result"
    }
   ],
   "source": [
    "y_train_emnist.shape"
   ]
  },
  {
   "cell_type": "code",
   "execution_count": 15,
   "metadata": {},
   "outputs": [
    {
     "data": {
      "text/plain": [
       "(240000, 10)"
      ]
     },
     "execution_count": 15,
     "metadata": {},
     "output_type": "execute_result"
    }
   ],
   "source": [
    "# labels should be onehot encoded\n",
    "y_train_emnist = keras.utils.to_categorical(y_train_emnist, 10)\n",
    "y_test_emnist = keras.utils.to_categorical(y_test_emnist, 10)\n",
    "\n",
    "y_train_emnist.shape"
   ]
  },
  {
   "cell_type": "markdown",
   "metadata": {},
   "source": [
    "### verify we have imported the data correctly"
   ]
  },
  {
   "cell_type": "code",
   "execution_count": 16,
   "metadata": {
    "collapsed": true
   },
   "outputs": [],
   "source": [
    "# which sample to look at\n",
    "samplenum = 5437"
   ]
  },
  {
   "cell_type": "code",
   "execution_count": 17,
   "metadata": {
    "scrolled": true
   },
   "outputs": [
    {
     "data": {
      "text/plain": [
       "<matplotlib.image.AxesImage at 0x7ff40af58940>"
      ]
     },
     "execution_count": 17,
     "metadata": {},
     "output_type": "execute_result"
    },
    {
     "data": {
      "image/png": "[encoded data removed]",
      "text/plain": [
       "<matplotlib.figure.Figure at 0x7ff40c0c1400>"
      ]
     },
     "metadata": {},
     "output_type": "display_data"
    }
   ],
   "source": [
    "import matplotlib.pyplot as plt\n",
    "\n",
    "img = X_train_emnist[samplenum]\n",
    "\n",
    "# visualize image\n",
    "plt.imshow(img[0], cmap='gray')"
   ]
  },
  {
   "cell_type": "code",
   "execution_count": 18,
   "metadata": {},
   "outputs": [
    {
     "data": {
      "text/plain": [
       "7"
      ]
     },
     "execution_count": 18,
     "metadata": {},
     "output_type": "execute_result"
    }
   ],
   "source": [
    "# show label for sample image\n",
    "train_labels_emnist[samplenum][0]"
   ]
  },
  {
   "cell_type": "markdown",
   "metadata": {},
   "source": [
    "# Use EMNIST dataset instead of MNIST"
   ]
  },
  {
   "cell_type": "code",
   "execution_count": 19,
   "metadata": {
    "collapsed": true
   },
   "outputs": [],
   "source": [
    "x_train = X_train_emnist\n",
    "y_train = y_train_emnist\n",
    "\n",
    "x_test = X_test_emnist\n",
    "y_test = y_test_emnist\n",
    "\n",
    "test_labels = test_labels_emnist"
   ]
  },
  {
   "cell_type": "code",
   "execution_count": 20,
   "metadata": {
    "collapsed": true
   },
   "outputs": [],
   "source": [
    "test_labels = test_labels.reshape(40000)"
   ]
  },
  {
   "cell_type": "code",
   "execution_count": 21,
   "metadata": {},
   "outputs": [
    {
     "data": {
      "text/plain": [
       "(40000,)"
      ]
     },
     "execution_count": 21,
     "metadata": {},
     "output_type": "execute_result"
    }
   ],
   "source": [
    "test_labels.shape"
   ]
  },
  {
   "cell_type": "markdown",
   "metadata": {},
   "source": [
    "# Define model"
   ]
  },
  {
   "cell_type": "code",
   "execution_count": 22,
   "metadata": {
    "collapsed": true
   },
   "outputs": [],
   "source": [
    "# calculate mean and standard deviation\n",
    "mean_px = x_train.mean().astype(np.float32)\n",
    "std_px = x_train.std().astype(np.float32)"
   ]
  },
  {
   "cell_type": "code",
   "execution_count": 23,
   "metadata": {
    "collapsed": true
   },
   "outputs": [],
   "source": [
    "# function to normalize input data\n",
    "def norm_input(x): return (x-mean_px)/std_px"
   ]
  },
  {
   "cell_type": "code",
   "execution_count": 24,
   "metadata": {
    "collapsed": true
   },
   "outputs": [],
   "source": [
    "# Batchnorm + dropout + data augmentation\n",
    "def create_model():\n",
    "    model = Sequential([\n",
    "        Lambda(norm_input, input_shape=(1,28,28), output_shape=(1,28,28)),\n",
    "        Conv2D(32, (3,3)),\n",
    "        LeakyReLU(),\n",
    "        BatchNormalization(axis=1),\n",
    "        Conv2D(32, (3,3)),\n",
    "        LeakyReLU(),\n",
    "        MaxPooling2D(),\n",
    "        BatchNormalization(axis=1),\n",
    "        Conv2D(64, (3,3)),\n",
    "        LeakyReLU(),\n",
    "        BatchNormalization(axis=1),\n",
    "        Conv2D(64, (3,3)),\n",
    "        LeakyReLU(),\n",
    "        MaxPooling2D(),\n",
    "        Flatten(),\n",
    "        BatchNormalization(),\n",
    "        Dense(512),\n",
    "        LeakyReLU(),\n",
    "        BatchNormalization(),\n",
    "        Dropout(0.3),\n",
    "        Dense(10, activation='softmax')\n",
    "    ])\n",
    "    model.compile(Adam(), loss='categorical_crossentropy', metrics=['accuracy'])\n",
    "    return model"
   ]
  },
  {
   "cell_type": "markdown",
   "metadata": {},
   "source": [
    "# Data augmentation\n",
    "Use keras's data augmentation."
   ]
  },
  {
   "cell_type": "code",
   "execution_count": 25,
   "metadata": {
    "collapsed": true
   },
   "outputs": [],
   "source": [
    "batch_size = 512"
   ]
  },
  {
   "cell_type": "code",
   "execution_count": 26,
   "metadata": {
    "collapsed": true
   },
   "outputs": [],
   "source": [
    "from keras.preprocessing.image import ImageDataGenerator"
   ]
  },
  {
   "cell_type": "code",
   "execution_count": 27,
   "metadata": {
    "collapsed": true
   },
   "outputs": [],
   "source": [
    "gen = ImageDataGenerator(rotation_range=12, width_shift_range=0.1, shear_range=0.3,\n",
    "                        height_shift_range=0.1, zoom_range=0.1, data_format='channels_first')\n",
    "batches = gen.flow(x_train, y_train, batch_size=batch_size)\n",
    "test_batches = gen.flow(x_test, y_test, batch_size=batch_size)\n",
    "steps_per_epoch = int(np.ceil(batches.n/batch_size))\n",
    "validation_steps = int(np.ceil(test_batches.n/batch_size))"
   ]
  },
  {
   "cell_type": "code",
   "execution_count": 28,
   "metadata": {},
   "outputs": [
    {
     "data": {
      "text/plain": [
       "<matplotlib.image.AxesImage at 0x7ff3c295f748>"
      ]
     },
     "execution_count": 28,
     "metadata": {},
     "output_type": "execute_result"
    },
    {
     "data": {
      "image/png": "[encoded data removed]",
      "text/plain": [
       "<matplotlib.figure.Figure at 0x7ff40aec0908>"
      ]
     },
     "metadata": {},
     "output_type": "display_data"
    }
   ],
   "source": [
    "import matplotlib.pyplot as plt\n",
    "\n",
    "# load ONE image from training set to display on screen\n",
    "img = x_train[1]\n",
    "\n",
    "# visualize original image\n",
    "plt.imshow(img[0], cmap='gray')"
   ]
  },
  {
   "cell_type": "code",
   "execution_count": 29,
   "metadata": {
    "collapsed": true
   },
   "outputs": [],
   "source": [
    "# trick our generator into believing img has enough dimensions\n",
    "# and get some augmented images for our single test image\n",
    "img = np.expand_dims(img, axis=0)\n",
    "aug_iter = gen.flow(img)"
   ]
  },
  {
   "cell_type": "code",
   "execution_count": 30,
   "metadata": {},
   "outputs": [
    {
     "data": {
      "text/plain": [
       "(1, 28, 28)"
      ]
     },
     "execution_count": 30,
     "metadata": {},
     "output_type": "execute_result"
    }
   ],
   "source": [
    "aug_img = next(aug_iter)[0].astype(np.float32)\n",
    "aug_img.shape"
   ]
  },
  {
   "cell_type": "code",
   "execution_count": 31,
   "metadata": {},
   "outputs": [
    {
     "data": {
      "image/png": "[encoded data removed]",
      "text/plain": [
       "<matplotlib.figure.Figure at 0x7ff3c29844a8>"
      ]
     },
     "metadata": {},
     "output_type": "display_data"
    }
   ],
   "source": [
    "import matplotlib.pyplot as plt\n",
    "\n",
    "# show augmented images\n",
    "f = plt.figure(figsize=(12,6))\n",
    "for i in range(8):\n",
    "    sp = f.add_subplot(2, 26//3, i+1)\n",
    "    sp.axis('Off')\n",
    "    aug_img = next(aug_iter)[0].astype(np.float32)\n",
    "    plt.imshow(aug_img[0], cmap='gray')"
   ]
  },
  {
   "cell_type": "markdown",
   "metadata": {},
   "source": [
    "# Create models using saved weights"
   ]
  },
  {
   "cell_type": "code",
   "execution_count": 32,
   "metadata": {
    "collapsed": true
   },
   "outputs": [],
   "source": [
    "models = []\n",
    "\n",
    "for i in range(10):\n",
    "    m = create_model()\n",
    "    m.load_weights('weights/weights_mnist+16epochs_'+str(i)+'.pkl')\n",
    "    models.append(m)"
   ]
  },
  {
   "cell_type": "markdown",
   "metadata": {},
   "source": [
    "# Ensembling\n",
    "Here we create ten models and fit them to our augmented data. We use the mean prediction from all ten classifiers as our final prediction. This should average out errors in our classifiers and enable us to predict with higher accuracy."
   ]
  },
  {
   "cell_type": "code",
   "execution_count": null,
   "metadata": {
    "collapsed": true
   },
   "outputs": [],
   "source": [
    "# fit the model on batches with real-time data augmentation\n",
    "def fit_model(m):\n",
    "    m.fit_generator(batches, steps_per_epoch=steps_per_epoch, epochs=1, verbose=0,\n",
    "                   validation_data=test_batches, validation_steps=validation_steps)\n",
    "    m.optimizer.lr = 0.1\n",
    "    m.fit_generator(batches, steps_per_epoch=steps_per_epoch, epochs=4, verbose=0,\n",
    "                   validation_data=test_batches, validation_steps=validation_steps)\n",
    "    m.optimizer.lr = 0.01\n",
    "    m.fit_generator(batches, steps_per_epoch=steps_per_epoch, epochs=12, verbose=0,\n",
    "                   validation_data=test_batches, validation_steps=validation_steps)\n",
    "    m.optimizer.lr = 0.001\n",
    "    m.fit_generator(batches, steps_per_epoch=steps_per_epoch, epochs=18, verbose=0,\n",
    "                   validation_data=test_batches, validation_steps=validation_steps)\n",
    "    return m"
   ]
  },
  {
   "cell_type": "markdown",
   "metadata": {},
   "source": [
    "## Create and train ten models"
   ]
  },
  {
   "cell_type": "code",
   "execution_count": null,
   "metadata": {
    "collapsed": true
   },
   "outputs": [],
   "source": [
    "models = []\n",
    "\n",
    "for i in range(10):\n",
    "    print(\"Training model {}\".format(i))\n",
    "    m = fit_model(create_model())\n",
    "    models.append(m)"
   ]
  },
  {
   "cell_type": "code",
   "execution_count": 58,
   "metadata": {
    "collapsed": true
   },
   "outputs": [
    {
     "name": "stdout",
     "output_type": "stream",
     "text": [
      "Training model 0\n",
      "Epoch 1/16\n",
      "469/469 [==============================] - 39s - loss: 0.0312 - acc: 0.9912 - val_loss: 0.0244 - val_acc: 0.9934\n",
      "Epoch 2/16\n",
      "469/469 [==============================] - 38s - loss: 0.0257 - acc: 0.9926 - val_loss: 0.0199 - val_acc: 0.9943\n",
      "Epoch 3/16\n",
      "469/469 [==============================] - 39s - loss: 0.0240 - acc: 0.9935 - val_loss: 0.0190 - val_acc: 0.9946\n",
      "Epoch 4/16\n",
      "469/469 [==============================] - 38s - loss: 0.0220 - acc: 0.9937 - val_loss: 0.0185 - val_acc: 0.9948\n",
      "Epoch 5/16\n",
      "469/469 [==============================] - 38s - loss: 0.0219 - acc: 0.9939 - val_loss: 0.0192 - val_acc: 0.9945\n",
      "Epoch 6/16\n",
      "469/469 [==============================] - 38s - loss: 0.0211 - acc: 0.9940 - val_loss: 0.0177 - val_acc: 0.9951\n",
      "Epoch 7/16\n",
      "469/469 [==============================] - 38s - loss: 0.0205 - acc: 0.9942 - val_loss: 0.0168 - val_acc: 0.9953\n",
      "Epoch 8/16\n",
      "469/469 [==============================] - 38s - loss: 0.0201 - acc: 0.9945 - val_loss: 0.0182 - val_acc: 0.9949\n",
      "Epoch 9/16\n",
      "469/469 [==============================] - 39s - loss: 0.0200 - acc: 0.9944 - val_loss: 0.0173 - val_acc: 0.9953\n",
      "Epoch 10/16\n",
      "469/469 [==============================] - 39s - loss: 0.0197 - acc: 0.9945 - val_loss: 0.0171 - val_acc: 0.9952\n",
      "Epoch 11/16\n",
      "469/469 [==============================] - 39s - loss: 0.0195 - acc: 0.9946 - val_loss: 0.0185 - val_acc: 0.9953\n",
      "Epoch 12/16\n",
      "469/469 [==============================] - 38s - loss: 0.0191 - acc: 0.9949 - val_loss: 0.0164 - val_acc: 0.9957\n",
      "Epoch 13/16\n",
      "469/469 [==============================] - 39s - loss: 0.0190 - acc: 0.9947 - val_loss: 0.0164 - val_acc: 0.9956\n",
      "Epoch 14/16\n",
      "469/469 [==============================] - 39s - loss: 0.0187 - acc: 0.9949 - val_loss: 0.0178 - val_acc: 0.9952\n",
      "Epoch 15/16\n",
      "469/469 [==============================] - 38s - loss: 0.0185 - acc: 0.9948 - val_loss: 0.0154 - val_acc: 0.9958\n",
      "Epoch 16/16\n",
      "469/469 [==============================] - 38s - loss: 0.0180 - acc: 0.9951 - val_loss: 0.0150 - val_acc: 0.9958\n",
      "Training model 1\n",
      "Epoch 1/16\n",
      "469/469 [==============================] - 38s - loss: 0.0311 - acc: 0.9913 - val_loss: 0.0230 - val_acc: 0.9932\n",
      "Epoch 2/16\n",
      "469/469 [==============================] - 38s - loss: 0.0264 - acc: 0.9926 - val_loss: 0.0210 - val_acc: 0.9940\n",
      "Epoch 3/16\n",
      "469/469 [==============================] - 38s - loss: 0.0248 - acc: 0.9931 - val_loss: 0.0191 - val_acc: 0.9946\n",
      "Epoch 4/16\n",
      "469/469 [==============================] - 38s - loss: 0.0236 - acc: 0.9936 - val_loss: 0.0211 - val_acc: 0.9943\n",
      "Epoch 5/16\n",
      "469/469 [==============================] - 37s - loss: 0.0225 - acc: 0.9938 - val_loss: 0.0173 - val_acc: 0.9950\n",
      "Epoch 6/16\n",
      "469/469 [==============================] - 39s - loss: 0.0211 - acc: 0.9940 - val_loss: 0.0174 - val_acc: 0.9952\n",
      "Epoch 7/16\n",
      "469/469 [==============================] - 37s - loss: 0.0211 - acc: 0.9940 - val_loss: 0.0190 - val_acc: 0.9948\n",
      "Epoch 8/16\n",
      "469/469 [==============================] - 37s - loss: 0.0206 - acc: 0.9944 - val_loss: 0.0188 - val_acc: 0.9947\n",
      "Epoch 9/16\n",
      "469/469 [==============================] - 37s - loss: 0.0204 - acc: 0.9942 - val_loss: 0.0179 - val_acc: 0.9952\n",
      "Epoch 10/16\n",
      "469/469 [==============================] - 37s - loss: 0.0202 - acc: 0.9944 - val_loss: 0.0167 - val_acc: 0.9952\n",
      "Epoch 11/16\n",
      "469/469 [==============================] - 37s - loss: 0.0201 - acc: 0.9943 - val_loss: 0.0177 - val_acc: 0.9951\n",
      "Epoch 12/16\n",
      "469/469 [==============================] - 37s - loss: 0.0189 - acc: 0.9947 - val_loss: 0.0161 - val_acc: 0.9957\n",
      "Epoch 13/16\n",
      "469/469 [==============================] - 37s - loss: 0.0187 - acc: 0.9949 - val_loss: 0.0186 - val_acc: 0.9948\n",
      "Epoch 14/16\n",
      "469/469 [==============================] - 37s - loss: 0.0189 - acc: 0.9949 - val_loss: 0.0154 - val_acc: 0.9958\n",
      "Epoch 15/16\n",
      "469/469 [==============================] - 37s - loss: 0.0179 - acc: 0.9949 - val_loss: 0.0151 - val_acc: 0.9957\n",
      "Epoch 16/16\n",
      "469/469 [==============================] - 37s - loss: 0.0183 - acc: 0.9948 - val_loss: 0.0146 - val_acc: 0.9960\n",
      "Training model 2\n",
      "Epoch 1/16\n",
      "469/469 [==============================] - 38s - loss: 0.0325 - acc: 0.9911 - val_loss: 0.0226 - val_acc: 0.9938\n",
      "Epoch 2/16\n",
      "469/469 [==============================] - 37s - loss: 0.0261 - acc: 0.9925 - val_loss: 0.0204 - val_acc: 0.9940\n",
      "Epoch 3/16\n",
      "469/469 [==============================] - 37s - loss: 0.0243 - acc: 0.9931 - val_loss: 0.0213 - val_acc: 0.9941\n",
      "Epoch 4/16\n",
      "469/469 [==============================] - 37s - loss: 0.0235 - acc: 0.9933 - val_loss: 0.0198 - val_acc: 0.9944\n",
      "Epoch 5/16\n",
      "469/469 [==============================] - 37s - loss: 0.0224 - acc: 0.9937 - val_loss: 0.0178 - val_acc: 0.9954\n",
      "Epoch 6/16\n",
      "469/469 [==============================] - 37s - loss: 0.0212 - acc: 0.9940 - val_loss: 0.0193 - val_acc: 0.9939\n",
      "Epoch 7/16\n",
      "469/469 [==============================] - 37s - loss: 0.0208 - acc: 0.9941 - val_loss: 0.0180 - val_acc: 0.9947\n",
      "Epoch 8/16\n",
      "469/469 [==============================] - 37s - loss: 0.0207 - acc: 0.9942 - val_loss: 0.0187 - val_acc: 0.9947\n",
      "Epoch 9/16\n",
      "469/469 [==============================] - 37s - loss: 0.0203 - acc: 0.9941 - val_loss: 0.0176 - val_acc: 0.9950\n",
      "Epoch 10/16\n",
      "469/469 [==============================] - 37s - loss: 0.0199 - acc: 0.9943 - val_loss: 0.0180 - val_acc: 0.9952\n",
      "Epoch 11/16\n",
      "469/469 [==============================] - 37s - loss: 0.0197 - acc: 0.9946 - val_loss: 0.0175 - val_acc: 0.9952\n",
      "Epoch 12/16\n",
      "469/469 [==============================] - 37s - loss: 0.0185 - acc: 0.9947 - val_loss: 0.0162 - val_acc: 0.9958\n",
      "Epoch 13/16\n",
      "469/469 [==============================] - 37s - loss: 0.0190 - acc: 0.9947 - val_loss: 0.0165 - val_acc: 0.9952\n",
      "Epoch 14/16\n",
      "469/469 [==============================] - 37s - loss: 0.0194 - acc: 0.9943 - val_loss: 0.0157 - val_acc: 0.9959\n",
      "Epoch 15/16\n",
      "469/469 [==============================] - 37s - loss: 0.0181 - acc: 0.9951 - val_loss: 0.0162 - val_acc: 0.9955\n",
      "Epoch 16/16\n",
      "469/469 [==============================] - 37s - loss: 0.0181 - acc: 0.9949 - val_loss: 0.0173 - val_acc: 0.9950\n",
      "Training model 3\n",
      "Epoch 1/16\n",
      "469/469 [==============================] - 38s - loss: 0.0314 - acc: 0.9913 - val_loss: 0.0224 - val_acc: 0.9941\n",
      "Epoch 2/16\n",
      "469/469 [==============================] - 37s - loss: 0.0258 - acc: 0.9927 - val_loss: 0.0207 - val_acc: 0.9943\n",
      "Epoch 3/16\n",
      "469/469 [==============================] - 37s - loss: 0.0240 - acc: 0.9933 - val_loss: 0.0182 - val_acc: 0.9950\n",
      "Epoch 4/16\n",
      "469/469 [==============================] - 37s - loss: 0.0230 - acc: 0.9935 - val_loss: 0.0200 - val_acc: 0.9947\n",
      "Epoch 5/16\n",
      "469/469 [==============================] - 37s - loss: 0.0221 - acc: 0.9939 - val_loss: 0.0210 - val_acc: 0.9942\n",
      "Epoch 6/16\n",
      "469/469 [==============================] - 37s - loss: 0.0213 - acc: 0.9941 - val_loss: 0.0175 - val_acc: 0.9954\n",
      "Epoch 7/16\n",
      "469/469 [==============================] - 37s - loss: 0.0209 - acc: 0.9940 - val_loss: 0.0193 - val_acc: 0.9949\n",
      "Epoch 8/16\n",
      "469/469 [==============================] - 37s - loss: 0.0204 - acc: 0.9944 - val_loss: 0.0184 - val_acc: 0.9944\n",
      "Epoch 9/16\n",
      "469/469 [==============================] - 37s - loss: 0.0200 - acc: 0.9943 - val_loss: 0.0183 - val_acc: 0.9953\n",
      "Epoch 10/16\n",
      "469/469 [==============================] - 37s - loss: 0.0197 - acc: 0.9945 - val_loss: 0.0177 - val_acc: 0.9950\n",
      "Epoch 11/16\n",
      "469/469 [==============================] - 37s - loss: 0.0188 - acc: 0.9947 - val_loss: 0.0170 - val_acc: 0.9950\n",
      "Epoch 12/16\n",
      "469/469 [==============================] - 37s - loss: 0.0194 - acc: 0.9947 - val_loss: 0.0176 - val_acc: 0.9953\n",
      "Epoch 13/16\n",
      "469/469 [==============================] - 37s - loss: 0.0183 - acc: 0.9949 - val_loss: 0.0162 - val_acc: 0.9954\n",
      "Epoch 14/16\n",
      "469/469 [==============================] - 37s - loss: 0.0189 - acc: 0.9946 - val_loss: 0.0160 - val_acc: 0.9950\n",
      "Epoch 15/16\n",
      "469/469 [==============================] - 37s - loss: 0.0182 - acc: 0.9949 - val_loss: 0.0172 - val_acc: 0.9957\n",
      "Epoch 16/16\n",
      "469/469 [==============================] - 37s - loss: 0.0182 - acc: 0.9948 - val_loss: 0.0159 - val_acc: 0.9957\n",
      "Training model 4\n",
      "Epoch 1/16\n",
      "469/469 [==============================] - 37s - loss: 0.0314 - acc: 0.9914 - val_loss: 0.0220 - val_acc: 0.9937\n",
      "Epoch 2/16\n",
      "469/469 [==============================] - 37s - loss: 0.0261 - acc: 0.9927 - val_loss: 0.0213 - val_acc: 0.9938\n",
      "Epoch 3/16\n",
      "469/469 [==============================] - 37s - loss: 0.0236 - acc: 0.9933 - val_loss: 0.0193 - val_acc: 0.9944\n",
      "Epoch 4/16\n",
      "469/469 [==============================] - 37s - loss: 0.0237 - acc: 0.9935 - val_loss: 0.0182 - val_acc: 0.9946\n",
      "Epoch 5/16\n",
      "469/469 [==============================] - 37s - loss: 0.0217 - acc: 0.9939 - val_loss: 0.0187 - val_acc: 0.9946.99\n",
      "Epoch 6/16\n",
      "469/469 [==============================] - 37s - loss: 0.0214 - acc: 0.9937 - val_loss: 0.0179 - val_acc: 0.9948\n",
      "Epoch 7/16\n",
      "469/469 [==============================] - 37s - loss: 0.0213 - acc: 0.9941 - val_loss: 0.0180 - val_acc: 0.9953\n",
      "Epoch 8/16\n",
      "469/469 [==============================] - 37s - loss: 0.0209 - acc: 0.9942 - val_loss: 0.0174 - val_acc: 0.9952\n",
      "Epoch 9/16\n",
      "469/469 [==============================] - 37s - loss: 0.0203 - acc: 0.9942 - val_loss: 0.0158 - val_acc: 0.9957\n",
      "Epoch 10/16\n",
      "469/469 [==============================] - 37s - loss: 0.0200 - acc: 0.9943 - val_loss: 0.0180 - val_acc: 0.9952\n",
      "Epoch 11/16\n",
      "469/469 [==============================] - 37s - loss: 0.0203 - acc: 0.9945 - val_loss: 0.0169 - val_acc: 0.9951\n",
      "Epoch 12/16\n",
      "469/469 [==============================] - 37s - loss: 0.0188 - acc: 0.9948 - val_loss: 0.0163 - val_acc: 0.9953\n",
      "Epoch 13/16\n",
      "469/469 [==============================] - 37s - loss: 0.0192 - acc: 0.9946 - val_loss: 0.0169 - val_acc: 0.9956\n",
      "Epoch 14/16\n",
      "469/469 [==============================] - 37s - loss: 0.0190 - acc: 0.9947 - val_loss: 0.0170 - val_acc: 0.9950\n",
      "Epoch 15/16\n",
      "469/469 [==============================] - 37s - loss: 0.0182 - acc: 0.9949 - val_loss: 0.0157 - val_acc: 0.9957\n",
      "Epoch 16/16\n",
      "469/469 [==============================] - 37s - loss: 0.0180 - acc: 0.9950 - val_loss: 0.0164 - val_acc: 0.9959\n",
      "Training model 5\n",
      "Epoch 1/16\n",
      "469/469 [==============================] - 38s - loss: 0.0316 - acc: 0.9910 - val_loss: 0.0211 - val_acc: 0.9939\n",
      "Epoch 2/16\n",
      "469/469 [==============================] - 37s - loss: 0.0262 - acc: 0.9928 - val_loss: 0.0219 - val_acc: 0.9934\n",
      "Epoch 3/16\n",
      "469/469 [==============================] - 37s - loss: 0.0245 - acc: 0.9931 - val_loss: 0.0217 - val_acc: 0.9941\n",
      "Epoch 4/16\n",
      "469/469 [==============================] - 37s - loss: 0.0221 - acc: 0.9938 - val_loss: 0.0186 - val_acc: 0.9947\n",
      "Epoch 5/16\n",
      "469/469 [==============================] - 37s - loss: 0.0225 - acc: 0.9939 - val_loss: 0.0177 - val_acc: 0.9943\n",
      "Epoch 6/16\n",
      "469/469 [==============================] - 37s - loss: 0.0218 - acc: 0.9940 - val_loss: 0.0191 - val_acc: 0.9950\n",
      "Epoch 7/16\n",
      "469/469 [==============================] - 37s - loss: 0.0210 - acc: 0.9942 - val_loss: 0.0162 - val_acc: 0.9954\n",
      "Epoch 8/16\n",
      "469/469 [==============================] - 37s - loss: 0.0203 - acc: 0.9943 - val_loss: 0.0163 - val_acc: 0.9953\n",
      "Epoch 9/16\n",
      "469/469 [==============================] - 37s - loss: 0.0201 - acc: 0.9942 - val_loss: 0.0191 - val_acc: 0.9950\n",
      "Epoch 10/16\n",
      "469/469 [==============================] - 37s - loss: 0.0196 - acc: 0.9947 - val_loss: 0.0172 - val_acc: 0.9952\n",
      "Epoch 11/16\n",
      "469/469 [==============================] - 37s - loss: 0.0196 - acc: 0.9944 - val_loss: 0.0161 - val_acc: 0.9953\n",
      "Epoch 12/16\n",
      "469/469 [==============================] - 37s - loss: 0.0189 - acc: 0.9946 - val_loss: 0.0176 - val_acc: 0.9950\n",
      "Epoch 13/16\n",
      "469/469 [==============================] - 37s - loss: 0.0192 - acc: 0.9947 - val_loss: 0.0161 - val_acc: 0.9953\n",
      "Epoch 14/16\n",
      "469/469 [==============================] - 37s - loss: 0.0191 - acc: 0.9945 - val_loss: 0.0169 - val_acc: 0.9951\n",
      "Epoch 15/16\n",
      "469/469 [==============================] - 37s - loss: 0.0187 - acc: 0.9946 - val_loss: 0.0155 - val_acc: 0.9960\n",
      "Epoch 16/16\n",
      "469/469 [==============================] - 37s - loss: 0.0180 - acc: 0.9949 - val_loss: 0.0160 - val_acc: 0.9956\n",
      "Training model 6\n",
      "Epoch 1/16\n",
      "469/469 [==============================] - 38s - loss: 0.0335 - acc: 0.9904 - val_loss: 0.0247 - val_acc: 0.9933\n",
      "Epoch 2/16\n",
      "469/469 [==============================] - 37s - loss: 0.0261 - acc: 0.9925 - val_loss: 0.0215 - val_acc: 0.9935\n",
      "Epoch 3/16\n",
      "469/469 [==============================] - 37s - loss: 0.0253 - acc: 0.9931 - val_loss: 0.0215 - val_acc: 0.9936\n",
      "Epoch 4/16\n",
      "469/469 [==============================] - 37s - loss: 0.0239 - acc: 0.9933 - val_loss: 0.0209 - val_acc: 0.9936\n",
      "Epoch 5/16\n",
      "469/469 [==============================] - 37s - loss: 0.0227 - acc: 0.9937 - val_loss: 0.0183 - val_acc: 0.9946\n",
      "Epoch 6/16\n",
      "469/469 [==============================] - 37s - loss: 0.0218 - acc: 0.9937 - val_loss: 0.0194 - val_acc: 0.9943\n",
      "Epoch 7/16\n",
      "469/469 [==============================] - 37s - loss: 0.0220 - acc: 0.9938 - val_loss: 0.0181 - val_acc: 0.9945\n",
      "Epoch 8/16\n",
      "469/469 [==============================] - 37s - loss: 0.0199 - acc: 0.9942 - val_loss: 0.0188 - val_acc: 0.9950\n",
      "Epoch 9/16\n",
      "469/469 [==============================] - 37s - loss: 0.0213 - acc: 0.9940 - val_loss: 0.0164 - val_acc: 0.9956\n",
      "Epoch 10/16\n",
      "469/469 [==============================] - 37s - loss: 0.0208 - acc: 0.9942 - val_loss: 0.0186 - val_acc: 0.9950\n",
      "Epoch 11/16\n",
      "469/469 [==============================] - 37s - loss: 0.0200 - acc: 0.9944 - val_loss: 0.0176 - val_acc: 0.9950\n",
      "Epoch 12/16\n",
      "469/469 [==============================] - 37s - loss: 0.0194 - acc: 0.9945 - val_loss: 0.0185 - val_acc: 0.9948\n",
      "Epoch 13/16\n",
      "469/469 [==============================] - 37s - loss: 0.0191 - acc: 0.9947 - val_loss: 0.0181 - val_acc: 0.9950\n",
      "Epoch 14/16\n",
      "469/469 [==============================] - 37s - loss: 0.0189 - acc: 0.9948 - val_loss: 0.0157 - val_acc: 0.9954\n",
      "Epoch 15/16\n",
      "469/469 [==============================] - 37s - loss: 0.0194 - acc: 0.9948 - val_loss: 0.0173 - val_acc: 0.9953\n",
      "Epoch 16/16\n",
      "469/469 [==============================] - 37s - loss: 0.0182 - acc: 0.9949 - val_loss: 0.0147 - val_acc: 0.9955\n",
      "Training model 7\n",
      "Epoch 1/16\n",
      "469/469 [==============================] - 38s - loss: 0.0318 - acc: 0.9912 - val_loss: 0.0210 - val_acc: 0.9938\n",
      "Epoch 2/16\n",
      "469/469 [==============================] - 37s - loss: 0.0255 - acc: 0.9928 - val_loss: 0.0222 - val_acc: 0.9939\n",
      "Epoch 3/16\n",
      "469/469 [==============================] - 37s - loss: 0.0243 - acc: 0.9931 - val_loss: 0.0196 - val_acc: 0.9943\n",
      "Epoch 4/16\n",
      "469/469 [==============================] - 37s - loss: 0.0230 - acc: 0.9936 - val_loss: 0.0205 - val_acc: 0.9942\n",
      "Epoch 5/16\n",
      "469/469 [==============================] - 37s - loss: 0.0218 - acc: 0.9935 - val_loss: 0.0186 - val_acc: 0.9951\n",
      "Epoch 6/16\n",
      "469/469 [==============================] - 37s - loss: 0.0218 - acc: 0.9939 - val_loss: 0.0197 - val_acc: 0.9946\n",
      "Epoch 7/16\n",
      "469/469 [==============================] - 37s - loss: 0.0213 - acc: 0.9940 - val_loss: 0.0174 - val_acc: 0.9953\n",
      "Epoch 8/16\n",
      "469/469 [==============================] - 37s - loss: 0.0206 - acc: 0.9941 - val_loss: 0.0173 - val_acc: 0.9950\n",
      "Epoch 9/16\n",
      "469/469 [==============================] - 37s - loss: 0.0203 - acc: 0.9943 - val_loss: 0.0184 - val_acc: 0.9954\n",
      "Epoch 10/16\n",
      "469/469 [==============================] - 37s - loss: 0.0194 - acc: 0.9946 - val_loss: 0.0171 - val_acc: 0.9953\n",
      "Epoch 11/16\n",
      "469/469 [==============================] - 37s - loss: 0.0189 - acc: 0.9947 - val_loss: 0.0171 - val_acc: 0.9950\n",
      "Epoch 12/16\n",
      "469/469 [==============================] - 37s - loss: 0.0189 - acc: 0.9947 - val_loss: 0.0159 - val_acc: 0.9957\n",
      "Epoch 13/16\n",
      "469/469 [==============================] - 37s - loss: 0.0191 - acc: 0.9946 - val_loss: 0.0167 - val_acc: 0.9951\n",
      "Epoch 14/16\n",
      "469/469 [==============================] - 37s - loss: 0.0192 - acc: 0.9948 - val_loss: 0.0166 - val_acc: 0.9950\n",
      "Epoch 15/16\n",
      "469/469 [==============================] - 36s - loss: 0.0188 - acc: 0.9947 - val_loss: 0.0157 - val_acc: 0.9958\n",
      "Epoch 16/16\n",
      "469/469 [==============================] - 37s - loss: 0.0187 - acc: 0.9950 - val_loss: 0.0149 - val_acc: 0.9960\n",
      "Training model 8\n",
      "Epoch 1/16\n",
      "469/469 [==============================] - 37s - loss: 0.0297 - acc: 0.9916 - val_loss: 0.0227 - val_acc: 0.9936\n",
      "Epoch 2/16\n",
      "469/469 [==============================] - 37s - loss: 0.0258 - acc: 0.9928 - val_loss: 0.0214 - val_acc: 0.9943\n",
      "Epoch 3/16\n"
     ]
    },
    {
     "name": "stdout",
     "output_type": "stream",
     "text": [
      "469/469 [==============================] - 37s - loss: 0.0236 - acc: 0.9933 - val_loss: 0.0200 - val_acc: 0.9941\n",
      "Epoch 4/16\n",
      "469/469 [==============================] - 37s - loss: 0.0233 - acc: 0.9936 - val_loss: 0.0191 - val_acc: 0.9944\n",
      "Epoch 5/16\n",
      "469/469 [==============================] - 37s - loss: 0.0216 - acc: 0.9940 - val_loss: 0.0198 - val_acc: 0.9946\n",
      "Epoch 6/16\n",
      "469/469 [==============================] - 37s - loss: 0.0218 - acc: 0.9939 - val_loss: 0.0186 - val_acc: 0.9945\n",
      "Epoch 7/16\n",
      "469/469 [==============================] - 37s - loss: 0.0205 - acc: 0.9941 - val_loss: 0.0176 - val_acc: 0.9948\n",
      "Epoch 8/16\n",
      "469/469 [==============================] - 37s - loss: 0.0205 - acc: 0.9942 - val_loss: 0.0159 - val_acc: 0.9959\n",
      "Epoch 9/16\n",
      "469/469 [==============================] - 37s - loss: 0.0210 - acc: 0.9942 - val_loss: 0.0185 - val_acc: 0.9951\n",
      "Epoch 10/16\n",
      "469/469 [==============================] - 39s - loss: 0.0199 - acc: 0.9944 - val_loss: 0.0189 - val_acc: 0.9950\n",
      "Epoch 11/16\n",
      "469/469 [==============================] - 37s - loss: 0.0190 - acc: 0.9946 - val_loss: 0.0171 - val_acc: 0.9950\n",
      "Epoch 12/16\n",
      "469/469 [==============================] - 37s - loss: 0.0195 - acc: 0.9946 - val_loss: 0.0159 - val_acc: 0.9957\n",
      "Epoch 13/16\n",
      "469/469 [==============================] - 37s - loss: 0.0189 - acc: 0.9947 - val_loss: 0.0175 - val_acc: 0.9954\n",
      "Epoch 14/16\n",
      "469/469 [==============================] - 37s - loss: 0.0187 - acc: 0.9949 - val_loss: 0.0159 - val_acc: 0.9952\n",
      "Epoch 15/16\n",
      "469/469 [==============================] - 37s - loss: 0.0187 - acc: 0.9947 - val_loss: 0.0166 - val_acc: 0.9955\n",
      "Epoch 16/16\n",
      "469/469 [==============================] - 37s - loss: 0.0185 - acc: 0.9950 - val_loss: 0.0164 - val_acc: 0.9956\n",
      "Training model 9\n",
      "Epoch 1/16\n",
      "469/469 [==============================] - 38s - loss: 0.0319 - acc: 0.9911 - val_loss: 0.0235 - val_acc: 0.9932\n",
      "Epoch 2/16\n",
      "469/469 [==============================] - 37s - loss: 0.0253 - acc: 0.9928 - val_loss: 0.0199 - val_acc: 0.9944\n",
      "Epoch 3/16\n",
      "469/469 [==============================] - 37s - loss: 0.0241 - acc: 0.9935 - val_loss: 0.0188 - val_acc: 0.9946\n",
      "Epoch 4/16\n",
      "469/469 [==============================] - 37s - loss: 0.0235 - acc: 0.9933 - val_loss: 0.0195 - val_acc: 0.9945\n",
      "Epoch 5/16\n",
      "469/469 [==============================] - 37s - loss: 0.0224 - acc: 0.9938 - val_loss: 0.0179 - val_acc: 0.9948\n",
      "Epoch 6/16\n",
      "469/469 [==============================] - 37s - loss: 0.0206 - acc: 0.9942 - val_loss: 0.0179 - val_acc: 0.9947\n",
      "Epoch 7/16\n",
      "469/469 [==============================] - 38s - loss: 0.0215 - acc: 0.9938 - val_loss: 0.0189 - val_acc: 0.9950\n",
      "Epoch 8/16\n",
      "469/469 [==============================] - 39s - loss: 0.0199 - acc: 0.9945 - val_loss: 0.0165 - val_acc: 0.9947\n",
      "Epoch 9/16\n",
      "469/469 [==============================] - 39s - loss: 0.0199 - acc: 0.9943 - val_loss: 0.0184 - val_acc: 0.9948\n",
      "Epoch 10/16\n",
      "469/469 [==============================] - 39s - loss: 0.0194 - acc: 0.9946 - val_loss: 0.0171 - val_acc: 0.9950\n",
      "Epoch 11/16\n",
      "469/469 [==============================] - 38s - loss: 0.0204 - acc: 0.9943 - val_loss: 0.0176 - val_acc: 0.9955\n",
      "Epoch 12/16\n",
      "469/469 [==============================] - 38s - loss: 0.0194 - acc: 0.9946 - val_loss: 0.0183 - val_acc: 0.9951\n",
      "Epoch 13/16\n",
      "469/469 [==============================] - 38s - loss: 0.0185 - acc: 0.9947 - val_loss: 0.0150 - val_acc: 0.9960\n",
      "Epoch 14/16\n",
      "469/469 [==============================] - 39s - loss: 0.0191 - acc: 0.9947 - val_loss: 0.0180 - val_acc: 0.9951\n",
      "Epoch 15/16\n",
      "469/469 [==============================] - 40s - loss: 0.0182 - acc: 0.9950 - val_loss: 0.0164 - val_acc: 0.9954\n",
      "Epoch 16/16\n",
      "469/469 [==============================] - 39s - loss: 0.0189 - acc: 0.9947 - val_loss: 0.0156 - val_acc: 0.9958\n"
     ]
    }
   ],
   "source": [
    "# train models some more if accuracy is not satisfying enough\n",
    "for i, m in enumerate(models):\n",
    "    m.optimizer.lr = 0.0001\n",
    "    print(\"Training model {}\".format(i))\n",
    "    m.fit_generator(batches, steps_per_epoch=steps_per_epoch, epochs=16,\n",
    "                   validation_data=test_batches, validation_steps=validation_steps)"
   ]
  },
  {
   "cell_type": "markdown",
   "metadata": {},
   "source": [
    "# Evaluate Ensemble of 10 CNNs"
   ]
  },
  {
   "cell_type": "code",
   "execution_count": 33,
   "metadata": {
    "collapsed": true
   },
   "outputs": [],
   "source": [
    "eval_batch_size = 512"
   ]
  },
  {
   "cell_type": "code",
   "execution_count": 34,
   "metadata": {},
   "outputs": [
    {
     "name": "stdout",
     "output_type": "stream",
     "text": [
      "40000/40000 [==============================] - 1s     \n",
      "40000/40000 [==============================] - 1s     \n"
     ]
    }
   ],
   "source": [
    "# evaluate every model\n",
    "evals = np.array([m.evaluate(x_test,y_test, batch_size=eval_batch_size) for m in models])"
   ]
  },
  {
   "cell_type": "code",
   "execution_count": 35,
   "metadata": {},
   "outputs": [
    {
     "data": {
      "text/plain": [
       "array([ 0.01023359,  0.9974725 ])"
      ]
     },
     "execution_count": 35,
     "metadata": {},
     "output_type": "execute_result"
    }
   ],
   "source": [
    "# calculate mean from evaluations\n",
    "evals.mean(axis=0)"
   ]
  },
  {
   "cell_type": "code",
   "execution_count": 36,
   "metadata": {
    "collapsed": true
   },
   "outputs": [],
   "source": [
    "all_preds = np.stack([m.predict(x_test, batch_size=eval_batch_size) for m in models])"
   ]
  },
  {
   "cell_type": "code",
   "execution_count": 37,
   "metadata": {},
   "outputs": [
    {
     "data": {
      "text/plain": [
       "(10, 40000, 10)"
      ]
     },
     "execution_count": 37,
     "metadata": {},
     "output_type": "execute_result"
    }
   ],
   "source": [
    "all_preds.shape"
   ]
  },
  {
   "cell_type": "code",
   "execution_count": 38,
   "metadata": {},
   "outputs": [
    {
     "data": {
      "text/plain": [
       "(40000, 10)"
      ]
     },
     "execution_count": 38,
     "metadata": {},
     "output_type": "execute_result"
    }
   ],
   "source": [
    "avg_preds = all_preds.mean(axis=0)\n",
    "avg_preds.shape"
   ]
  },
  {
   "cell_type": "code",
   "execution_count": 39,
   "metadata": {},
   "outputs": [
    {
     "data": {
      "text/plain": [
       "0.22249817848205566"
      ]
     },
     "execution_count": 39,
     "metadata": {},
     "output_type": "execute_result"
    }
   ],
   "source": [
    "# display error rate in percent\n",
    "(1 - keras.metrics.categorical_accuracy(y_test, avg_preds).eval().mean()) * 100"
   ]
  },
  {
   "cell_type": "markdown",
   "metadata": {},
   "source": [
    "### Results of ensemble of 10 CNNs trained on MNIST dataset\n",
    "1. 0.45250058174133301\n",
    "\n",
    "### After further training each model for 16 epochs on EMNIST\n",
    "1. 0.22249817848205566"
   ]
  },
  {
   "cell_type": "markdown",
   "metadata": {},
   "source": [
    "# Show test error rate of every model separately"
   ]
  },
  {
   "cell_type": "markdown",
   "metadata": {},
   "source": [
    "Results on original MNIST test dataset:\n",
    "1. 0.370001792908\n",
    "2. 0.330001115799\n",
    "3. 0.429999828339\n",
    "4. 0.349998474121\n",
    "5. 0.370001792908\n",
    "6. 0.340002775192\n",
    "7. 0.370001792908\n",
    "8. 0.360000133514\n",
    "9. 0.29000043869\n",
    "10. 0.360000133514\n",
    "\n",
    "Results for EMNIST using MNIST models with no further training:\n",
    "1. 0.537502765656\n",
    "2. 0.49250125885\n",
    "3. 0.559997558594\n",
    "4. 0.494998693466\n",
    "5. 0.582498311996\n",
    "6. 0.505000352859\n",
    "7. 0.590002536774\n",
    "8. 0.512498617172\n",
    "9. 0.585001707077\n",
    "10. 0.534999370575\n",
    "\n",
    "Results after training MNIST models for additional 16 epochs on EMNIST:\n",
    "1. 0.255000591278\n",
    "2. 0.262498855591\n",
    "3. 0.252497196198\n",
    "4. 0.265002250671\n",
    "5. 0.252497196198\n",
    "6. 0.244998931885\n",
    "7. 0.255000591278\n",
    "8. 0.232499837875\n",
    "9. 0.257498025894\n",
    "10. 0.249999761581"
   ]
  },
  {
   "cell_type": "code",
   "execution_count": 40,
   "metadata": {
    "scrolled": false
   },
   "outputs": [
    {
     "name": "stdout",
     "output_type": "stream",
     "text": [
      "1 0.255000591278\n",
      "2 0.262498855591\n",
      "3 0.252497196198\n",
      "4 0.265002250671\n",
      "5 0.252497196198\n",
      "6 0.244998931885\n",
      "7 0.255000591278\n",
      "8 0.232499837875\n",
      "9 0.257498025894\n",
      "10 0.249999761581\n"
     ]
    }
   ],
   "source": [
    "for i, m in enumerate(models):\n",
    "    pred = np.array(m.predict(x_test, batch_size=eval_batch_size))\n",
    "    print(i+1, (1 - keras.metrics.categorical_accuracy(y_test, pred).eval().mean()) * 100)"
   ]
  },
  {
   "cell_type": "code",
   "execution_count": null,
   "metadata": {
    "collapsed": true
   },
   "outputs": [],
   "source": [
    "# show accuracy of single model\n",
    "\n",
    "# which model number to check\n",
    "i = 8"
   ]
  },
  {
   "cell_type": "code",
   "execution_count": null,
   "metadata": {
    "collapsed": true
   },
   "outputs": [],
   "source": [
    "# calculate accuracy of a single model\n",
    "pred = np.array(models[i].predict(x_test, batch_size=eval_batch_size))\n",
    "print(i, (1 - keras.metrics.categorical_accuracy(y_test, pred).eval().mean()) * 100)"
   ]
  },
  {
   "cell_type": "markdown",
   "metadata": {},
   "source": [
    "# Plot Training History"
   ]
  },
  {
   "cell_type": "markdown",
   "metadata": {},
   "source": [
    "Here we create and train a single model from scratch to get a plot of the training history."
   ]
  },
  {
   "cell_type": "code",
   "execution_count": null,
   "metadata": {
    "collapsed": true
   },
   "outputs": [],
   "source": [
    "# create and train a single model\n",
    "m = create_model()\n",
    "history = m.fit_generator(batches, steps_per_epoch=steps_per_epoch, epochs=10, verbose=0,\n",
    "                         validation_data=test_batches, validation_steps=validation_steps)"
   ]
  },
  {
   "cell_type": "markdown",
   "metadata": {},
   "source": [
    "Jason Brownlee's script to plot model training history:\n",
    "https://machinelearningmastery.com/display-deep-learning-model-training-history-in-keras/"
   ]
  },
  {
   "cell_type": "code",
   "execution_count": 56,
   "metadata": {},
   "outputs": [
    {
     "name": "stdout",
     "output_type": "stream",
     "text": [
      "dict_keys(['val_loss', 'val_acc', 'loss', 'acc'])\n"
     ]
    },
    {
     "data": {
      "image/png": "[encoded data removed]",
      "text/plain": [
       "<matplotlib.figure.Figure at 0x7f1de7571a90>"
      ]
     },
     "metadata": {},
     "output_type": "display_data"
    },
    {
     "data": {
      "image/png": "[encoded data removed]",
      "text/plain": [
       "<matplotlib.figure.Figure at 0x7f1de75ba710>"
      ]
     },
     "metadata": {},
     "output_type": "display_data"
    }
   ],
   "source": [
    "import matplotlib.pyplot as plt\n",
    "\n",
    "axes = plt.gca()\n",
    "#axes.set_xlim([1,5])\n",
    "#axes.set_ylim([0.2,1.0])\n",
    "\n",
    "# list all data in history\n",
    "print(history.history.keys())\n",
    "# summarize history for accuracy\n",
    "plt.plot(history.history['acc'])\n",
    "plt.plot(history.history['val_acc'])\n",
    "plt.title('model accuracy')\n",
    "plt.ylabel('accuracy')\n",
    "plt.xlabel('epoch')\n",
    "plt.legend(['train', 'test'], loc='upper left')\n",
    "plt.show()\n",
    "\n",
    "# summarize history for loss\n",
    "plt.plot(history.history['loss'])\n",
    "plt.plot(history.history['val_loss'])\n",
    "plt.title('model loss')\n",
    "plt.ylabel('loss')\n",
    "plt.xlabel('epoch')\n",
    "plt.legend(['train', 'test'], loc='upper left')\n",
    "plt.show()"
   ]
  },
  {
   "cell_type": "markdown",
   "metadata": {},
   "source": [
    "# Try evaluation only with best performing models\n",
    "Best result for ensemble of 10 CNNs is 0.22249817848205566, try to improve that result by hand-picking CNNs. As a reminder:\n",
    "1. 0.255000591278\n",
    "2. 0.262498855591\n",
    "3. 0.252497196198\n",
    "4. 0.265002250671\n",
    "5. 0.252497196198\n",
    "6. 0.244998931885\n",
    "7. 0.255000591278\n",
    "8. 0.232499837875\n",
    "9. 0.257498025894\n",
    "10. 0.249999761581\n",
    "\n",
    "## Results\n",
    "Indices of the models used for prediction | test error rate\n",
    "1. 0,7 0.2200007438659668\n",
    "2. 0,1,7: 0.23750066757202148\n",
    "3. 0,2,7: 0.20750164985656738\n",
    "4. 0,2,7,1: 0.21749734878540039\n",
    "5. 0,2,7,3: 0.20750164985656738\n",
    "6. 2,7: 0.20999908447265625\n",
    "7. 0,2,7,4: 0.20999908447265625\n",
    "8. 0,2,7,9: 0.20499825477600098"
   ]
  },
  {
   "cell_type": "code",
   "execution_count": 111,
   "metadata": {
    "collapsed": true
   },
   "outputs": [],
   "source": [
    "best_model_numbers = [0,2,7,9]"
   ]
  },
  {
   "cell_type": "code",
   "execution_count": 112,
   "metadata": {
    "collapsed": true
   },
   "outputs": [],
   "source": [
    "best_models = []\n",
    "\n",
    "for i in best_model_numbers:\n",
    "    best_models.append(models[i])"
   ]
  },
  {
   "cell_type": "code",
   "execution_count": 113,
   "metadata": {
    "collapsed": true
   },
   "outputs": [],
   "source": [
    "all_preds = np.stack([m.predict(x_test, batch_size=eval_batch_size) for m in best_models])"
   ]
  },
  {
   "cell_type": "code",
   "execution_count": 114,
   "metadata": {
    "collapsed": true
   },
   "outputs": [],
   "source": [
    "avg_preds = all_preds.mean(axis=0)"
   ]
  },
  {
   "cell_type": "code",
   "execution_count": 115,
   "metadata": {
    "scrolled": true
   },
   "outputs": [
    {
     "data": {
      "text/plain": [
       "0.20499825477600098"
      ]
     },
     "execution_count": 115,
     "metadata": {},
     "output_type": "execute_result"
    }
   ],
   "source": [
    "# display error rate in percent\n",
    "(1 - keras.metrics.categorical_accuracy(y_test, avg_preds).eval().mean()) * 100"
   ]
  },
  {
   "cell_type": "markdown",
   "metadata": {},
   "source": [
    "# Train single model some more"
   ]
  },
  {
   "cell_type": "markdown",
   "metadata": {},
   "source": [
    "Select a single model, train for a few epochs, and check accuracy."
   ]
  },
  {
   "cell_type": "code",
   "execution_count": 47,
   "metadata": {
    "collapsed": true
   },
   "outputs": [],
   "source": [
    "# which model to train\n",
    "i = 1"
   ]
  },
  {
   "cell_type": "code",
   "execution_count": null,
   "metadata": {
    "collapsed": true
   },
   "outputs": [],
   "source": [
    "# reload weights in case of overfitting\n",
    "models[i].load_weights(\"weights/weights_emnist_model_0.2475_\"+str(i)+'.pkl')"
   ]
  },
  {
   "cell_type": "code",
   "execution_count": 52,
   "metadata": {
    "collapsed": true
   },
   "outputs": [
    {
     "name": "stdout",
     "output_type": "stream",
     "text": [
      "Epoch 1/16\n",
      "469/469 [==============================] - 39s - loss: 0.0174 - acc: 0.9952 - val_loss: 0.0160 - val_acc: 0.9957\n",
      "Epoch 2/16\n",
      "469/469 [==============================] - 38s - loss: 0.0182 - acc: 0.9948 - val_loss: 0.0173 - val_acc: 0.9954\n",
      "Epoch 3/16\n",
      "469/469 [==============================] - 39s - loss: 0.0172 - acc: 0.9953 - val_loss: 0.0163 - val_acc: 0.9954\n",
      "Epoch 4/16\n",
      "469/469 [==============================] - 38s - loss: 0.0177 - acc: 0.9951 - val_loss: 0.0159 - val_acc: 0.9955\n",
      "Epoch 5/16\n",
      "469/469 [==============================] - 39s - loss: 0.0176 - acc: 0.9949 - val_loss: 0.0160 - val_acc: 0.9960\n",
      "Epoch 6/16\n",
      "469/469 [==============================] - 38s - loss: 0.0179 - acc: 0.9950 - val_loss: 0.0153 - val_acc: 0.9958\n",
      "Epoch 7/16\n",
      "469/469 [==============================] - 38s - loss: 0.0167 - acc: 0.9952 - val_loss: 0.0166 - val_acc: 0.9953\n",
      "Epoch 8/16\n",
      "469/469 [==============================] - 39s - loss: 0.0177 - acc: 0.9950 - val_loss: 0.0156 - val_acc: 0.9960\n",
      "Epoch 9/16\n",
      "469/469 [==============================] - 39s - loss: 0.0168 - acc: 0.9952 - val_loss: 0.0154 - val_acc: 0.9961\n",
      "Epoch 10/16\n",
      "469/469 [==============================] - 39s - loss: 0.0169 - acc: 0.9953 - val_loss: 0.0142 - val_acc: 0.9965\n",
      "Epoch 11/16\n",
      "469/469 [==============================] - 39s - loss: 0.0167 - acc: 0.9953 - val_loss: 0.0153 - val_acc: 0.9956\n",
      "Epoch 12/16\n",
      "469/469 [==============================] - 39s - loss: 0.0165 - acc: 0.9953 - val_loss: 0.0165 - val_acc: 0.9956\n",
      "Epoch 13/16\n",
      "469/469 [==============================] - 39s - loss: 0.0165 - acc: 0.9953 - val_loss: 0.0150 - val_acc: 0.9958\n",
      "Epoch 14/16\n",
      "469/469 [==============================] - 39s - loss: 0.0164 - acc: 0.9954 - val_loss: 0.0141 - val_acc: 0.9959\n",
      "Epoch 15/16\n",
      "469/469 [==============================] - 39s - loss: 0.0163 - acc: 0.9954 - val_loss: 0.0144 - val_acc: 0.9959\n",
      "Epoch 16/16\n",
      "469/469 [==============================] - 39s - loss: 0.0164 - acc: 0.9955 - val_loss: 0.0167 - val_acc: 0.9955\n"
     ]
    }
   ],
   "source": [
    "models[i].optimizer.lr = 0.0001\n",
    "history2 = models[i].fit_generator(batches, steps_per_epoch=steps_per_epoch, epochs=16,\n",
    "                   validation_data=test_batches, validation_steps=validation_steps)"
   ]
  },
  {
   "cell_type": "code",
   "execution_count": 53,
   "metadata": {
    "scrolled": true
   },
   "outputs": [
    {
     "name": "stderr",
     "output_type": "stream",
     "text": [
      "INFO (theano.gof.compilelock): Refreshing lock /home/js/.theano/compiledir_Linux-4.13--generic-x86_64-with-debian-stretch-sid-x86_64-3.6.2-64/lock_dir/lock\n"
     ]
    },
    {
     "name": "stdout",
     "output_type": "stream",
     "text": [
      "1 0.247502326965\n"
     ]
    }
   ],
   "source": [
    "# calculate accuracy of a single model\n",
    "pred = np.array(models[i].predict(x_test, batch_size=eval_batch_size))\n",
    "print(i, (1 - keras.metrics.categorical_accuracy(y_test, pred).eval().mean()) * 100)"
   ]
  },
  {
   "cell_type": "code",
   "execution_count": 54,
   "metadata": {
    "collapsed": true
   },
   "outputs": [],
   "source": [
    "models[i].save_weights(\"weights/weights_emnist_model_0.2475_\"+str(i)+'.pkl')"
   ]
  },
  {
   "cell_type": "markdown",
   "metadata": {},
   "source": [
    "# Visualize model"
   ]
  },
  {
   "cell_type": "code",
   "execution_count": null,
   "metadata": {
    "collapsed": true,
    "scrolled": true
   },
   "outputs": [],
   "source": [
    "models[0].summary()"
   ]
  },
  {
   "cell_type": "code",
   "execution_count": null,
   "metadata": {
    "collapsed": true,
    "scrolled": true
   },
   "outputs": [],
   "source": [
    "# fix for python3\n",
    "import pydotplus as pydot\n",
    "\n",
    "from keras.utils import plot_model\n",
    "plot_model(models[0], to_file='model.png')\n",
    "\n",
    "# visualize our model\n",
    "from IPython.display import SVG\n",
    "from keras.utils.vis_utils import model_to_dot\n",
    "SVG(model_to_dot(models[0]).create(prog='dot', format='svg'))"
   ]
  },
  {
   "cell_type": "markdown",
   "metadata": {},
   "source": [
    "# Visualize predictions for best performing single model\n",
    "As well as looking at the overall metrics, it's also a good idea to look at examples of:\n",
    "1. A few correct labels at random\n",
    "2. A few incorrect labels at random"
   ]
  },
  {
   "cell_type": "code",
   "execution_count": 116,
   "metadata": {
    "collapsed": true
   },
   "outputs": [],
   "source": [
    "m = create_model()"
   ]
  },
  {
   "cell_type": "code",
   "execution_count": 118,
   "metadata": {
    "collapsed": true
   },
   "outputs": [],
   "source": [
    "# load saved weights\n",
    "m.load_weights(\"weights/weights_mnist+16epochs_7.pkl\")"
   ]
  },
  {
   "cell_type": "code",
   "execution_count": 119,
   "metadata": {},
   "outputs": [
    {
     "name": "stdout",
     "output_type": "stream",
     "text": [
      "39424/40000 [============================>.] - ETA: 0s"
     ]
    }
   ],
   "source": [
    "# predict classes\n",
    "preds = m.predict_classes(x_test, batch_size=eval_batch_size)"
   ]
  },
  {
   "cell_type": "code",
   "execution_count": 120,
   "metadata": {},
   "outputs": [
    {
     "data": {
      "text/plain": [
       "(40000,)"
      ]
     },
     "execution_count": 120,
     "metadata": {},
     "output_type": "execute_result"
    }
   ],
   "source": [
    "preds.shape"
   ]
  },
  {
   "cell_type": "code",
   "execution_count": 121,
   "metadata": {},
   "outputs": [
    {
     "data": {
      "text/plain": [
       "(40000,)"
      ]
     },
     "execution_count": 121,
     "metadata": {},
     "output_type": "execute_result"
    }
   ],
   "source": [
    "test_labels.shape"
   ]
  },
  {
   "cell_type": "code",
   "execution_count": 122,
   "metadata": {
    "collapsed": true
   },
   "outputs": [],
   "source": [
    "correct = np.where(preds==test_labels)[0]"
   ]
  },
  {
   "cell_type": "code",
   "execution_count": 123,
   "metadata": {
    "collapsed": true
   },
   "outputs": [],
   "source": [
    "incorrect = np.where(preds!=test_labels)[0]"
   ]
  },
  {
   "cell_type": "code",
   "execution_count": 124,
   "metadata": {},
   "outputs": [
    {
     "data": {
      "text/plain": [
       "(39907,)"
      ]
     },
     "execution_count": 124,
     "metadata": {},
     "output_type": "execute_result"
    }
   ],
   "source": [
    "correct.shape"
   ]
  },
  {
   "cell_type": "code",
   "execution_count": 125,
   "metadata": {},
   "outputs": [
    {
     "data": {
      "text/plain": [
       "(93,)"
      ]
     },
     "execution_count": 125,
     "metadata": {},
     "output_type": "execute_result"
    }
   ],
   "source": [
    "incorrect.shape"
   ]
  },
  {
   "cell_type": "code",
   "execution_count": 126,
   "metadata": {
    "collapsed": true
   },
   "outputs": [],
   "source": [
    "# number of images to view\n",
    "n_view = 30"
   ]
  },
  {
   "cell_type": "code",
   "execution_count": 127,
   "metadata": {
    "collapsed": true
   },
   "outputs": [],
   "source": [
    "from numpy.random import permutation\n",
    "\n",
    "# get a random selection of correctly predicted images\n",
    "idx = permutation(correct)[:n_view]\n",
    "idx_incorrect = permutation(incorrect)[:n_view]"
   ]
  },
  {
   "cell_type": "code",
   "execution_count": 128,
   "metadata": {
    "collapsed": true
   },
   "outputs": [],
   "source": [
    "preds_correct = preds[idx]\n",
    "preds_incorrect = preds[idx_incorrect]"
   ]
  },
  {
   "cell_type": "code",
   "execution_count": 129,
   "metadata": {
    "collapsed": true
   },
   "outputs": [],
   "source": [
    "imgs = x_test[idx]\n",
    "imgs_incorrect = x_test[idx_incorrect]"
   ]
  },
  {
   "cell_type": "code",
   "execution_count": 130,
   "metadata": {},
   "outputs": [
    {
     "data": {
      "text/plain": [
       "(30, 1, 28, 28)"
      ]
     },
     "execution_count": 130,
     "metadata": {},
     "output_type": "execute_result"
    }
   ],
   "source": [
    "imgs.shape"
   ]
  },
  {
   "cell_type": "markdown",
   "metadata": {},
   "source": [
    "### A few correct labels at random"
   ]
  },
  {
   "cell_type": "code",
   "execution_count": 131,
   "metadata": {},
   "outputs": [
    {
     "data": {
      "image/png": "[encoded data removed]",
      "text/plain": [
       "<matplotlib.figure.Figure at 0x7ff3ae0d28d0>"
      ]
     },
     "metadata": {},
     "output_type": "display_data"
    }
   ],
   "source": [
    "f = plt.figure(figsize=(12,6))\n",
    "\n",
    "for i in range(n_view):\n",
    "    sp = f.add_subplot(3, 10, i+1)\n",
    "    sp.axis('Off')\n",
    "    sp.set_title(preds_correct[i])\n",
    "    img = imgs[i].astype('float32')\n",
    "    plt.imshow(img[0], cmap='gray')"
   ]
  },
  {
   "cell_type": "code",
   "execution_count": 132,
   "metadata": {},
   "outputs": [
    {
     "data": {
      "text/plain": [
       "array([5, 1, 3, 9, 4, 4, 6, 4, 0, 3, 3, 5, 2, 9, 5, 9, 6, 7, 7, 4, 4, 6, 1,\n",
       "       3, 6, 0, 6, 9, 8, 7], dtype=uint8)"
      ]
     },
     "execution_count": 132,
     "metadata": {},
     "output_type": "execute_result"
    }
   ],
   "source": [
    "# ground truth labels\n",
    "test_labels[idx]"
   ]
  },
  {
   "cell_type": "markdown",
   "metadata": {},
   "source": [
    "### a few incorrect labels at random"
   ]
  },
  {
   "cell_type": "code",
   "execution_count": 133,
   "metadata": {},
   "outputs": [
    {
     "data": {
      "image/png": "[encoded data removed]",
      "text/plain": [
       "<matplotlib.figure.Figure at 0x7ff3aa725dd8>"
      ]
     },
     "metadata": {},
     "output_type": "display_data"
    }
   ],
   "source": [
    "f = plt.figure(figsize=(12,6))\n",
    "\n",
    "for i in range(n_view): \n",
    "    sp = f.add_subplot(3, 10, i+1)\n",
    "    sp.axis('Off')\n",
    "    sp.set_title(\"{} | {}\".format(preds_incorrect[i],test_labels[idx_incorrect][i]))\n",
    "    img = imgs_incorrect[i].astype('float32')\n",
    "    plt.imshow(img[0], cmap='gray')"
   ]
  },
  {
   "cell_type": "code",
   "execution_count": 134,
   "metadata": {},
   "outputs": [
    {
     "data": {
      "text/plain": [
       "array([5, 5, 7, 5, 4, 3, 6, 1, 7, 3, 4, 1, 4, 2, 8, 3, 5, 7, 2, 3, 2, 8, 0,\n",
       "       8, 9, 2, 9, 3, 6, 4], dtype=uint8)"
      ]
     },
     "execution_count": 134,
     "metadata": {},
     "output_type": "execute_result"
    }
   ],
   "source": [
    "# ground truth labels\n",
    "test_labels[idx_incorrect]"
   ]
  },
  {
   "cell_type": "markdown",
   "metadata": {},
   "source": [
    "# Print confusion matrix"
   ]
  },
  {
   "cell_type": "markdown",
   "metadata": {},
   "source": [
    "Plot unnormalized and normalized confusion matrices. Code adapted from \n",
    "http://scikit-learn.org/stable/auto_examples/model_selection/plot_confusion_matrix.html\n"
   ]
  },
  {
   "cell_type": "code",
   "execution_count": 135,
   "metadata": {
    "collapsed": true
   },
   "outputs": [],
   "source": [
    "def plot_confusion_matrix(cm, classes,\n",
    "                          normalize=False,\n",
    "                          title='Confusion matrix',\n",
    "                          cmap=plt.cm.Blues):\n",
    "    \"\"\"\n",
    "    This function prints and plots the confusion matrix.\n",
    "    Normalization can be applied by setting `normalize=True`.\n",
    "    \"\"\"\n",
    "    if normalize:\n",
    "        cm = cm.astype('float') / cm.sum(axis=1)[:, np.newaxis]\n",
    "        print(\"Normalized confusion matrix\")\n",
    "    else:\n",
    "        print('Confusion matrix, without normalization')\n",
    "\n",
    "    print(cm)\n",
    "\n",
    "    plt.imshow(cm, interpolation='nearest', cmap=cmap)\n",
    "    plt.title(title)\n",
    "    plt.colorbar()\n",
    "    tick_marks = np.arange(len(classes))\n",
    "    plt.xticks(tick_marks, classes, rotation=45)\n",
    "    plt.yticks(tick_marks, classes)\n",
    "\n",
    "    fmt = '.2f' if normalize else 'd'\n",
    "    thresh = cm.max() / 2.\n",
    "    for i, j in itertools.product(range(cm.shape[0]), range(cm.shape[1])):\n",
    "        plt.text(j, i, format(cm[i, j], fmt),\n",
    "                 horizontalalignment=\"center\",\n",
    "                 color=\"white\" if cm[i, j] > thresh else \"black\")\n",
    "\n",
    "    plt.tight_layout()\n",
    "    plt.ylabel('True label')\n",
    "    plt.xlabel('Predicted label')"
   ]
  },
  {
   "cell_type": "code",
   "execution_count": 136,
   "metadata": {
    "collapsed": true,
    "scrolled": true
   },
   "outputs": [],
   "source": [
    "# calculate confusion matrix\n",
    "from sklearn.metrics import confusion_matrix\n",
    "cnf_matrix = confusion_matrix(test_labels, preds)"
   ]
  },
  {
   "cell_type": "code",
   "execution_count": 137,
   "metadata": {},
   "outputs": [
    {
     "name": "stdout",
     "output_type": "stream",
     "text": [
      "Confusion matrix, without normalization\n",
      "[[3992    1    1    0    0    1    1    0    1    3]\n",
      " [   0 3995    1    0    1    0    0    2    1    0]\n",
      " [   1    1 3990    4    0    0    0    2    2    0]\n",
      " [   0    1    4 3985    0    7    0    0    2    1]\n",
      " [   1    0    0    0 3989    0    1    1    1    7]\n",
      " [   0    1    0    3    0 3989    3    0    2    2]\n",
      " [   3    0    1    0    1    1 3994    0    0    0]\n",
      " [   0    1    3    0    5    0    0 3991    0    0]\n",
      " [   0    1    1    2    1    0    3    0 3990    2]\n",
      " [   0    0    0    0    5    0    0    2    1 3992]]\n",
      "Normalized confusion matrix\n",
      "[[  9.98e-01   2.50e-04   2.50e-04   0.00e+00   0.00e+00   2.50e-04\n",
      "    2.50e-04   0.00e+00   2.50e-04   7.50e-04]\n",
      " [  0.00e+00   9.99e-01   2.50e-04   0.00e+00   2.50e-04   0.00e+00\n",
      "    0.00e+00   5.00e-04   2.50e-04   0.00e+00]\n",
      " [  2.50e-04   2.50e-04   9.98e-01   1.00e-03   0.00e+00   0.00e+00\n",
      "    0.00e+00   5.00e-04   5.00e-04   0.00e+00]\n",
      " [  0.00e+00   2.50e-04   1.00e-03   9.96e-01   0.00e+00   1.75e-03\n",
      "    0.00e+00   0.00e+00   5.00e-04   2.50e-04]\n",
      " [  2.50e-04   0.00e+00   0.00e+00   0.00e+00   9.97e-01   0.00e+00\n",
      "    2.50e-04   2.50e-04   2.50e-04   1.75e-03]\n",
      " [  0.00e+00   2.50e-04   0.00e+00   7.50e-04   0.00e+00   9.97e-01\n",
      "    7.50e-04   0.00e+00   5.00e-04   5.00e-04]\n",
      " [  7.50e-04   0.00e+00   2.50e-04   0.00e+00   2.50e-04   2.50e-04\n",
      "    9.99e-01   0.00e+00   0.00e+00   0.00e+00]\n",
      " [  0.00e+00   2.50e-04   7.50e-04   0.00e+00   1.25e-03   0.00e+00\n",
      "    0.00e+00   9.98e-01   0.00e+00   0.00e+00]\n",
      " [  0.00e+00   2.50e-04   2.50e-04   5.00e-04   2.50e-04   0.00e+00\n",
      "    7.50e-04   0.00e+00   9.98e-01   5.00e-04]\n",
      " [  0.00e+00   0.00e+00   0.00e+00   0.00e+00   1.25e-03   0.00e+00\n",
      "    0.00e+00   5.00e-04   2.50e-04   9.98e-01]]\n"
     ]
    },
    {
     "data": {
      "image/png": "[encoded data removed]",
      "text/plain": [
       "<matplotlib.figure.Figure at 0x7ff3a88d39b0>"
      ]
     },
     "metadata": {},
     "output_type": "display_data"
    },
    {
     "data": {
      "image/png": "[encoded data removed]",
      "text/plain": [
       "<matplotlib.figure.Figure at 0x7ff3a88db198>"
      ]
     },
     "metadata": {},
     "output_type": "display_data"
    }
   ],
   "source": [
    "import itertools\n",
    "\n",
    "class_names = [i for i in range(10)]\n",
    "np.set_printoptions(precision=2)\n",
    "\n",
    "# Plot non-normalized confusion matrix\n",
    "plt.figure(figsize=(20,5))\n",
    "plot_confusion_matrix(cnf_matrix, classes=class_names,\n",
    "                      title='Confusion matrix, without normalization')\n",
    "\n",
    "# Plot normalized confusion matrix\n",
    "plt.figure(figsize=(20,5))\n",
    "plot_confusion_matrix(cnf_matrix, classes=class_names, normalize=True,\n",
    "                      title='Normalized confusion matrix')\n",
    "\n",
    "plt.show()"
   ]
  },
  {
   "cell_type": "markdown",
   "metadata": {},
   "source": [
    "# Save weights if models are accurate enough"
   ]
  },
  {
   "cell_type": "code",
   "execution_count": 68,
   "metadata": {
    "collapsed": true
   },
   "outputs": [],
   "source": [
    "# save the weights for every classifier\n",
    "for i, m in enumerate(models):\n",
    "    m.save_weights(\"weights/weights_mnist+16epochs_0.xx\"+str(i)+'.pkl')"
   ]
  },
  {
   "cell_type": "code",
   "execution_count": null,
   "metadata": {
    "collapsed": true
   },
   "outputs": [],
   "source": []
  }
 ],
 "metadata": {
  "kernelspec": {
   "display_name": "Python 3",
   "language": "python",
   "name": "python3"
  },
  "language_info": {
   "codemirror_mode": {
    "name": "ipython",
    "version": 3
   },
   "file_extension": ".py",
   "mimetype": "text/x-python",
   "name": "python",
   "nbconvert_exporter": "python",
   "pygments_lexer": "ipython3",
   "version": "3.6.2"
  }
 },
 "nbformat": 4,
 "nbformat_minor": 2
}
