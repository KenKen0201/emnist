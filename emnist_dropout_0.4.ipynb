{
 "cells": [
  {
   "cell_type": "markdown",
   "metadata": {},
   "source": [
    "# EMNIST digit classification"
   ]
  },
  {
   "cell_type": "markdown",
   "metadata": {},
   "source": [
    "## Test error rates of this model on EMNIST test data:\n",
    "Model was trained from scratch on EMNIST Digits training data using realtime data augmentation. All test error rates in percent."
   ]
  },
  {
   "cell_type": "code",
   "execution_count": 1,
   "metadata": {
    "collapsed": true
   },
   "outputs": [],
   "source": [
    "%matplotlib inline"
   ]
  },
  {
   "cell_type": "code",
   "execution_count": 2,
   "metadata": {
    "scrolled": false
   },
   "outputs": [
    {
     "name": "stderr",
     "output_type": "stream",
     "text": [
      "Using Theano backend.\n",
      "Using cuDNN version 5005 on context None\n",
      "Preallocating 7295/8105 Mb (0.900000) on cuda\n",
      "Mapped name None to device cuda: GeForce GTX 1070 (0000:28:00.0)\n"
     ]
    }
   ],
   "source": [
    "import keras\n",
    "import numpy as np\n",
    "\n",
    "from keras.layers import Dense, Dropout, Conv2D, MaxPooling2D\n",
    "from keras.layers import Flatten, Lambda, BatchNormalization\n",
    "from keras.models import Sequential\n",
    "from keras.optimizers import Adam as Adam\n",
    "from keras.layers.advanced_activations import LeakyReLU"
   ]
  },
  {
   "cell_type": "code",
   "execution_count": 3,
   "metadata": {
    "collapsed": true
   },
   "outputs": [],
   "source": [
    "# used to save and load training histories\n",
    "import pickle\n",
    "from collections import defaultdict\n",
    "\n",
    "import resource, sys\n",
    "\n",
    "# we would reach recursion limit when saving training history otherwise\n",
    "resource.setrlimit(resource.RLIMIT_STACK, (2**29,-1))\n",
    "sys.setrecursionlimit(2**29 - 1)"
   ]
  },
  {
   "cell_type": "markdown",
   "metadata": {},
   "source": [
    "# Load EMNIST Digits dataset\n",
    "Introduced by https://arxiv.org/abs/1702.05373v1 downloaded from https://www.nist.gov/itl/iad/image-group/emnist-dataset (Matlab format dataset). The matlab format dataset can be conveniently imported with scipy.io.loadmat."
   ]
  },
  {
   "cell_type": "code",
   "execution_count": 4,
   "metadata": {
    "collapsed": true
   },
   "outputs": [],
   "source": [
    "from scipy import io as spio"
   ]
  },
  {
   "cell_type": "code",
   "execution_count": 5,
   "metadata": {
    "collapsed": true
   },
   "outputs": [],
   "source": [
    "emnist = spio.loadmat(\"datasets/matlab/emnist-digits.mat\")"
   ]
  },
  {
   "cell_type": "code",
   "execution_count": 6,
   "metadata": {
    "collapsed": true
   },
   "outputs": [],
   "source": [
    "# load training dataset\n",
    "x_train = emnist[\"dataset\"][0][0][0][0][0][0]\n",
    "x_train = x_train.astype(np.float32)\n",
    "\n",
    "# load training labels\n",
    "y_train = emnist[\"dataset\"][0][0][0][0][0][1]"
   ]
  },
  {
   "cell_type": "code",
   "execution_count": 7,
   "metadata": {
    "collapsed": true
   },
   "outputs": [],
   "source": [
    "# load test dataset\n",
    "x_test = emnist[\"dataset\"][0][0][1][0][0][0]\n",
    "x_test = x_test.astype(np.float32)\n",
    "\n",
    "# load test labels\n",
    "y_test = emnist[\"dataset\"][0][0][1][0][0][1]"
   ]
  },
  {
   "cell_type": "code",
   "execution_count": 8,
   "metadata": {
    "collapsed": true
   },
   "outputs": [],
   "source": [
    "# store labels for visualization\n",
    "train_labels = y_train\n",
    "test_labels = y_test"
   ]
  },
  {
   "cell_type": "code",
   "execution_count": 9,
   "metadata": {},
   "outputs": [
    {
     "data": {
      "text/plain": [
       "(240000, 784)"
      ]
     },
     "execution_count": 9,
     "metadata": {},
     "output_type": "execute_result"
    }
   ],
   "source": [
    "x_train.shape"
   ]
  },
  {
   "cell_type": "code",
   "execution_count": 10,
   "metadata": {},
   "outputs": [
    {
     "data": {
      "text/plain": [
       "(240000, 1)"
      ]
     },
     "execution_count": 10,
     "metadata": {},
     "output_type": "execute_result"
    }
   ],
   "source": [
    "y_train.shape"
   ]
  },
  {
   "cell_type": "code",
   "execution_count": 11,
   "metadata": {
    "collapsed": true
   },
   "outputs": [],
   "source": [
    "# normalize\n",
    "x_train /= 255\n",
    "x_test /= 255"
   ]
  },
  {
   "cell_type": "code",
   "execution_count": 12,
   "metadata": {},
   "outputs": [
    {
     "data": {
      "text/plain": [
       "array([[ 0.,  0.,  0., ...,  0.,  0.,  0.],\n",
       "       [ 0.,  0.,  0., ...,  0.,  0.,  0.],\n",
       "       [ 0.,  0.,  0., ...,  0.,  0.,  0.],\n",
       "       ..., \n",
       "       [ 0.,  0.,  0., ...,  0.,  0.,  0.],\n",
       "       [ 0.,  0.,  0., ...,  0.,  0.,  0.],\n",
       "       [ 0.,  0.,  0., ...,  0.,  0.,  0.]], dtype=float32)"
      ]
     },
     "execution_count": 12,
     "metadata": {},
     "output_type": "execute_result"
    }
   ],
   "source": [
    "x_train"
   ]
  },
  {
   "cell_type": "code",
   "execution_count": 13,
   "metadata": {
    "collapsed": true
   },
   "outputs": [],
   "source": [
    "# reshape using matlab order\n",
    "x_train = x_train.reshape(x_train.shape[0], 1, 28, 28, order=\"A\")\n",
    "x_test = x_test.reshape(x_test.shape[0], 1, 28, 28, order=\"A\")"
   ]
  },
  {
   "cell_type": "code",
   "execution_count": 14,
   "metadata": {},
   "outputs": [
    {
     "data": {
      "text/plain": [
       "(240000, 1, 28, 28)"
      ]
     },
     "execution_count": 14,
     "metadata": {},
     "output_type": "execute_result"
    }
   ],
   "source": [
    "x_train.shape"
   ]
  },
  {
   "cell_type": "code",
   "execution_count": 15,
   "metadata": {},
   "outputs": [
    {
     "data": {
      "text/plain": [
       "(240000, 1)"
      ]
     },
     "execution_count": 15,
     "metadata": {},
     "output_type": "execute_result"
    }
   ],
   "source": [
    "y_train.shape"
   ]
  },
  {
   "cell_type": "code",
   "execution_count": 16,
   "metadata": {},
   "outputs": [
    {
     "data": {
      "text/plain": [
       "(240000, 10)"
      ]
     },
     "execution_count": 16,
     "metadata": {},
     "output_type": "execute_result"
    }
   ],
   "source": [
    "# labels should be onehot encoded\n",
    "y_train = keras.utils.to_categorical(y_train, 10)\n",
    "y_test = keras.utils.to_categorical(y_test, 10)\n",
    "\n",
    "y_train.shape"
   ]
  },
  {
   "cell_type": "markdown",
   "metadata": {},
   "source": [
    "## Verify we have imported the data correctly"
   ]
  },
  {
   "cell_type": "code",
   "execution_count": 17,
   "metadata": {
    "collapsed": true
   },
   "outputs": [],
   "source": [
    "# which sample to look at\n",
    "samplenum = 5437"
   ]
  },
  {
   "cell_type": "code",
   "execution_count": 18,
   "metadata": {
    "scrolled": true
   },
   "outputs": [
    {
     "data": {
      "text/plain": [
       "<matplotlib.image.AxesImage at 0x7fb108172da0>"
      ]
     },
     "execution_count": 18,
     "metadata": {},
     "output_type": "execute_result"
    },
    {
     "data": {
      "image/png": "[encoded data removed]",
      "text/plain": [
       "<matplotlib.figure.Figure at 0x7fb10948d0b8>"
      ]
     },
     "metadata": {},
     "output_type": "display_data"
    }
   ],
   "source": [
    "import matplotlib.pyplot as plt\n",
    "\n",
    "img = x_train[samplenum]\n",
    "\n",
    "# visualize image\n",
    "plt.imshow(img[0], cmap='gray')"
   ]
  },
  {
   "cell_type": "code",
   "execution_count": 19,
   "metadata": {},
   "outputs": [
    {
     "data": {
      "text/plain": [
       "7"
      ]
     },
     "execution_count": 19,
     "metadata": {},
     "output_type": "execute_result"
    }
   ],
   "source": [
    "# show label for sample image\n",
    "train_labels[samplenum][0]"
   ]
  },
  {
   "cell_type": "markdown",
   "metadata": {},
   "source": [
    "## Reshape test labels"
   ]
  },
  {
   "cell_type": "code",
   "execution_count": 20,
   "metadata": {},
   "outputs": [
    {
     "data": {
      "text/plain": [
       "(40000, 1)"
      ]
     },
     "execution_count": 20,
     "metadata": {},
     "output_type": "execute_result"
    }
   ],
   "source": [
    "test_labels.shape"
   ]
  },
  {
   "cell_type": "code",
   "execution_count": 21,
   "metadata": {
    "collapsed": true
   },
   "outputs": [],
   "source": [
    "test_labels = test_labels.reshape(40000)"
   ]
  },
  {
   "cell_type": "code",
   "execution_count": 22,
   "metadata": {},
   "outputs": [
    {
     "data": {
      "text/plain": [
       "(40000,)"
      ]
     },
     "execution_count": 22,
     "metadata": {},
     "output_type": "execute_result"
    }
   ],
   "source": [
    "test_labels.shape"
   ]
  },
  {
   "cell_type": "markdown",
   "metadata": {},
   "source": [
    "# Define model"
   ]
  },
  {
   "cell_type": "code",
   "execution_count": 23,
   "metadata": {
    "collapsed": true
   },
   "outputs": [],
   "source": [
    "# calculate mean and standard deviation\n",
    "mean_px = x_train.mean().astype(np.float32)\n",
    "std_px = x_train.std().astype(np.float32)"
   ]
  },
  {
   "cell_type": "code",
   "execution_count": 24,
   "metadata": {
    "collapsed": true
   },
   "outputs": [],
   "source": [
    "# function to normalize input data\n",
    "def norm_input(x): return (x-mean_px)/std_px"
   ]
  },
  {
   "cell_type": "code",
   "execution_count": 25,
   "metadata": {
    "collapsed": true
   },
   "outputs": [],
   "source": [
    "# Batchnorm + dropout + data augmentation\n",
    "def create_model():\n",
    "    model = Sequential([\n",
    "        Lambda(norm_input, input_shape=(1,28,28), output_shape=(1,28,28)),\n",
    "        Conv2D(32, (3,3)),\n",
    "        LeakyReLU(),\n",
    "        BatchNormalization(axis=1),\n",
    "        Conv2D(32, (3,3)),\n",
    "        LeakyReLU(),\n",
    "        MaxPooling2D(),\n",
    "        BatchNormalization(axis=1),\n",
    "        Conv2D(64, (3,3)),\n",
    "        LeakyReLU(),\n",
    "        BatchNormalization(axis=1),\n",
    "        Conv2D(64, (3,3)),\n",
    "        LeakyReLU(),\n",
    "        MaxPooling2D(),\n",
    "        Flatten(),\n",
    "        BatchNormalization(),\n",
    "        Dense(512),\n",
    "        LeakyReLU(),\n",
    "        BatchNormalization(),\n",
    "        Dropout(0.4),\n",
    "        Dense(10, activation='softmax')\n",
    "    ])\n",
    "    model.compile(Adam(), loss='categorical_crossentropy', metrics=['accuracy'])\n",
    "    return model"
   ]
  },
  {
   "cell_type": "markdown",
   "metadata": {},
   "source": [
    "# Data augmentation\n",
    "Use keras data augmentation."
   ]
  },
  {
   "cell_type": "code",
   "execution_count": 26,
   "metadata": {
    "collapsed": true
   },
   "outputs": [],
   "source": [
    "batch_size = 512"
   ]
  },
  {
   "cell_type": "code",
   "execution_count": 27,
   "metadata": {
    "collapsed": true
   },
   "outputs": [],
   "source": [
    "from keras.preprocessing.image import ImageDataGenerator"
   ]
  },
  {
   "cell_type": "code",
   "execution_count": 28,
   "metadata": {
    "collapsed": true
   },
   "outputs": [],
   "source": [
    "gen = ImageDataGenerator(rotation_range=12, width_shift_range=0.1, shear_range=0.3,\n",
    "                        height_shift_range=0.1, zoom_range=0.1, data_format='channels_first')\n",
    "batches = gen.flow(x_train, y_train, batch_size=batch_size)\n",
    "test_batches = gen.flow(x_test, y_test, batch_size=batch_size)\n",
    "steps_per_epoch = int(np.ceil(batches.n/batch_size))\n",
    "validation_steps = int(np.ceil(test_batches.n/batch_size))"
   ]
  },
  {
   "cell_type": "code",
   "execution_count": 29,
   "metadata": {},
   "outputs": [
    {
     "data": {
      "text/plain": [
       "<matplotlib.image.AxesImage at 0x7fb108060d68>"
      ]
     },
     "execution_count": 29,
     "metadata": {},
     "output_type": "execute_result"
    },
    {
     "data": {
      "image/png": "[encoded data removed]",
      "text/plain": [
       "<matplotlib.figure.Figure at 0x7fb1080ddac8>"
      ]
     },
     "metadata": {},
     "output_type": "display_data"
    }
   ],
   "source": [
    "import matplotlib.pyplot as plt\n",
    "\n",
    "# load ONE image from training set to display on screen\n",
    "img = x_train[1]\n",
    "\n",
    "# visualize original image\n",
    "plt.imshow(img[0], cmap='gray')"
   ]
  },
  {
   "cell_type": "code",
   "execution_count": 30,
   "metadata": {
    "collapsed": true
   },
   "outputs": [],
   "source": [
    "# trick our generator into believing img has enough dimensions\n",
    "# and get some augmented images for our single test image\n",
    "img = np.expand_dims(img, axis=0)\n",
    "aug_iter = gen.flow(img)"
   ]
  },
  {
   "cell_type": "code",
   "execution_count": 31,
   "metadata": {},
   "outputs": [
    {
     "data": {
      "text/plain": [
       "(1, 28, 28)"
      ]
     },
     "execution_count": 31,
     "metadata": {},
     "output_type": "execute_result"
    }
   ],
   "source": [
    "aug_img = next(aug_iter)[0].astype(np.float32)\n",
    "aug_img.shape"
   ]
  },
  {
   "cell_type": "code",
   "execution_count": 32,
   "metadata": {},
   "outputs": [
    {
     "data": {
      "image/png": "[encoded data removed]",
      "text/plain": [
       "<matplotlib.figure.Figure at 0x7fb1080215f8>"
      ]
     },
     "metadata": {},
     "output_type": "display_data"
    }
   ],
   "source": [
    "import matplotlib.pyplot as plt\n",
    "\n",
    "# show augmented images\n",
    "f = plt.figure(figsize=(12,6))\n",
    "for i in range(8):\n",
    "    sp = f.add_subplot(2, 26//3, i+1)\n",
    "    sp.axis('Off')\n",
    "    aug_img = next(aug_iter)[0].astype(np.float32)\n",
    "    plt.imshow(aug_img[0], cmap='gray')"
   ]
  },
  {
   "cell_type": "markdown",
   "metadata": {},
   "source": [
    "# Ensembling\n",
    "Here we create ten models and fit them to our augmented data. We use the mean prediction from all ten classifiers as our final prediction. This should average out errors in our classifiers and enable us to predict with higher accuracy."
   ]
  },
  {
   "cell_type": "markdown",
   "metadata": {},
   "source": [
    "## Create ten models from scratch"
   ]
  },
  {
   "cell_type": "code",
   "execution_count": 33,
   "metadata": {
    "collapsed": true
   },
   "outputs": [],
   "source": [
    "models = []\n",
    "weights_epoch = 0\n",
    "\n",
    "for i in range(10):\n",
    "    m = create_model()\n",
    "    models.append(m)"
   ]
  },
  {
   "cell_type": "markdown",
   "metadata": {},
   "source": [
    "## Or Create ten models using saved weights"
   ]
  },
  {
   "cell_type": "code",
   "execution_count": 34,
   "metadata": {
    "collapsed": true
   },
   "outputs": [],
   "source": [
    "# specify which weights to load (also used for further training)\n",
    "weights_epoch = 304"
   ]
  },
  {
   "cell_type": "code",
   "execution_count": 35,
   "metadata": {
    "collapsed": true
   },
   "outputs": [],
   "source": [
    "models = []\n",
    "\n",
    "for i in range(10):\n",
    "    m = create_model()\n",
    "    m.load_weights('dropout_0.4/weights/{}epochs_weights_model_{}.pkl'.format(weights_epoch, i))\n",
    "    models.append(m)"
   ]
  },
  {
   "cell_type": "markdown",
   "metadata": {},
   "source": [
    "## Train models for a few more epochs\n",
    "Train models for some additional epochs and save model weights as well as corresponding training history every num_epochs. Test error rates for ensemble and every single model are written to text files after every iteration."
   ]
  },
  {
   "cell_type": "code",
   "execution_count": 60,
   "metadata": {
    "collapsed": true
   },
   "outputs": [],
   "source": [
    "eval_batch_size = 512"
   ]
  },
  {
   "cell_type": "code",
   "execution_count": 61,
   "metadata": {
    "collapsed": true
   },
   "outputs": [],
   "source": [
    "# how many iterations with how many epochs we want to train\n",
    "num_iterations = 1\n",
    "num_epochs = 16"
   ]
  },
  {
   "cell_type": "code",
   "execution_count": 62,
   "metadata": {
    "scrolled": true
   },
   "outputs": [
    {
     "name": "stdout",
     "output_type": "stream",
     "text": [
      "iteration 1, cur_epoch 304\n"
     ]
    }
   ],
   "source": [
    "for iteration in range(num_iterations):\n",
    "    cur_epoch = (iteration+1)*num_epochs + weights_epoch\n",
    "    print(\"iteration {}, cur_epoch {}\".format(iteration+1, cur_epoch))\n",
    "    \n",
    "    # train models for specified number of epochs\n",
    "    for i,m in enumerate(models):\n",
    "        h = m.fit_generator(batches, steps_per_epoch=steps_per_epoch, epochs=num_epochs, verbose=0,\n",
    "                            validation_data=test_batches, validation_steps=validation_steps)\n",
    "        \n",
    "        # save model weights\n",
    "        m.save_weights(\"dropout_0.4/weights/{}epochs_weights_model_{}.pkl\".format(cur_epoch, i))\n",
    "        # save corresponding training history\n",
    "        with open(\"dropout_0.4/history/{}epochs_history_model_{}.pkl\".format(cur_epoch, i),\"wb\") as f:\n",
    "            pickle.dump(h, f)\n",
    "        \n",
    "    # evaluate test error rate for ensemble\n",
    "    all_preds = np.stack([m.predict(x_test, batch_size=eval_batch_size) for m in models]) \n",
    "    avg_preds = all_preds.mean(axis=0)\n",
    "    test_error_ensemble = (1 - keras.metrics.categorical_accuracy(y_test, avg_preds).eval().mean()) * 100\n",
    "    \n",
    "    # write test error rate for ensemble and every single model to text file\n",
    "    with open(\"dropout_0.4/history/test_errors_epoch_{}.txt\".format(cur_epoch), \"w\") as text_file:\n",
    "        text_file.write(\"epoch: {} test error on ensemble: {}\\n\".format(cur_epoch, test_error_ensemble))\n",
    "\n",
    "        for m in models:\n",
    "            pred = np.array(m.predict(x_test, batch_size=eval_batch_size))\n",
    "            test_err = (1 - keras.metrics.categorical_accuracy(y_test, pred).eval().mean()) * 100\n",
    "            text_file.write(\"{}\\n\".format(test_err))"
   ]
  },
  {
   "cell_type": "markdown",
   "metadata": {},
   "source": [
    "# Evaluate Ensemble of 10 CNNs"
   ]
  },
  {
   "cell_type": "code",
   "execution_count": 36,
   "metadata": {
    "collapsed": true
   },
   "outputs": [],
   "source": [
    "eval_batch_size = 512"
   ]
  },
  {
   "cell_type": "code",
   "execution_count": 37,
   "metadata": {
    "collapsed": true
   },
   "outputs": [],
   "source": [
    "all_preds = np.stack([m.predict(x_test, batch_size=eval_batch_size) for m in models])"
   ]
  },
  {
   "cell_type": "code",
   "execution_count": 38,
   "metadata": {
    "collapsed": true
   },
   "outputs": [],
   "source": [
    "avg_preds = all_preds.mean(axis=0)"
   ]
  },
  {
   "cell_type": "code",
   "execution_count": 39,
   "metadata": {},
   "outputs": [
    {
     "data": {
      "text/plain": [
       "0.17250180244445801"
      ]
     },
     "execution_count": 39,
     "metadata": {},
     "output_type": "execute_result"
    }
   ],
   "source": [
    "# display error rate in percent\n",
    "(1 - keras.metrics.categorical_accuracy(y_test, avg_preds).eval().mean()) * 100"
   ]
  },
  {
   "cell_type": "markdown",
   "metadata": {},
   "source": [
    "## Show test error rate of every model separately\n",
    "All test error rates in percent."
   ]
  },
  {
   "cell_type": "code",
   "execution_count": 40,
   "metadata": {},
   "outputs": [
    {
     "name": "stdout",
     "output_type": "stream",
     "text": [
      "1 0.249999761581\n",
      "2 0.237500667572\n",
      "3 0.252497196198\n",
      "4 0.244998931885\n",
      "5 0.225001573563\n",
      "6 0.242501497269\n",
      "7 0.249999761581\n",
      "8 0.220000743866\n",
      "9 0.267499685287\n",
      "10 0.227499008179\n"
     ]
    }
   ],
   "source": [
    "for i, m in enumerate(models):\n",
    "    pred = np.array(m.predict(x_test, batch_size=eval_batch_size))\n",
    "    print(i+1, (1 - keras.metrics.categorical_accuracy(y_test, pred).eval().mean()) * 100)"
   ]
  },
  {
   "cell_type": "markdown",
   "metadata": {},
   "source": [
    "# Plot Training History"
   ]
  },
  {
   "cell_type": "markdown",
   "metadata": {},
   "source": [
    "Load and plot saved training histories. Utility functions from https://github.com/fchollet/keras/issues/103"
   ]
  },
  {
   "cell_type": "code",
   "execution_count": 42,
   "metadata": {
    "collapsed": true
   },
   "outputs": [],
   "source": [
    "# which model to plot training history of\n",
    "i = 9"
   ]
  },
  {
   "cell_type": "code",
   "execution_count": 43,
   "metadata": {
    "collapsed": true
   },
   "outputs": [],
   "source": [
    "# merge training histories\n",
    "def merge_dict(dict_list):\n",
    "    dd = defaultdict(list)    \n",
    "    for d in dict_list:\n",
    "        for key, value in d.items():\n",
    "            if not hasattr(value, '__iter__'):\n",
    "                value = (value,)       \n",
    "            [dd[key].append(v) for v in value]\n",
    "    return dict(dd)\n",
    "\n",
    "# load pickled data\n",
    "def load(name):\n",
    "    filename = open(name,\"rb\")\n",
    "    obj = pickle.load(filename)\n",
    "    filename.close()    \n",
    "    return(obj)"
   ]
  },
  {
   "cell_type": "code",
   "execution_count": 44,
   "metadata": {
    "collapsed": true
   },
   "outputs": [],
   "source": [
    "import glob\n",
    "histories = glob.glob(\"dropout_0.4/history/*model_{}*\".format(i))"
   ]
  },
  {
   "cell_type": "code",
   "execution_count": 45,
   "metadata": {
    "collapsed": true,
    "scrolled": true
   },
   "outputs": [],
   "source": [
    "histories = sorted(histories)"
   ]
  },
  {
   "cell_type": "code",
   "execution_count": 46,
   "metadata": {
    "collapsed": true
   },
   "outputs": [],
   "source": [
    "# first history would include zero accuracy and mess up our plot\n",
    "h0 = load(histories[1])"
   ]
  },
  {
   "cell_type": "code",
   "execution_count": 47,
   "metadata": {
    "collapsed": true
   },
   "outputs": [],
   "source": [
    "# merge all saved histories\n",
    "for h in histories[2:]:\n",
    "    h1 = load(h)\n",
    "    h0.history = merge_dict([h0.history,h1.history])"
   ]
  },
  {
   "cell_type": "code",
   "execution_count": 48,
   "metadata": {
    "collapsed": true
   },
   "outputs": [],
   "source": [
    "history = h0"
   ]
  },
  {
   "cell_type": "markdown",
   "metadata": {},
   "source": [
    "Jason Brownlee's script to plot model training history:\n",
    "https://machinelearningmastery.com/display-deep-learning-model-training-history-in-keras/"
   ]
  },
  {
   "cell_type": "code",
   "execution_count": 51,
   "metadata": {},
   "outputs": [
    {
     "name": "stdout",
     "output_type": "stream",
     "text": [
      "dict_keys(['val_loss', 'val_acc', 'loss', 'acc'])\n"
     ]
    },
    {
     "data": {
      "image/png": "[encoded data removed]",
      "text/plain": [
       "<matplotlib.figure.Figure at 0x7fb0892beb70>"
      ]
     },
     "metadata": {},
     "output_type": "display_data"
    },
    {
     "data": {
      "image/png": "[encoded data removed]",
      "text/plain": [
       "<matplotlib.figure.Figure at 0x7fb09444f0b8>"
      ]
     },
     "metadata": {},
     "output_type": "display_data"
    }
   ],
   "source": [
    "import matplotlib.pyplot as plt\n",
    "\n",
    "axes = plt.gca()\n",
    "\n",
    "# set x label range, starting with 16\n",
    "r = np.arange(16,304)\n",
    "\n",
    "# list all data in history\n",
    "print(history.history.keys())\n",
    "# summarize history for accuracy\n",
    "plt.plot(r, history.history['acc'])\n",
    "plt.plot(r, history.history['val_acc'])\n",
    "plt.title(\"model {} accuracy\".format(i))\n",
    "plt.ylabel('accuracy')\n",
    "plt.xlabel('epoch')\n",
    "plt.legend(['train', 'test'], loc='upper left')\n",
    "#plt.xlim(32,224)\n",
    "plt.show()\n",
    "\n",
    "# summarize history for loss\n",
    "plt.plot(r, history.history['loss'])\n",
    "plt.plot(r, history.history['val_loss'])\n",
    "plt.title(\"model {} loss\".format(i))\n",
    "plt.ylabel('loss')\n",
    "plt.xlabel('epoch')\n",
    "plt.legend(['train', 'test'], loc='upper left')\n",
    "#plt.xlim(32,224)\n",
    "plt.show()"
   ]
  },
  {
   "cell_type": "markdown",
   "metadata": {},
   "source": [
    "# Try evaluation only with best performing models"
   ]
  },
  {
   "cell_type": "code",
   "execution_count": 52,
   "metadata": {
    "collapsed": true
   },
   "outputs": [],
   "source": [
    "best_model_numbers = [1,4,7,9]"
   ]
  },
  {
   "cell_type": "code",
   "execution_count": 53,
   "metadata": {
    "collapsed": true
   },
   "outputs": [],
   "source": [
    "best_models = []\n",
    "\n",
    "for i in best_model_numbers:\n",
    "    best_models.append(models[i])"
   ]
  },
  {
   "cell_type": "code",
   "execution_count": 54,
   "metadata": {
    "collapsed": true
   },
   "outputs": [],
   "source": [
    "all_preds = np.stack([m.predict(x_test, batch_size=eval_batch_size) for m in best_models])"
   ]
  },
  {
   "cell_type": "code",
   "execution_count": 55,
   "metadata": {
    "collapsed": true
   },
   "outputs": [],
   "source": [
    "avg_preds = all_preds.mean(axis=0)"
   ]
  },
  {
   "cell_type": "code",
   "execution_count": 56,
   "metadata": {
    "scrolled": true
   },
   "outputs": [
    {
     "data": {
      "text/plain": [
       "0.1900017261505127"
      ]
     },
     "execution_count": 56,
     "metadata": {},
     "output_type": "execute_result"
    }
   ],
   "source": [
    "# display error rate in percent\n",
    "(1 - keras.metrics.categorical_accuracy(y_test, avg_preds).eval().mean()) * 100"
   ]
  },
  {
   "cell_type": "markdown",
   "metadata": {},
   "source": [
    "# Train single model some more"
   ]
  },
  {
   "cell_type": "markdown",
   "metadata": {},
   "source": [
    "Select a single model, train for a few epochs, and check accuracy."
   ]
  },
  {
   "cell_type": "code",
   "execution_count": null,
   "metadata": {
    "collapsed": true
   },
   "outputs": [],
   "source": [
    "# which model to train\n",
    "i = 1"
   ]
  },
  {
   "cell_type": "code",
   "execution_count": null,
   "metadata": {
    "collapsed": true
   },
   "outputs": [],
   "source": [
    "# reload weights in case of overfitting\n",
    "# models[i].load_weights(\"weights/weights_emnist_model_0.2475_\"+str(i)+'.pkl')"
   ]
  },
  {
   "cell_type": "code",
   "execution_count": null,
   "metadata": {
    "collapsed": true
   },
   "outputs": [],
   "source": [
    "models[i].optimizer.lr = 0.0001\n",
    "history = models[i].fit_generator(batches, steps_per_epoch=steps_per_epoch, epochs=4,\n",
    "                   validation_data=test_batches, validation_steps=validation_steps)"
   ]
  },
  {
   "cell_type": "code",
   "execution_count": null,
   "metadata": {
    "collapsed": true,
    "scrolled": true
   },
   "outputs": [],
   "source": [
    "# calculate accuracy of single model\n",
    "pred = np.array(models[i].predict(x_test, batch_size=eval_batch_size))\n",
    "print(i, (1 - keras.metrics.categorical_accuracy(y_test, pred).eval().mean()) * 100)"
   ]
  },
  {
   "cell_type": "code",
   "execution_count": null,
   "metadata": {
    "collapsed": true
   },
   "outputs": [],
   "source": [
    "# models[i].save_weights(\"weights/weights_emnist_model_0.2475_\"+str(i)+'.pkl')"
   ]
  },
  {
   "cell_type": "markdown",
   "metadata": {},
   "source": [
    "# Visualize model"
   ]
  },
  {
   "cell_type": "code",
   "execution_count": 57,
   "metadata": {
    "scrolled": true
   },
   "outputs": [
    {
     "name": "stdout",
     "output_type": "stream",
     "text": [
      "_________________________________________________________________\n",
      "Layer (type)                 Output Shape              Param #   \n",
      "=================================================================\n",
      "lambda_1 (Lambda)            (None, 1, 28, 28)         0         \n",
      "_________________________________________________________________\n",
      "conv2d_1 (Conv2D)            (None, 32, 26, 26)        320       \n",
      "_________________________________________________________________\n",
      "leaky_re_lu_1 (LeakyReLU)    (None, 32, 26, 26)        0         \n",
      "_________________________________________________________________\n",
      "batch_normalization_1 (Batch (None, 32, 26, 26)        128       \n",
      "_________________________________________________________________\n",
      "conv2d_2 (Conv2D)            (None, 32, 24, 24)        9248      \n",
      "_________________________________________________________________\n",
      "leaky_re_lu_2 (LeakyReLU)    (None, 32, 24, 24)        0         \n",
      "_________________________________________________________________\n",
      "max_pooling2d_1 (MaxPooling2 (None, 32, 12, 12)        0         \n",
      "_________________________________________________________________\n",
      "batch_normalization_2 (Batch (None, 32, 12, 12)        128       \n",
      "_________________________________________________________________\n",
      "conv2d_3 (Conv2D)            (None, 64, 10, 10)        18496     \n",
      "_________________________________________________________________\n",
      "leaky_re_lu_3 (LeakyReLU)    (None, 64, 10, 10)        0         \n",
      "_________________________________________________________________\n",
      "batch_normalization_3 (Batch (None, 64, 10, 10)        256       \n",
      "_________________________________________________________________\n",
      "conv2d_4 (Conv2D)            (None, 64, 8, 8)          36928     \n",
      "_________________________________________________________________\n",
      "leaky_re_lu_4 (LeakyReLU)    (None, 64, 8, 8)          0         \n",
      "_________________________________________________________________\n",
      "max_pooling2d_2 (MaxPooling2 (None, 64, 4, 4)          0         \n",
      "_________________________________________________________________\n",
      "flatten_1 (Flatten)          (None, 1024)              0         \n",
      "_________________________________________________________________\n",
      "batch_normalization_4 (Batch (None, 1024)              4096      \n",
      "_________________________________________________________________\n",
      "dense_1 (Dense)              (None, 512)               524800    \n",
      "_________________________________________________________________\n",
      "leaky_re_lu_5 (LeakyReLU)    (None, 512)               0         \n",
      "_________________________________________________________________\n",
      "batch_normalization_5 (Batch (None, 512)               2048      \n",
      "_________________________________________________________________\n",
      "dropout_1 (Dropout)          (None, 512)               0         \n",
      "_________________________________________________________________\n",
      "dense_2 (Dense)              (None, 10)                5130      \n",
      "=================================================================\n",
      "Total params: 601,578\n",
      "Trainable params: 598,250\n",
      "Non-trainable params: 3,328\n",
      "_________________________________________________________________\n"
     ]
    }
   ],
   "source": [
    "models[0].summary()"
   ]
  },
  {
   "cell_type": "code",
   "execution_count": 58,
   "metadata": {
    "scrolled": true
   },
   "outputs": [
    {
     "data": {
      "image/svg+xml": [
       "<svg height=\"1578pt\" viewBox=\"0.00 0.00 268.00 1578.00\" width=\"268pt\" xmlns=\"http://www.w3.org/2000/svg\" xmlns:xlink=\"http://www.w3.org/1999/xlink\">\n",
       "<g class=\"graph\" id=\"graph0\" transform=\"scale(1 1) rotate(0) translate(4 1574)\">\n",
       "<title>G</title>\n",
       "<polygon fill=\"white\" points=\"-4,4 -4,-1574 264,-1574 264,4 -4,4\" stroke=\"none\"/>\n",
       "<!-- 140396960945096 -->\n",
       "<g class=\"node\" id=\"node1\"><title>140396960945096</title>\n",
       "<polygon fill=\"none\" points=\"43.5,-1533.5 43.5,-1569.5 216.5,-1569.5 216.5,-1533.5 43.5,-1533.5\" stroke=\"black\"/>\n",
       "<text font-family=\"Times,serif\" font-size=\"14.00\" text-anchor=\"middle\" x=\"130\" y=\"-1547.8\">lambda_1_input: InputLayer</text>\n",
       "</g>\n",
       "<!-- 140398320237592 -->\n",
       "<g class=\"node\" id=\"node2\"><title>140398320237592</title>\n",
       "<polygon fill=\"none\" points=\"68.5,-1460.5 68.5,-1496.5 191.5,-1496.5 191.5,-1460.5 68.5,-1460.5\" stroke=\"black\"/>\n",
       "<text font-family=\"Times,serif\" font-size=\"14.00\" text-anchor=\"middle\" x=\"130\" y=\"-1474.8\">lambda_1: Lambda</text>\n",
       "</g>\n",
       "<!-- 140396960945096&#45;&gt;140398320237592 -->\n",
       "<g class=\"edge\" id=\"edge1\"><title>140396960945096-&gt;140398320237592</title>\n",
       "<path d=\"M130,-1533.31C130,-1525.29 130,-1515.55 130,-1506.57\" fill=\"none\" stroke=\"black\"/>\n",
       "<polygon fill=\"black\" points=\"133.5,-1506.53 130,-1496.53 126.5,-1506.53 133.5,-1506.53\" stroke=\"black\"/>\n",
       "</g>\n",
       "<!-- 140396961092216 -->\n",
       "<g class=\"node\" id=\"node3\"><title>140396961092216</title>\n",
       "<polygon fill=\"none\" points=\"68.5,-1387.5 68.5,-1423.5 191.5,-1423.5 191.5,-1387.5 68.5,-1387.5\" stroke=\"black\"/>\n",
       "<text font-family=\"Times,serif\" font-size=\"14.00\" text-anchor=\"middle\" x=\"130\" y=\"-1401.8\">conv2d_1: Conv2D</text>\n",
       "</g>\n",
       "<!-- 140398320237592&#45;&gt;140396961092216 -->\n",
       "<g class=\"edge\" id=\"edge2\"><title>140398320237592-&gt;140396961092216</title>\n",
       "<path d=\"M130,-1460.31C130,-1452.29 130,-1442.55 130,-1433.57\" fill=\"none\" stroke=\"black\"/>\n",
       "<polygon fill=\"black\" points=\"133.5,-1433.53 130,-1423.53 126.5,-1433.53 133.5,-1433.53\" stroke=\"black\"/>\n",
       "</g>\n",
       "<!-- 140396961758904 -->\n",
       "<g class=\"node\" id=\"node4\"><title>140396961758904</title>\n",
       "<polygon fill=\"none\" points=\"46,-1314.5 46,-1350.5 214,-1350.5 214,-1314.5 46,-1314.5\" stroke=\"black\"/>\n",
       "<text font-family=\"Times,serif\" font-size=\"14.00\" text-anchor=\"middle\" x=\"130\" y=\"-1328.8\">leaky_re_lu_1: LeakyReLU</text>\n",
       "</g>\n",
       "<!-- 140396961092216&#45;&gt;140396961758904 -->\n",
       "<g class=\"edge\" id=\"edge3\"><title>140396961092216-&gt;140396961758904</title>\n",
       "<path d=\"M130,-1387.31C130,-1379.29 130,-1369.55 130,-1360.57\" fill=\"none\" stroke=\"black\"/>\n",
       "<polygon fill=\"black\" points=\"133.5,-1360.53 130,-1350.53 126.5,-1360.53 133.5,-1360.53\" stroke=\"black\"/>\n",
       "</g>\n",
       "<!-- 140398320291968 -->\n",
       "<g class=\"node\" id=\"node5\"><title>140398320291968</title>\n",
       "<polygon fill=\"none\" points=\"0,-1241.5 0,-1277.5 260,-1277.5 260,-1241.5 0,-1241.5\" stroke=\"black\"/>\n",
       "<text font-family=\"Times,serif\" font-size=\"14.00\" text-anchor=\"middle\" x=\"130\" y=\"-1255.8\">batch_normalization_1: BatchNormalization</text>\n",
       "</g>\n",
       "<!-- 140396961758904&#45;&gt;140398320291968 -->\n",
       "<g class=\"edge\" id=\"edge4\"><title>140396961758904-&gt;140398320291968</title>\n",
       "<path d=\"M130,-1314.31C130,-1306.29 130,-1296.55 130,-1287.57\" fill=\"none\" stroke=\"black\"/>\n",
       "<polygon fill=\"black\" points=\"133.5,-1287.53 130,-1277.53 126.5,-1287.53 133.5,-1287.53\" stroke=\"black\"/>\n",
       "</g>\n",
       "<!-- 140398320294208 -->\n",
       "<g class=\"node\" id=\"node6\"><title>140398320294208</title>\n",
       "<polygon fill=\"none\" points=\"68.5,-1168.5 68.5,-1204.5 191.5,-1204.5 191.5,-1168.5 68.5,-1168.5\" stroke=\"black\"/>\n",
       "<text font-family=\"Times,serif\" font-size=\"14.00\" text-anchor=\"middle\" x=\"130\" y=\"-1182.8\">conv2d_2: Conv2D</text>\n",
       "</g>\n",
       "<!-- 140398320291968&#45;&gt;140398320294208 -->\n",
       "<g class=\"edge\" id=\"edge5\"><title>140398320291968-&gt;140398320294208</title>\n",
       "<path d=\"M130,-1241.31C130,-1233.29 130,-1223.55 130,-1214.57\" fill=\"none\" stroke=\"black\"/>\n",
       "<polygon fill=\"black\" points=\"133.5,-1214.53 130,-1204.53 126.5,-1214.53 133.5,-1214.53\" stroke=\"black\"/>\n",
       "</g>\n",
       "<!-- 140398320294880 -->\n",
       "<g class=\"node\" id=\"node7\"><title>140398320294880</title>\n",
       "<polygon fill=\"none\" points=\"46,-1095.5 46,-1131.5 214,-1131.5 214,-1095.5 46,-1095.5\" stroke=\"black\"/>\n",
       "<text font-family=\"Times,serif\" font-size=\"14.00\" text-anchor=\"middle\" x=\"130\" y=\"-1109.8\">leaky_re_lu_2: LeakyReLU</text>\n",
       "</g>\n",
       "<!-- 140398320294208&#45;&gt;140398320294880 -->\n",
       "<g class=\"edge\" id=\"edge6\"><title>140398320294208-&gt;140398320294880</title>\n",
       "<path d=\"M130,-1168.31C130,-1160.29 130,-1150.55 130,-1141.57\" fill=\"none\" stroke=\"black\"/>\n",
       "<polygon fill=\"black\" points=\"133.5,-1141.53 130,-1131.53 126.5,-1141.53 133.5,-1141.53\" stroke=\"black\"/>\n",
       "</g>\n",
       "<!-- 140398320295720 -->\n",
       "<g class=\"node\" id=\"node8\"><title>140398320295720</title>\n",
       "<polygon fill=\"none\" points=\"26.5,-1022.5 26.5,-1058.5 233.5,-1058.5 233.5,-1022.5 26.5,-1022.5\" stroke=\"black\"/>\n",
       "<text font-family=\"Times,serif\" font-size=\"14.00\" text-anchor=\"middle\" x=\"130\" y=\"-1036.8\">max_pooling2d_1: MaxPooling2D</text>\n",
       "</g>\n",
       "<!-- 140398320294880&#45;&gt;140398320295720 -->\n",
       "<g class=\"edge\" id=\"edge7\"><title>140398320294880-&gt;140398320295720</title>\n",
       "<path d=\"M130,-1095.31C130,-1087.29 130,-1077.55 130,-1068.57\" fill=\"none\" stroke=\"black\"/>\n",
       "<polygon fill=\"black\" points=\"133.5,-1068.53 130,-1058.53 126.5,-1068.53 133.5,-1068.53\" stroke=\"black\"/>\n",
       "</g>\n",
       "<!-- 140398320293536 -->\n",
       "<g class=\"node\" id=\"node9\"><title>140398320293536</title>\n",
       "<polygon fill=\"none\" points=\"0,-949.5 0,-985.5 260,-985.5 260,-949.5 0,-949.5\" stroke=\"black\"/>\n",
       "<text font-family=\"Times,serif\" font-size=\"14.00\" text-anchor=\"middle\" x=\"130\" y=\"-963.8\">batch_normalization_2: BatchNormalization</text>\n",
       "</g>\n",
       "<!-- 140398320295720&#45;&gt;140398320293536 -->\n",
       "<g class=\"edge\" id=\"edge8\"><title>140398320295720-&gt;140398320293536</title>\n",
       "<path d=\"M130,-1022.31C130,-1014.29 130,-1004.55 130,-995.569\" fill=\"none\" stroke=\"black\"/>\n",
       "<polygon fill=\"black\" points=\"133.5,-995.529 130,-985.529 126.5,-995.529 133.5,-995.529\" stroke=\"black\"/>\n",
       "</g>\n",
       "<!-- 140398320643488 -->\n",
       "<g class=\"node\" id=\"node10\"><title>140398320643488</title>\n",
       "<polygon fill=\"none\" points=\"68.5,-876.5 68.5,-912.5 191.5,-912.5 191.5,-876.5 68.5,-876.5\" stroke=\"black\"/>\n",
       "<text font-family=\"Times,serif\" font-size=\"14.00\" text-anchor=\"middle\" x=\"130\" y=\"-890.8\">conv2d_3: Conv2D</text>\n",
       "</g>\n",
       "<!-- 140398320293536&#45;&gt;140398320643488 -->\n",
       "<g class=\"edge\" id=\"edge9\"><title>140398320293536-&gt;140398320643488</title>\n",
       "<path d=\"M130,-949.313C130,-941.289 130,-931.547 130,-922.569\" fill=\"none\" stroke=\"black\"/>\n",
       "<polygon fill=\"black\" points=\"133.5,-922.529 130,-912.529 126.5,-922.529 133.5,-922.529\" stroke=\"black\"/>\n",
       "</g>\n",
       "<!-- 140396962060048 -->\n",
       "<g class=\"node\" id=\"node11\"><title>140396962060048</title>\n",
       "<polygon fill=\"none\" points=\"46,-803.5 46,-839.5 214,-839.5 214,-803.5 46,-803.5\" stroke=\"black\"/>\n",
       "<text font-family=\"Times,serif\" font-size=\"14.00\" text-anchor=\"middle\" x=\"130\" y=\"-817.8\">leaky_re_lu_3: LeakyReLU</text>\n",
       "</g>\n",
       "<!-- 140398320643488&#45;&gt;140396962060048 -->\n",
       "<g class=\"edge\" id=\"edge10\"><title>140398320643488-&gt;140396962060048</title>\n",
       "<path d=\"M130,-876.313C130,-868.289 130,-858.547 130,-849.569\" fill=\"none\" stroke=\"black\"/>\n",
       "<polygon fill=\"black\" points=\"133.5,-849.529 130,-839.529 126.5,-849.529 133.5,-849.529\" stroke=\"black\"/>\n",
       "</g>\n",
       "<!-- 140396960493752 -->\n",
       "<g class=\"node\" id=\"node12\"><title>140396960493752</title>\n",
       "<polygon fill=\"none\" points=\"0,-730.5 0,-766.5 260,-766.5 260,-730.5 0,-730.5\" stroke=\"black\"/>\n",
       "<text font-family=\"Times,serif\" font-size=\"14.00\" text-anchor=\"middle\" x=\"130\" y=\"-744.8\">batch_normalization_3: BatchNormalization</text>\n",
       "</g>\n",
       "<!-- 140396962060048&#45;&gt;140396960493752 -->\n",
       "<g class=\"edge\" id=\"edge11\"><title>140396962060048-&gt;140396960493752</title>\n",
       "<path d=\"M130,-803.313C130,-795.289 130,-785.547 130,-776.569\" fill=\"none\" stroke=\"black\"/>\n",
       "<polygon fill=\"black\" points=\"133.5,-776.529 130,-766.529 126.5,-776.529 133.5,-776.529\" stroke=\"black\"/>\n",
       "</g>\n",
       "<!-- 140396960527696 -->\n",
       "<g class=\"node\" id=\"node13\"><title>140396960527696</title>\n",
       "<polygon fill=\"none\" points=\"68.5,-657.5 68.5,-693.5 191.5,-693.5 191.5,-657.5 68.5,-657.5\" stroke=\"black\"/>\n",
       "<text font-family=\"Times,serif\" font-size=\"14.00\" text-anchor=\"middle\" x=\"130\" y=\"-671.8\">conv2d_4: Conv2D</text>\n",
       "</g>\n",
       "<!-- 140396960493752&#45;&gt;140396960527696 -->\n",
       "<g class=\"edge\" id=\"edge12\"><title>140396960493752-&gt;140396960527696</title>\n",
       "<path d=\"M130,-730.313C130,-722.289 130,-712.547 130,-703.569\" fill=\"none\" stroke=\"black\"/>\n",
       "<polygon fill=\"black\" points=\"133.5,-703.529 130,-693.529 126.5,-703.529 133.5,-703.529\" stroke=\"black\"/>\n",
       "</g>\n",
       "<!-- 140396961435944 -->\n",
       "<g class=\"node\" id=\"node14\"><title>140396961435944</title>\n",
       "<polygon fill=\"none\" points=\"46,-584.5 46,-620.5 214,-620.5 214,-584.5 46,-584.5\" stroke=\"black\"/>\n",
       "<text font-family=\"Times,serif\" font-size=\"14.00\" text-anchor=\"middle\" x=\"130\" y=\"-598.8\">leaky_re_lu_4: LeakyReLU</text>\n",
       "</g>\n",
       "<!-- 140396960527696&#45;&gt;140396961435944 -->\n",
       "<g class=\"edge\" id=\"edge13\"><title>140396960527696-&gt;140396961435944</title>\n",
       "<path d=\"M130,-657.313C130,-649.289 130,-639.547 130,-630.569\" fill=\"none\" stroke=\"black\"/>\n",
       "<polygon fill=\"black\" points=\"133.5,-630.529 130,-620.529 126.5,-630.529 133.5,-630.529\" stroke=\"black\"/>\n",
       "</g>\n",
       "<!-- 140396960985040 -->\n",
       "<g class=\"node\" id=\"node15\"><title>140396960985040</title>\n",
       "<polygon fill=\"none\" points=\"26.5,-511.5 26.5,-547.5 233.5,-547.5 233.5,-511.5 26.5,-511.5\" stroke=\"black\"/>\n",
       "<text font-family=\"Times,serif\" font-size=\"14.00\" text-anchor=\"middle\" x=\"130\" y=\"-525.8\">max_pooling2d_2: MaxPooling2D</text>\n",
       "</g>\n",
       "<!-- 140396961435944&#45;&gt;140396960985040 -->\n",
       "<g class=\"edge\" id=\"edge14\"><title>140396961435944-&gt;140396960985040</title>\n",
       "<path d=\"M130,-584.313C130,-576.289 130,-566.547 130,-557.569\" fill=\"none\" stroke=\"black\"/>\n",
       "<polygon fill=\"black\" points=\"133.5,-557.529 130,-547.529 126.5,-557.529 133.5,-557.529\" stroke=\"black\"/>\n",
       "</g>\n",
       "<!-- 140396960619208 -->\n",
       "<g class=\"node\" id=\"node16\"><title>140396960619208</title>\n",
       "<polygon fill=\"none\" points=\"75,-438.5 75,-474.5 185,-474.5 185,-438.5 75,-438.5\" stroke=\"black\"/>\n",
       "<text font-family=\"Times,serif\" font-size=\"14.00\" text-anchor=\"middle\" x=\"130\" y=\"-452.8\">flatten_1: Flatten</text>\n",
       "</g>\n",
       "<!-- 140396960985040&#45;&gt;140396960619208 -->\n",
       "<g class=\"edge\" id=\"edge15\"><title>140396960985040-&gt;140396960619208</title>\n",
       "<path d=\"M130,-511.313C130,-503.289 130,-493.547 130,-484.569\" fill=\"none\" stroke=\"black\"/>\n",
       "<polygon fill=\"black\" points=\"133.5,-484.529 130,-474.529 126.5,-484.529 133.5,-484.529\" stroke=\"black\"/>\n",
       "</g>\n",
       "<!-- 140396960619320 -->\n",
       "<g class=\"node\" id=\"node17\"><title>140396960619320</title>\n",
       "<polygon fill=\"none\" points=\"0,-365.5 0,-401.5 260,-401.5 260,-365.5 0,-365.5\" stroke=\"black\"/>\n",
       "<text font-family=\"Times,serif\" font-size=\"14.00\" text-anchor=\"middle\" x=\"130\" y=\"-379.8\">batch_normalization_4: BatchNormalization</text>\n",
       "</g>\n",
       "<!-- 140396960619208&#45;&gt;140396960619320 -->\n",
       "<g class=\"edge\" id=\"edge16\"><title>140396960619208-&gt;140396960619320</title>\n",
       "<path d=\"M130,-438.313C130,-430.289 130,-420.547 130,-411.569\" fill=\"none\" stroke=\"black\"/>\n",
       "<polygon fill=\"black\" points=\"133.5,-411.529 130,-401.529 126.5,-411.529 133.5,-411.529\" stroke=\"black\"/>\n",
       "</g>\n",
       "<!-- 140396960617920 -->\n",
       "<g class=\"node\" id=\"node18\"><title>140396960617920</title>\n",
       "<polygon fill=\"none\" points=\"79,-292.5 79,-328.5 181,-328.5 181,-292.5 79,-292.5\" stroke=\"black\"/>\n",
       "<text font-family=\"Times,serif\" font-size=\"14.00\" text-anchor=\"middle\" x=\"130\" y=\"-306.8\">dense_1: Dense</text>\n",
       "</g>\n",
       "<!-- 140396960619320&#45;&gt;140396960617920 -->\n",
       "<g class=\"edge\" id=\"edge17\"><title>140396960619320-&gt;140396960617920</title>\n",
       "<path d=\"M130,-365.313C130,-357.289 130,-347.547 130,-338.569\" fill=\"none\" stroke=\"black\"/>\n",
       "<polygon fill=\"black\" points=\"133.5,-338.529 130,-328.529 126.5,-338.529 133.5,-338.529\" stroke=\"black\"/>\n",
       "</g>\n",
       "<!-- 140396960618928 -->\n",
       "<g class=\"node\" id=\"node19\"><title>140396960618928</title>\n",
       "<polygon fill=\"none\" points=\"46,-219.5 46,-255.5 214,-255.5 214,-219.5 46,-219.5\" stroke=\"black\"/>\n",
       "<text font-family=\"Times,serif\" font-size=\"14.00\" text-anchor=\"middle\" x=\"130\" y=\"-233.8\">leaky_re_lu_5: LeakyReLU</text>\n",
       "</g>\n",
       "<!-- 140396960617920&#45;&gt;140396960618928 -->\n",
       "<g class=\"edge\" id=\"edge18\"><title>140396960617920-&gt;140396960618928</title>\n",
       "<path d=\"M130,-292.313C130,-284.289 130,-274.547 130,-265.569\" fill=\"none\" stroke=\"black\"/>\n",
       "<polygon fill=\"black\" points=\"133.5,-265.529 130,-255.529 126.5,-265.529 133.5,-265.529\" stroke=\"black\"/>\n",
       "</g>\n",
       "<!-- 140396960619264 -->\n",
       "<g class=\"node\" id=\"node20\"><title>140396960619264</title>\n",
       "<polygon fill=\"none\" points=\"0,-146.5 0,-182.5 260,-182.5 260,-146.5 0,-146.5\" stroke=\"black\"/>\n",
       "<text font-family=\"Times,serif\" font-size=\"14.00\" text-anchor=\"middle\" x=\"130\" y=\"-160.8\">batch_normalization_5: BatchNormalization</text>\n",
       "</g>\n",
       "<!-- 140396960618928&#45;&gt;140396960619264 -->\n",
       "<g class=\"edge\" id=\"edge19\"><title>140396960618928-&gt;140396960619264</title>\n",
       "<path d=\"M130,-219.313C130,-211.289 130,-201.547 130,-192.569\" fill=\"none\" stroke=\"black\"/>\n",
       "<polygon fill=\"black\" points=\"133.5,-192.529 130,-182.529 126.5,-192.529 133.5,-192.529\" stroke=\"black\"/>\n",
       "</g>\n",
       "<!-- 140396960618536 -->\n",
       "<g class=\"node\" id=\"node21\"><title>140396960618536</title>\n",
       "<polygon fill=\"none\" points=\"67.5,-73.5 67.5,-109.5 192.5,-109.5 192.5,-73.5 67.5,-73.5\" stroke=\"black\"/>\n",
       "<text font-family=\"Times,serif\" font-size=\"14.00\" text-anchor=\"middle\" x=\"130\" y=\"-87.8\">dropout_1: Dropout</text>\n",
       "</g>\n",
       "<!-- 140396960619264&#45;&gt;140396960618536 -->\n",
       "<g class=\"edge\" id=\"edge20\"><title>140396960619264-&gt;140396960618536</title>\n",
       "<path d=\"M130,-146.313C130,-138.289 130,-128.547 130,-119.569\" fill=\"none\" stroke=\"black\"/>\n",
       "<polygon fill=\"black\" points=\"133.5,-119.529 130,-109.529 126.5,-119.529 133.5,-119.529\" stroke=\"black\"/>\n",
       "</g>\n",
       "<!-- 140396960888368 -->\n",
       "<g class=\"node\" id=\"node22\"><title>140396960888368</title>\n",
       "<polygon fill=\"none\" points=\"79,-0.5 79,-36.5 181,-36.5 181,-0.5 79,-0.5\" stroke=\"black\"/>\n",
       "<text font-family=\"Times,serif\" font-size=\"14.00\" text-anchor=\"middle\" x=\"130\" y=\"-14.8\">dense_2: Dense</text>\n",
       "</g>\n",
       "<!-- 140396960618536&#45;&gt;140396960888368 -->\n",
       "<g class=\"edge\" id=\"edge21\"><title>140396960618536-&gt;140396960888368</title>\n",
       "<path d=\"M130,-73.3129C130,-65.2895 130,-55.5475 130,-46.5691\" fill=\"none\" stroke=\"black\"/>\n",
       "<polygon fill=\"black\" points=\"133.5,-46.5288 130,-36.5288 126.5,-46.5289 133.5,-46.5288\" stroke=\"black\"/>\n",
       "</g>\n",
       "</g>\n",
       "</svg>"
      ],
      "text/plain": [
       "<IPython.core.display.SVG object>"
      ]
     },
     "execution_count": 58,
     "metadata": {},
     "output_type": "execute_result"
    }
   ],
   "source": [
    "# fix for python3\n",
    "import pydotplus as pydot\n",
    "\n",
    "from keras.utils import plot_model\n",
    "plot_model(models[0], to_file='model.png')\n",
    "\n",
    "# visualize our model\n",
    "from IPython.display import SVG\n",
    "from keras.utils.vis_utils import model_to_dot\n",
    "SVG(model_to_dot(models[0]).create(prog='dot', format='svg'))"
   ]
  },
  {
   "cell_type": "markdown",
   "metadata": {},
   "source": [
    "# Visualize Predictions\n",
    "Here we compute the predictions from a single model or ensemble. As well as looking at the overall metrics, it's also a good idea to look at examples of:\n",
    "1. A few correct labels at random\n",
    "2. A few incorrect labels at random\n",
    "\n",
    "todo: show labels with highest/lowest uncertainty (it may be necessary to change the softmax activation to something else)"
   ]
  },
  {
   "cell_type": "markdown",
   "metadata": {},
   "source": [
    "## Compute predictions for best performing single model"
   ]
  },
  {
   "cell_type": "code",
   "execution_count": 67,
   "metadata": {
    "collapsed": true
   },
   "outputs": [],
   "source": [
    "m = create_model()"
   ]
  },
  {
   "cell_type": "code",
   "execution_count": 68,
   "metadata": {
    "collapsed": true
   },
   "outputs": [],
   "source": [
    "# load saved weights\n",
    "m.load_weights(\"weights/weights_model_0.4.pkl\")"
   ]
  },
  {
   "cell_type": "code",
   "execution_count": 69,
   "metadata": {},
   "outputs": [
    {
     "name": "stdout",
     "output_type": "stream",
     "text": [
      "38912/40000 [============================>.] - ETA: 0s"
     ]
    }
   ],
   "source": [
    "# predict classes\n",
    "preds = m.predict_classes(x_test, batch_size=eval_batch_size)"
   ]
  },
  {
   "cell_type": "code",
   "execution_count": 70,
   "metadata": {},
   "outputs": [
    {
     "data": {
      "text/plain": [
       "(40000,)"
      ]
     },
     "execution_count": 70,
     "metadata": {},
     "output_type": "execute_result"
    }
   ],
   "source": [
    "preds.shape"
   ]
  },
  {
   "cell_type": "markdown",
   "metadata": {},
   "source": [
    "## or compute predictions for ensemble\n",
    "Load model weights and compute predictions."
   ]
  },
  {
   "cell_type": "code",
   "execution_count": 105,
   "metadata": {
    "collapsed": true
   },
   "outputs": [],
   "source": [
    "# specify which weights to load\n",
    "weights_epoch = 256\n",
    "dropout = \"0.2\""
   ]
  },
  {
   "cell_type": "code",
   "execution_count": 106,
   "metadata": {
    "collapsed": true
   },
   "outputs": [],
   "source": [
    "models = []\n",
    "\n",
    "for i in range(10):\n",
    "    m = create_model()\n",
    "    m.load_weights('dropout_{}/weights/{}epochs_weights_model_{}.pkl'.format(dropout, weights_epoch, i))\n",
    "    models.append(m)"
   ]
  },
  {
   "cell_type": "code",
   "execution_count": 107,
   "metadata": {
    "collapsed": true
   },
   "outputs": [],
   "source": [
    "all_preds = np.stack([m.predict(x_test, batch_size=eval_batch_size) for m in models])"
   ]
  },
  {
   "cell_type": "code",
   "execution_count": 108,
   "metadata": {
    "collapsed": true
   },
   "outputs": [],
   "source": [
    "avg_preds = all_preds.mean(axis=0)"
   ]
  },
  {
   "cell_type": "code",
   "execution_count": 109,
   "metadata": {
    "collapsed": true
   },
   "outputs": [],
   "source": [
    "# decode a one hot encoded string\n",
    "def one_hot_decode(encoded_seq):\n",
    "    return [np.argmax(vector) for vector in encoded_seq]"
   ]
  },
  {
   "cell_type": "code",
   "execution_count": 110,
   "metadata": {},
   "outputs": [],
   "source": [
    "preds = np.array(one_hot_decode(avg_preds))"
   ]
  },
  {
   "cell_type": "code",
   "execution_count": 111,
   "metadata": {},
   "outputs": [
    {
     "data": {
      "text/plain": [
       "(40000,)"
      ]
     },
     "execution_count": 111,
     "metadata": {},
     "output_type": "execute_result"
    }
   ],
   "source": [
    "preds.shape"
   ]
  },
  {
   "cell_type": "code",
   "execution_count": 112,
   "metadata": {
    "scrolled": true
   },
   "outputs": [
    {
     "data": {
      "text/plain": [
       "0.16750097274780273"
      ]
     },
     "execution_count": 112,
     "metadata": {},
     "output_type": "execute_result"
    }
   ],
   "source": [
    "# display error rate in percent to check we have loaded the weights we wanted\n",
    "(1 - keras.metrics.categorical_accuracy(y_test, avg_preds).eval().mean()) * 100"
   ]
  },
  {
   "cell_type": "markdown",
   "metadata": {},
   "source": [
    "## Visualise computed predictions"
   ]
  },
  {
   "cell_type": "code",
   "execution_count": 113,
   "metadata": {},
   "outputs": [
    {
     "data": {
      "text/plain": [
       "(40000,)"
      ]
     },
     "execution_count": 113,
     "metadata": {},
     "output_type": "execute_result"
    }
   ],
   "source": [
    "test_labels.shape"
   ]
  },
  {
   "cell_type": "code",
   "execution_count": 114,
   "metadata": {
    "collapsed": true
   },
   "outputs": [],
   "source": [
    "correct = np.where(preds==test_labels)[0]"
   ]
  },
  {
   "cell_type": "code",
   "execution_count": 115,
   "metadata": {
    "collapsed": true
   },
   "outputs": [],
   "source": [
    "incorrect = np.where(preds!=test_labels)[0]"
   ]
  },
  {
   "cell_type": "code",
   "execution_count": 116,
   "metadata": {},
   "outputs": [
    {
     "data": {
      "text/plain": [
       "(39933,)"
      ]
     },
     "execution_count": 116,
     "metadata": {},
     "output_type": "execute_result"
    }
   ],
   "source": [
    "correct.shape"
   ]
  },
  {
   "cell_type": "code",
   "execution_count": 117,
   "metadata": {},
   "outputs": [
    {
     "data": {
      "text/plain": [
       "(67,)"
      ]
     },
     "execution_count": 117,
     "metadata": {},
     "output_type": "execute_result"
    }
   ],
   "source": [
    "incorrect.shape"
   ]
  },
  {
   "cell_type": "code",
   "execution_count": 127,
   "metadata": {
    "collapsed": true
   },
   "outputs": [],
   "source": [
    "# number of images to view\n",
    "n_view = 67"
   ]
  },
  {
   "cell_type": "code",
   "execution_count": 119,
   "metadata": {
    "collapsed": true
   },
   "outputs": [],
   "source": [
    "from numpy.random import permutation\n",
    "\n",
    "# get a random selection of correctly predicted images\n",
    "idx = permutation(correct)[:n_view]\n",
    "idx_incorrect = permutation(incorrect)[:n_view]"
   ]
  },
  {
   "cell_type": "code",
   "execution_count": 120,
   "metadata": {
    "collapsed": true
   },
   "outputs": [],
   "source": [
    "preds_correct = preds[idx]\n",
    "preds_incorrect = preds[idx_incorrect]"
   ]
  },
  {
   "cell_type": "code",
   "execution_count": 121,
   "metadata": {
    "collapsed": true
   },
   "outputs": [],
   "source": [
    "imgs = x_test[idx]\n",
    "imgs_incorrect = x_test[idx_incorrect]"
   ]
  },
  {
   "cell_type": "code",
   "execution_count": 122,
   "metadata": {},
   "outputs": [
    {
     "data": {
      "text/plain": [
       "(70, 1, 28, 28)"
      ]
     },
     "execution_count": 122,
     "metadata": {},
     "output_type": "execute_result"
    }
   ],
   "source": [
    "imgs.shape"
   ]
  },
  {
   "cell_type": "markdown",
   "metadata": {},
   "source": [
    "## A few correct labels at random"
   ]
  },
  {
   "cell_type": "code",
   "execution_count": 124,
   "metadata": {},
   "outputs": [
    {
     "data": {
      "image/png": "[encoded data removed]",
      "text/plain": [
       "<matplotlib.figure.Figure at 0x7fb0953554a8>"
      ]
     },
     "metadata": {},
     "output_type": "display_data"
    }
   ],
   "source": [
    "f = plt.figure(figsize=(12,6))\n",
    "\n",
    "for i in range(30):\n",
    "    sp = f.add_subplot(3, 10, i+1)\n",
    "    sp.axis('Off')\n",
    "    sp.set_title(preds_correct[i])\n",
    "    img = imgs[i].astype('float32')\n",
    "    plt.imshow(img[0], cmap='gray')"
   ]
  },
  {
   "cell_type": "code",
   "execution_count": 125,
   "metadata": {},
   "outputs": [
    {
     "data": {
      "text/plain": [
       "array([4, 8, 8, 7, 0, 7, 2, 2, 9, 3, 0, 3, 5, 2, 0, 2, 1, 1, 8, 7, 7, 8, 9,\n",
       "       0, 4, 4, 9, 4, 9, 8, 7, 0, 2, 9, 1, 8, 9, 7, 8, 2, 3, 7, 1, 8, 6, 1,\n",
       "       3, 7, 7, 8, 3, 8, 5, 7, 7, 0, 1, 9, 6, 7, 9, 2, 6, 6, 4, 0, 0, 6, 7,\n",
       "       6], dtype=uint8)"
      ]
     },
     "execution_count": 125,
     "metadata": {},
     "output_type": "execute_result"
    }
   ],
   "source": [
    "# ground truth labels\n",
    "test_labels[idx]"
   ]
  },
  {
   "cell_type": "markdown",
   "metadata": {},
   "source": [
    "## All incorrect labels"
   ]
  },
  {
   "cell_type": "code",
   "execution_count": 131,
   "metadata": {},
   "outputs": [
    {
     "data": {
      "image/png": "[encoded data removed]",
      "text/plain": [
       "<matplotlib.figure.Figure at 0x7fb094e93d30>"
      ]
     },
     "metadata": {},
     "output_type": "display_data"
    }
   ],
   "source": [
    "f = plt.figure(figsize=(12,10))\n",
    "\n",
    "for i in range(n_view): \n",
    "    sp = f.add_subplot(7, 10, i+1)\n",
    "    sp.axis('Off')\n",
    "    sp.set_title(\"{} | {}\".format(preds_incorrect[i],test_labels[idx_incorrect][i]))\n",
    "    img = imgs_incorrect[i].astype('float32')\n",
    "    plt.imshow(img[0], cmap='gray')"
   ]
  },
  {
   "cell_type": "code",
   "execution_count": 132,
   "metadata": {},
   "outputs": [
    {
     "data": {
      "text/plain": [
       "array([9, 6, 5, 3, 6, 0, 4, 8, 3, 2, 5, 4, 1, 9, 3, 7, 3, 4, 4, 4, 0, 2, 1,\n",
       "       5, 5, 9, 3, 7, 6, 3, 2, 1, 8, 9, 1, 8, 0, 3, 9, 8, 4, 3, 5, 9, 4, 6,\n",
       "       4, 5, 0, 7, 4, 8, 4, 8, 4, 7, 9, 7, 8, 6, 1, 9, 8, 6, 0, 4, 4], dtype=uint8)"
      ]
     },
     "execution_count": 132,
     "metadata": {},
     "output_type": "execute_result"
    }
   ],
   "source": [
    "# ground truth labels\n",
    "test_labels[idx_incorrect]"
   ]
  },
  {
   "cell_type": "markdown",
   "metadata": {},
   "source": [
    "# Print confusion matrix"
   ]
  },
  {
   "cell_type": "markdown",
   "metadata": {},
   "source": [
    "Plot unnormalized and normalized confusion matrices. Code adapted from \n",
    "http://scikit-learn.org/stable/auto_examples/model_selection/plot_confusion_matrix.html\n"
   ]
  },
  {
   "cell_type": "code",
   "execution_count": 133,
   "metadata": {
    "collapsed": true
   },
   "outputs": [],
   "source": [
    "def plot_confusion_matrix(cm, classes,\n",
    "                          normalize=False,\n",
    "                          title='Confusion matrix',\n",
    "                          cmap=plt.cm.Blues):\n",
    "    \"\"\"\n",
    "    This function prints and plots the confusion matrix.\n",
    "    Normalization can be applied by setting `normalize=True`.\n",
    "    \"\"\"\n",
    "    if normalize:\n",
    "        cm = cm.astype('float') / cm.sum(axis=1)[:, np.newaxis]\n",
    "        print(\"Normalized confusion matrix\")\n",
    "    else:\n",
    "        print('Confusion matrix, without normalization')\n",
    "\n",
    "    print(cm)\n",
    "\n",
    "    plt.imshow(cm, interpolation='nearest', cmap=cmap)\n",
    "    plt.title(title)\n",
    "    plt.colorbar()\n",
    "    tick_marks = np.arange(len(classes))\n",
    "    plt.xticks(tick_marks, classes, rotation=45)\n",
    "    plt.yticks(tick_marks, classes)\n",
    "\n",
    "    fmt = '.2f' if normalize else 'd'\n",
    "    thresh = cm.max() / 2.\n",
    "    for i, j in itertools.product(range(cm.shape[0]), range(cm.shape[1])):\n",
    "        plt.text(j, i, format(cm[i, j], fmt),\n",
    "                 horizontalalignment=\"center\",\n",
    "                 color=\"white\" if cm[i, j] > thresh else \"black\")\n",
    "\n",
    "    plt.tight_layout()\n",
    "    plt.ylabel('True label')\n",
    "    plt.xlabel('Predicted label')"
   ]
  },
  {
   "cell_type": "code",
   "execution_count": 134,
   "metadata": {
    "collapsed": true,
    "scrolled": true
   },
   "outputs": [],
   "source": [
    "# calculate confusion matrix\n",
    "from sklearn.metrics import confusion_matrix\n",
    "cnf_matrix = confusion_matrix(test_labels, preds)"
   ]
  },
  {
   "cell_type": "code",
   "execution_count": 135,
   "metadata": {},
   "outputs": [
    {
     "name": "stdout",
     "output_type": "stream",
     "text": [
      "Confusion matrix, without normalization\n",
      "[[3995    1    0    0    0    1    2    0    0    1]\n",
      " [   0 3995    1    0    0    0    0    3    1    0]\n",
      " [   1    1 3997    0    0    0    0    1    0    0]\n",
      " [   0    0    3 3992    0    3    0    0    2    0]\n",
      " [   1    0    0    0 3987    0    1    2    1    8]\n",
      " [   0    1    0    3    0 3994    1    0    1    0]\n",
      " [   3    0    1    0    1    0 3994    0    1    0]\n",
      " [   0    1    2    0    1    0    0 3995    0    1]\n",
      " [   0    0    1    2    1    1    2    0 3992    1]\n",
      " [   0    0    0    0    4    0    0    2    2 3992]]\n",
      "Normalized confusion matrix\n",
      "[[  9.99e-01   2.50e-04   0.00e+00   0.00e+00   0.00e+00   2.50e-04\n",
      "    5.00e-04   0.00e+00   0.00e+00   2.50e-04]\n",
      " [  0.00e+00   9.99e-01   2.50e-04   0.00e+00   0.00e+00   0.00e+00\n",
      "    0.00e+00   7.50e-04   2.50e-04   0.00e+00]\n",
      " [  2.50e-04   2.50e-04   9.99e-01   0.00e+00   0.00e+00   0.00e+00\n",
      "    0.00e+00   2.50e-04   0.00e+00   0.00e+00]\n",
      " [  0.00e+00   0.00e+00   7.50e-04   9.98e-01   0.00e+00   7.50e-04\n",
      "    0.00e+00   0.00e+00   5.00e-04   0.00e+00]\n",
      " [  2.50e-04   0.00e+00   0.00e+00   0.00e+00   9.97e-01   0.00e+00\n",
      "    2.50e-04   5.00e-04   2.50e-04   2.00e-03]\n",
      " [  0.00e+00   2.50e-04   0.00e+00   7.50e-04   0.00e+00   9.99e-01\n",
      "    2.50e-04   0.00e+00   2.50e-04   0.00e+00]\n",
      " [  7.50e-04   0.00e+00   2.50e-04   0.00e+00   2.50e-04   0.00e+00\n",
      "    9.99e-01   0.00e+00   2.50e-04   0.00e+00]\n",
      " [  0.00e+00   2.50e-04   5.00e-04   0.00e+00   2.50e-04   0.00e+00\n",
      "    0.00e+00   9.99e-01   0.00e+00   2.50e-04]\n",
      " [  0.00e+00   0.00e+00   2.50e-04   5.00e-04   2.50e-04   2.50e-04\n",
      "    5.00e-04   0.00e+00   9.98e-01   2.50e-04]\n",
      " [  0.00e+00   0.00e+00   0.00e+00   0.00e+00   1.00e-03   0.00e+00\n",
      "    0.00e+00   5.00e-04   5.00e-04   9.98e-01]]\n"
     ]
    },
    {
     "data": {
      "image/png": "[encoded data removed]",
      "text/plain": [
       "<matplotlib.figure.Figure at 0x7fb0b53e73c8>"
      ]
     },
     "metadata": {},
     "output_type": "display_data"
    },
    {
     "data": {
      "image/png": "[encoded data removed]",
      "text/plain": [
       "<matplotlib.figure.Figure at 0x7fb0b53e7ef0>"
      ]
     },
     "metadata": {},
     "output_type": "display_data"
    }
   ],
   "source": [
    "import itertools\n",
    "\n",
    "class_names = [i for i in range(10)]\n",
    "np.set_printoptions(precision=2)\n",
    "\n",
    "# Plot non-normalized confusion matrix\n",
    "plt.figure(figsize=(20,5))\n",
    "plot_confusion_matrix(cnf_matrix, classes=class_names,\n",
    "                      title='Confusion matrix, without normalization')\n",
    "\n",
    "# Plot normalized confusion matrix\n",
    "plt.figure(figsize=(20,5))\n",
    "plot_confusion_matrix(cnf_matrix, classes=class_names, normalize=True,\n",
    "                      title='Normalized confusion matrix')\n",
    "\n",
    "plt.show()"
   ]
  },
  {
   "cell_type": "code",
   "execution_count": null,
   "metadata": {
    "collapsed": true
   },
   "outputs": [],
   "source": []
  }
 ],
 "metadata": {
  "kernelspec": {
   "display_name": "Python 3",
   "language": "python",
   "name": "python3"
  },
  "language_info": {
   "codemirror_mode": {
    "name": "ipython",
    "version": 3
   },
   "file_extension": ".py",
   "mimetype": "text/x-python",
   "name": "python",
   "nbconvert_exporter": "python",
   "pygments_lexer": "ipython3",
   "version": "3.6.3"
  }
 },
 "nbformat": 4,
 "nbformat_minor": 2
}
